{
 "cells": [
  {
   "cell_type": "code",
   "execution_count": 116,
   "id": "73aa1b9a",
   "metadata": {},
   "outputs": [],
   "source": [
    "import pandas as pd\n",
    "import numpy as np\n",
    "import plotly.express as px\n",
    "from plotly.offline import iplot, init_notebook_mode\n",
    "\n",
    "# Load the data\n",
    "full_df = pd.read_csv('../data/aggregated_data.csv', parse_dates=['date'])"
   ]
  },
  {
   "cell_type": "code",
   "execution_count": 117,
   "id": "257204a4",
   "metadata": {},
   "outputs": [],
   "source": [
    "# Create one dataframe per channel\n",
    "email_data = full_df[full_df['channel'] == 'Email']\n",
    "ppc_data = full_df[full_df['channel'] == 'PPC']\n",
    "social_data = full_df[full_df['channel'] == 'Social Media']"
   ]
  },
  {
   "cell_type": "markdown",
   "id": "3f25b24b",
   "metadata": {},
   "source": [
    "Total Spend"
   ]
  },
  {
   "cell_type": "code",
   "execution_count": null,
   "id": "339afeb2",
   "metadata": {},
   "outputs": [
    {
     "name": "stdout",
     "output_type": "stream",
     "text": [
      "Total spend on PPC: 107357.76\n",
      "Total spend on Social Media: 53383.98\n"
     ]
    }
   ],
   "source": [
    "# Total spend on PPC\n",
    "ppc_spend = ppc_data[['date', 'spend']].drop_duplicates()\n",
    "total_ppc_spend = ppc_spend['spend'].sum()\n",
    "print(f\"Total spend on PPC: {total_ppc_spend:.2f}\")\n",
    "\n",
    "# Total spend on social media\n",
    "social_spend = social_data[['date', 'spend']].drop_duplicates()\n",
    "total_social_spend = social_spend['spend'].sum()\n",
    "print(f\"Total spend on Social Media: {total_social_spend:.2f}\")"
   ]
  },
  {
   "cell_type": "markdown",
   "id": "c0c222f5",
   "metadata": {},
   "source": [
    "Total Clicks"
   ]
  },
  {
   "cell_type": "code",
   "execution_count": 143,
   "id": "49b0fd08",
   "metadata": {},
   "outputs": [
    {
     "name": "stdout",
     "output_type": "stream",
     "text": [
      "Total clicks on Email: 41540\n",
      "Total clicks on Social Media: 79505\n"
     ]
    }
   ],
   "source": [
    "# Total clicks on email\n",
    "email_clicks = email_data[['date', 'clicks']].drop_duplicates()\n",
    "total_email_clicks = email_clicks['clicks'].sum()\n",
    "print(f\"Total clicks on Email: {total_email_clicks:.0f}\")\n",
    "\n",
    "# Total clicks on social media\n",
    "social_clicks = social_data[['date', 'clicks']].drop_duplicates()\n",
    "total_social_clicks = social_clicks['clicks'].sum()\n",
    "print(f\"Total clicks on Social Media: {total_social_clicks:.0f}\")"
   ]
  },
  {
   "cell_type": "markdown",
   "id": "71814bdc",
   "metadata": {},
   "source": [
    "Total Conversions"
   ]
  },
  {
   "cell_type": "code",
   "execution_count": 118,
   "id": "6e2f0b30",
   "metadata": {},
   "outputs": [
    {
     "name": "stdout",
     "output_type": "stream",
     "text": [
      "Total conversions on Email: 3359\n",
      "Total conversions on PPC: 5211\n",
      "Total conversions on Social Media: 1803\n"
     ]
    }
   ],
   "source": [
    "# Total conversions on email\n",
    "total_email_conversions = len(email_data)\n",
    "print(f\"Total conversions on Email: {total_email_conversions}\")\n",
    "\n",
    "# Total conversions on PPC\n",
    "total_ppc_conversions = len(ppc_data)\n",
    "print(f\"Total conversions on PPC: {total_ppc_conversions}\")\n",
    "\n",
    "# Total conversions on social media\n",
    "total_social_conversions = len(social_data)\n",
    "print(f\"Total conversions on Social Media: {total_social_conversions}\")"
   ]
  },
  {
   "cell_type": "markdown",
   "id": "05c2b5a8",
   "metadata": {},
   "source": [
    "Total Revenue"
   ]
  },
  {
   "cell_type": "code",
   "execution_count": 119,
   "id": "b110ad6e",
   "metadata": {},
   "outputs": [
    {
     "name": "stdout",
     "output_type": "stream",
     "text": [
      "Total revenue on Email: 443545.61\n",
      "Total revenue on PPC: 529386.11\n",
      "Total revenue on Social Media: 142647.07\n"
     ]
    }
   ],
   "source": [
    "# Total revenue on email\n",
    "total_email_revenue = email_data['revenue'].sum()\n",
    "print(f\"Total revenue on Email: {total_email_revenue:.2f}\")\n",
    "\n",
    "# Total revenue on ppc\n",
    "total_ppc_revenue = ppc_data['revenue'].sum()\n",
    "print(f\"Total revenue on PPC: {total_ppc_revenue:.2f}\")\n",
    "\n",
    "# Total revenue on social\n",
    "total_social_revenue = social_data['revenue'].sum()\n",
    "print(f\"Total revenue on Social Media: {total_social_revenue:.2f}\")"
   ]
  },
  {
   "cell_type": "markdown",
   "id": "364aebc3",
   "metadata": {},
   "source": [
    "Click-Through Rate (CTR)"
   ]
  },
  {
   "cell_type": "code",
   "execution_count": 120,
   "id": "f4329b4f",
   "metadata": {},
   "outputs": [
    {
     "name": "stdout",
     "output_type": "stream",
     "text": [
      "CTR for Social Media: 1.50%\n"
     ]
    }
   ],
   "source": [
    "# CTR for social media\n",
    "ctr_df = social_data[['date', 'clicks', 'impressions_social']].drop_duplicates()\n",
    "total_ctr = (ctr_df['clicks'].sum()/ctr_df['impressions_social'].sum())*100\n",
    "print(f\"CTR for Social Media: {total_ctr:.2f}%\")"
   ]
  },
  {
   "cell_type": "markdown",
   "id": "3c86e090",
   "metadata": {},
   "source": [
    "Conversion Rate"
   ]
  },
  {
   "cell_type": "code",
   "execution_count": 121,
   "id": "ad3dad0f",
   "metadata": {},
   "outputs": [
    {
     "name": "stdout",
     "output_type": "stream",
     "text": [
      "CR for Email: 8.09%\n",
      "CR for Social Media: 2.27%\n"
     ]
    }
   ],
   "source": [
    "# Conversion rate for email\n",
    "email_cr = (total_email_conversions/total_email_clicks)*100\n",
    "print(f'CR for Email: {email_cr:.2f}%')\n",
    "\n",
    "# Conversion rate for social media\n",
    "social_cr = (total_social_conversions/total_social_clicks)*100\n",
    "print(f'CR for Social Media: {social_cr:.2f}%')"
   ]
  },
  {
   "cell_type": "markdown",
   "id": "039ad9dc",
   "metadata": {},
   "source": [
    "Cost Per Click (CPC)"
   ]
  },
  {
   "cell_type": "code",
   "execution_count": 122,
   "id": "b3837026",
   "metadata": {},
   "outputs": [
    {
     "name": "stdout",
     "output_type": "stream",
     "text": [
      "CPC for Social Media: 0.67\n"
     ]
    }
   ],
   "source": [
    "# CPC for social media\n",
    "cpc_df = social_data[['date', 'spend', 'clicks']].drop_duplicates()\n",
    "total_cpc = cpc_df['spend'].sum()/cpc_df['clicks'].sum()\n",
    "print(f'CPC for Social Media: {total_cpc:.2f}')"
   ]
  },
  {
   "cell_type": "markdown",
   "id": "8f4b531c",
   "metadata": {},
   "source": [
    "Cost Per Acquisition (CPA)"
   ]
  },
  {
   "cell_type": "code",
   "execution_count": 123,
   "id": "e4c99d58",
   "metadata": {},
   "outputs": [
    {
     "name": "stdout",
     "output_type": "stream",
     "text": [
      "CPA for PPC: 20.60\n",
      "CPA for Social Media: 29.61\n"
     ]
    }
   ],
   "source": [
    "# CPA for PPC\n",
    "ppc_cpa = total_ppc_spend/total_ppc_conversions\n",
    "print(f\"CPA for PPC: {ppc_cpa:.2f}\")\n",
    "\n",
    "# CPA for social media\n",
    "social_cpa = total_social_spend/total_social_conversions\n",
    "print(f\"CPA for Social Media: {social_cpa:.2f}\")"
   ]
  },
  {
   "cell_type": "markdown",
   "id": "e711a1d1",
   "metadata": {},
   "source": [
    "Return On Investment (ROI) and Return On Ad Spend (ROAS)"
   ]
  },
  {
   "cell_type": "code",
   "execution_count": 124,
   "id": "90b0f8b2",
   "metadata": {},
   "outputs": [
    {
     "name": "stdout",
     "output_type": "stream",
     "text": [
      "Total ROAS for Social Media: 2.67\n",
      "Total ROAS for PPC: 4.93\n",
      "Total ROI for Social Media: 1.67\n",
      "Total ROI for PPC: 3.93\n"
     ]
    }
   ],
   "source": [
    "# Daily ROAS and ROI for social media\n",
    "daily_revenue_social = social_data.groupby('date')['revenue'].sum()\n",
    "daily_spend_social = social_data[['date', 'spend']].drop_duplicates().set_index('date')['spend']\n",
    "return_social = pd.DataFrame({'daily_revenue': daily_revenue_social, 'daily_spend': daily_spend_social})\n",
    "\n",
    "return_social['daily_roas'] = return_social['daily_revenue']/return_social['daily_spend']\n",
    "return_social['daily_roi'] = return_social['daily_roas'] - 1\n",
    "\n",
    "# Daily ROAS for PPC\n",
    "daily_revenue_ppc = ppc_data.groupby('date')['revenue'].sum()\n",
    "daily_spend_ppc = ppc_data[['date', 'spend']].drop_duplicates().set_index('date')['spend']\n",
    "return_ppc = pd.DataFrame({'daily_revenue': daily_revenue_ppc, 'daily_spend': daily_spend_ppc})\n",
    "\n",
    "return_ppc['daily_roas'] = return_ppc['daily_revenue']/return_ppc['daily_spend']\n",
    "return_ppc['daily_roi'] = return_ppc['daily_roas'] - 1\n",
    "\n",
    "# Total ROAS and ROI\n",
    "total_roas_social = return_social['daily_revenue'].sum()/return_social['daily_spend'].sum()\n",
    "total_roas_ppc = return_ppc['daily_revenue'].sum()/return_ppc['daily_spend'].sum()\n",
    "print(f\"Total ROAS for Social Media: {total_roas_social:.2f}\\nTotal ROAS for PPC: {total_roas_ppc:.2f}\")\n",
    "\n",
    "total_roi_social = total_roas_social - 1\n",
    "total_roi_ppc = total_roas_ppc - 1\n",
    "print(f\"Total ROI for Social Media: {total_roi_social:.2f}\\nTotal ROI for PPC: {total_roi_ppc:.2f}\")"
   ]
  },
  {
   "cell_type": "markdown",
   "id": "23ce73f0",
   "metadata": {},
   "source": [
    "Which channel has the highest ROI?"
   ]
  },
  {
   "cell_type": "code",
   "execution_count": 125,
   "id": "156e133e",
   "metadata": {},
   "outputs": [
    {
     "name": "stdout",
     "output_type": "stream",
     "text": [
      "The channel with largest ROI is PPC, with 3.93\n"
     ]
    }
   ],
   "source": [
    "if total_roi_social > total_roi_ppc:\n",
    "    print(f\"The channel with largest ROI is Social Media, with {total_roi_social:.2f}\")\n",
    "else:\n",
    "    print(f\"The channel with largest ROI is PPC, with {total_roi_ppc:.2f}\")    "
   ]
  },
  {
   "cell_type": "markdown",
   "id": "58585022",
   "metadata": {},
   "source": [
    "Which channels are the most and least expensive for acquiring a customer (CPA)?"
   ]
  },
  {
   "cell_type": "code",
   "execution_count": 128,
   "id": "02b0c2bc",
   "metadata": {},
   "outputs": [
    {
     "name": "stdout",
     "output_type": "stream",
     "text": [
      "The most expensive channel for acquiring a customer is Social Media, with 29.61.\n",
      "The least expensive is PPC, with 20.60\n"
     ]
    }
   ],
   "source": [
    "if ppc_cpa > social_cpa:\n",
    "    print(f\"The most expensive channel for acquiring a customer is PPC, with {ppc_cpa:.2f}.\"\n",
    "          f\"\\nThe least expensive is Social Media, with {social_cpa:.2f}\")\n",
    "else:\n",
    "    print(f\"The most expensive channel for acquiring a customer is Social Media, with {social_cpa:.2f}.\"\n",
    "          f\"\\nThe least expensive is PPC, with {ppc_cpa:.2f}\")"
   ]
  },
  {
   "cell_type": "markdown",
   "id": "7679112f",
   "metadata": {},
   "source": [
    "Which channel is most effective at converting clicks into sales?"
   ]
  },
  {
   "cell_type": "code",
   "execution_count": 130,
   "id": "c30cfcf8",
   "metadata": {},
   "outputs": [
    {
     "name": "stdout",
     "output_type": "stream",
     "text": [
      "The most effective channel at converting clicks into sales is Email, with a conversion rate of 8.09%.\n"
     ]
    }
   ],
   "source": [
    "if email_cr > social_cr:\n",
    "    print(f\"The most effective channel at converting clicks into sales is Email, \" \n",
    "          f\"with a conversion rate of {email_cr:.2f}%.\")\n",
    "else:\n",
    "    print(f\"The most effective channel at converting clicks into sales is Social Media, \" \n",
    "          f\"with a conversion rate of {social_cr:.2f}%.\")"
   ]
  },
  {
   "cell_type": "markdown",
   "id": "1420b362",
   "metadata": {},
   "source": [
    "Is there any observable trend in performance over time for any of the channels?"
   ]
  },
  {
   "cell_type": "code",
   "execution_count": 133,
   "id": "44426b8f",
   "metadata": {},
   "outputs": [],
   "source": [
    "# Preparing the data\n",
    "roi_plot = return_social.copy().drop(columns=['daily_revenue', 'daily_spend', 'daily_roas']).rename(columns={'daily_roi': 'daily_roi_social'})\n",
    "roi_plot['daily_roi_ppc'] = return_ppc['daily_roi']\n",
    "\n",
    "# Rolling average over 7 days\n",
    "roi_plot['rolling_avg_ppc_7'] = roi_plot['daily_roi_ppc'].rolling(window='7D').mean()\n",
    "roi_plot['rolling_avg_social_7'] = roi_plot['daily_roi_social'].rolling(window='7D').mean()\n",
    "\n",
    "# Rolling average over 30 days\n",
    "roi_plot['rolling_avg_ppc_30'] = roi_plot['daily_roi_ppc'].rolling(window='30D').mean()\n",
    "roi_plot['rolling_avg_social_30'] = roi_plot['daily_roi_social'].rolling(window='30D').mean()\n",
    "\n",
    "# Rolling average over 60 days\n",
    "roi_plot['rolling_avg_ppc_60'] = roi_plot['daily_roi_ppc'].rolling(window='60D').mean()\n",
    "roi_plot['rolling_avg_social_60'] = roi_plot['daily_roi_social'].rolling(window='60D').mean()"
   ]
  },
  {
   "cell_type": "code",
   "execution_count": null,
   "id": "f75c27a3",
   "metadata": {},
   "outputs": [
    {
     "data": {
      "application/vnd.plotly.v1+json": {
       "config": {
        "plotlyServerURL": "https://plot.ly"
       },
       "data": [
        {
         "hovertemplate": "variable=daily_roi_social<br>date=%{x}<br>value=%{y}<extra></extra>",
         "legendgroup": "daily_roi_social",
         "line": {
          "color": "#636efa",
          "dash": "solid"
         },
         "marker": {
          "symbol": "circle"
         },
         "mode": "lines",
         "name": "daily_roi_social",
         "showlegend": true,
         "type": "scattergl",
         "x": [
          "2024-08-01T00:00:00.000000000",
          "2024-08-02T00:00:00.000000000",
          "2024-08-03T00:00:00.000000000",
          "2024-08-04T00:00:00.000000000",
          "2024-08-05T00:00:00.000000000",
          "2024-08-06T00:00:00.000000000",
          "2024-08-07T00:00:00.000000000",
          "2024-08-08T00:00:00.000000000",
          "2024-08-09T00:00:00.000000000",
          "2024-08-10T00:00:00.000000000",
          "2024-08-11T00:00:00.000000000",
          "2024-08-12T00:00:00.000000000",
          "2024-08-13T00:00:00.000000000",
          "2024-08-14T00:00:00.000000000",
          "2024-08-15T00:00:00.000000000",
          "2024-08-16T00:00:00.000000000",
          "2024-08-17T00:00:00.000000000",
          "2024-08-18T00:00:00.000000000",
          "2024-08-19T00:00:00.000000000",
          "2024-08-20T00:00:00.000000000",
          "2024-08-21T00:00:00.000000000",
          "2024-08-22T00:00:00.000000000",
          "2024-08-23T00:00:00.000000000",
          "2024-08-24T00:00:00.000000000",
          "2024-08-25T00:00:00.000000000",
          "2024-08-26T00:00:00.000000000",
          "2024-08-27T00:00:00.000000000",
          "2024-08-28T00:00:00.000000000",
          "2024-08-29T00:00:00.000000000",
          "2024-08-30T00:00:00.000000000",
          "2024-08-31T00:00:00.000000000",
          "2024-09-01T00:00:00.000000000",
          "2024-09-02T00:00:00.000000000",
          "2024-09-03T00:00:00.000000000",
          "2024-09-04T00:00:00.000000000",
          "2024-09-05T00:00:00.000000000",
          "2024-09-06T00:00:00.000000000",
          "2024-09-07T00:00:00.000000000",
          "2024-09-08T00:00:00.000000000",
          "2024-09-09T00:00:00.000000000",
          "2024-09-10T00:00:00.000000000",
          "2024-09-11T00:00:00.000000000",
          "2024-09-12T00:00:00.000000000",
          "2024-09-13T00:00:00.000000000",
          "2024-09-14T00:00:00.000000000",
          "2024-09-15T00:00:00.000000000",
          "2024-09-16T00:00:00.000000000",
          "2024-09-17T00:00:00.000000000",
          "2024-09-18T00:00:00.000000000",
          "2024-09-19T00:00:00.000000000",
          "2024-09-20T00:00:00.000000000",
          "2024-09-21T00:00:00.000000000",
          "2024-09-22T00:00:00.000000000",
          "2024-09-23T00:00:00.000000000",
          "2024-09-24T00:00:00.000000000",
          "2024-09-25T00:00:00.000000000",
          "2024-09-26T00:00:00.000000000",
          "2024-09-27T00:00:00.000000000",
          "2024-09-28T00:00:00.000000000",
          "2024-09-29T00:00:00.000000000",
          "2024-09-30T00:00:00.000000000",
          "2024-10-01T00:00:00.000000000",
          "2024-10-02T00:00:00.000000000",
          "2024-10-03T00:00:00.000000000",
          "2024-10-04T00:00:00.000000000",
          "2024-10-05T00:00:00.000000000",
          "2024-10-06T00:00:00.000000000",
          "2024-10-07T00:00:00.000000000",
          "2024-10-08T00:00:00.000000000",
          "2024-10-09T00:00:00.000000000",
          "2024-10-10T00:00:00.000000000",
          "2024-10-11T00:00:00.000000000",
          "2024-10-12T00:00:00.000000000",
          "2024-10-13T00:00:00.000000000",
          "2024-10-14T00:00:00.000000000",
          "2024-10-15T00:00:00.000000000",
          "2024-10-16T00:00:00.000000000",
          "2024-10-17T00:00:00.000000000",
          "2024-10-18T00:00:00.000000000",
          "2024-10-19T00:00:00.000000000",
          "2024-10-20T00:00:00.000000000",
          "2024-10-21T00:00:00.000000000",
          "2024-10-22T00:00:00.000000000",
          "2024-10-23T00:00:00.000000000",
          "2024-10-24T00:00:00.000000000",
          "2024-10-25T00:00:00.000000000",
          "2024-10-26T00:00:00.000000000",
          "2024-10-27T00:00:00.000000000",
          "2024-10-28T00:00:00.000000000",
          "2024-10-29T00:00:00.000000000",
          "2024-10-30T00:00:00.000000000",
          "2024-10-31T00:00:00.000000000",
          "2024-11-01T00:00:00.000000000",
          "2024-11-02T00:00:00.000000000",
          "2024-11-03T00:00:00.000000000",
          "2024-11-04T00:00:00.000000000",
          "2024-11-05T00:00:00.000000000",
          "2024-11-06T00:00:00.000000000",
          "2024-11-07T00:00:00.000000000",
          "2024-11-08T00:00:00.000000000",
          "2024-11-09T00:00:00.000000000",
          "2024-11-10T00:00:00.000000000",
          "2024-11-11T00:00:00.000000000",
          "2024-11-12T00:00:00.000000000",
          "2024-11-13T00:00:00.000000000",
          "2024-11-14T00:00:00.000000000",
          "2024-11-15T00:00:00.000000000",
          "2024-11-16T00:00:00.000000000",
          "2024-11-17T00:00:00.000000000",
          "2024-11-18T00:00:00.000000000",
          "2024-11-19T00:00:00.000000000",
          "2024-11-20T00:00:00.000000000",
          "2024-11-21T00:00:00.000000000",
          "2024-11-22T00:00:00.000000000",
          "2024-11-23T00:00:00.000000000",
          "2024-11-24T00:00:00.000000000",
          "2024-11-25T00:00:00.000000000",
          "2024-11-26T00:00:00.000000000",
          "2024-11-27T00:00:00.000000000",
          "2024-11-28T00:00:00.000000000",
          "2024-11-29T00:00:00.000000000",
          "2024-11-30T00:00:00.000000000",
          "2024-12-01T00:00:00.000000000",
          "2024-12-02T00:00:00.000000000",
          "2024-12-03T00:00:00.000000000",
          "2024-12-04T00:00:00.000000000",
          "2024-12-05T00:00:00.000000000",
          "2024-12-06T00:00:00.000000000",
          "2024-12-07T00:00:00.000000000",
          "2024-12-08T00:00:00.000000000",
          "2024-12-09T00:00:00.000000000",
          "2024-12-10T00:00:00.000000000",
          "2024-12-11T00:00:00.000000000",
          "2024-12-12T00:00:00.000000000",
          "2024-12-13T00:00:00.000000000",
          "2024-12-14T00:00:00.000000000",
          "2024-12-15T00:00:00.000000000",
          "2024-12-16T00:00:00.000000000",
          "2024-12-17T00:00:00.000000000",
          "2024-12-18T00:00:00.000000000",
          "2024-12-19T00:00:00.000000000",
          "2024-12-20T00:00:00.000000000",
          "2024-12-21T00:00:00.000000000",
          "2024-12-22T00:00:00.000000000",
          "2024-12-23T00:00:00.000000000",
          "2024-12-24T00:00:00.000000000",
          "2024-12-25T00:00:00.000000000",
          "2024-12-26T00:00:00.000000000",
          "2024-12-27T00:00:00.000000000",
          "2024-12-28T00:00:00.000000000",
          "2024-12-29T00:00:00.000000000",
          "2024-12-30T00:00:00.000000000",
          "2024-12-31T00:00:00.000000000",
          "2025-01-01T00:00:00.000000000",
          "2025-01-02T00:00:00.000000000",
          "2025-01-03T00:00:00.000000000",
          "2025-01-04T00:00:00.000000000",
          "2025-01-05T00:00:00.000000000",
          "2025-01-06T00:00:00.000000000",
          "2025-01-07T00:00:00.000000000",
          "2025-01-08T00:00:00.000000000",
          "2025-01-09T00:00:00.000000000",
          "2025-01-10T00:00:00.000000000",
          "2025-01-11T00:00:00.000000000",
          "2025-01-12T00:00:00.000000000",
          "2025-01-13T00:00:00.000000000",
          "2025-01-14T00:00:00.000000000",
          "2025-01-15T00:00:00.000000000",
          "2025-01-16T00:00:00.000000000",
          "2025-01-17T00:00:00.000000000",
          "2025-01-18T00:00:00.000000000",
          "2025-01-19T00:00:00.000000000",
          "2025-01-20T00:00:00.000000000",
          "2025-01-21T00:00:00.000000000",
          "2025-01-22T00:00:00.000000000",
          "2025-01-23T00:00:00.000000000",
          "2025-01-24T00:00:00.000000000",
          "2025-01-25T00:00:00.000000000",
          "2025-01-26T00:00:00.000000000",
          "2025-01-27T00:00:00.000000000",
          "2025-01-28T00:00:00.000000000",
          "2025-01-29T00:00:00.000000000",
          "2025-01-30T00:00:00.000000000",
          "2025-01-31T00:00:00.000000000",
          "2025-02-01T00:00:00.000000000",
          "2025-02-02T00:00:00.000000000",
          "2025-02-03T00:00:00.000000000",
          "2025-02-04T00:00:00.000000000",
          "2025-02-05T00:00:00.000000000",
          "2025-02-06T00:00:00.000000000",
          "2025-02-07T00:00:00.000000000",
          "2025-02-08T00:00:00.000000000",
          "2025-02-09T00:00:00.000000000",
          "2025-02-10T00:00:00.000000000",
          "2025-02-11T00:00:00.000000000",
          "2025-02-12T00:00:00.000000000",
          "2025-02-13T00:00:00.000000000",
          "2025-02-14T00:00:00.000000000",
          "2025-02-15T00:00:00.000000000",
          "2025-02-16T00:00:00.000000000",
          "2025-02-17T00:00:00.000000000",
          "2025-02-18T00:00:00.000000000",
          "2025-02-19T00:00:00.000000000",
          "2025-02-20T00:00:00.000000000",
          "2025-02-21T00:00:00.000000000",
          "2025-02-22T00:00:00.000000000",
          "2025-02-23T00:00:00.000000000",
          "2025-02-24T00:00:00.000000000",
          "2025-02-25T00:00:00.000000000",
          "2025-02-26T00:00:00.000000000",
          "2025-02-27T00:00:00.000000000",
          "2025-02-28T00:00:00.000000000",
          "2025-03-01T00:00:00.000000000",
          "2025-03-02T00:00:00.000000000",
          "2025-03-03T00:00:00.000000000",
          "2025-03-04T00:00:00.000000000",
          "2025-03-05T00:00:00.000000000",
          "2025-03-06T00:00:00.000000000",
          "2025-03-07T00:00:00.000000000",
          "2025-03-08T00:00:00.000000000",
          "2025-03-09T00:00:00.000000000",
          "2025-03-10T00:00:00.000000000",
          "2025-03-11T00:00:00.000000000",
          "2025-03-12T00:00:00.000000000",
          "2025-03-13T00:00:00.000000000",
          "2025-03-14T00:00:00.000000000",
          "2025-03-15T00:00:00.000000000",
          "2025-03-16T00:00:00.000000000",
          "2025-03-17T00:00:00.000000000",
          "2025-03-18T00:00:00.000000000",
          "2025-03-19T00:00:00.000000000",
          "2025-03-20T00:00:00.000000000",
          "2025-03-21T00:00:00.000000000",
          "2025-03-22T00:00:00.000000000",
          "2025-03-23T00:00:00.000000000",
          "2025-03-24T00:00:00.000000000",
          "2025-03-25T00:00:00.000000000",
          "2025-03-26T00:00:00.000000000",
          "2025-03-27T00:00:00.000000000",
          "2025-03-28T00:00:00.000000000",
          "2025-03-29T00:00:00.000000000",
          "2025-03-30T00:00:00.000000000",
          "2025-03-31T00:00:00.000000000",
          "2025-04-01T00:00:00.000000000",
          "2025-04-02T00:00:00.000000000",
          "2025-04-03T00:00:00.000000000",
          "2025-04-04T00:00:00.000000000",
          "2025-04-05T00:00:00.000000000",
          "2025-04-06T00:00:00.000000000",
          "2025-04-07T00:00:00.000000000",
          "2025-04-08T00:00:00.000000000",
          "2025-04-09T00:00:00.000000000",
          "2025-04-10T00:00:00.000000000",
          "2025-04-11T00:00:00.000000000",
          "2025-04-12T00:00:00.000000000",
          "2025-04-13T00:00:00.000000000",
          "2025-04-14T00:00:00.000000000",
          "2025-04-15T00:00:00.000000000",
          "2025-04-16T00:00:00.000000000",
          "2025-04-17T00:00:00.000000000",
          "2025-04-18T00:00:00.000000000",
          "2025-04-19T00:00:00.000000000",
          "2025-04-20T00:00:00.000000000",
          "2025-04-21T00:00:00.000000000",
          "2025-04-22T00:00:00.000000000",
          "2025-04-23T00:00:00.000000000",
          "2025-04-24T00:00:00.000000000",
          "2025-04-25T00:00:00.000000000",
          "2025-04-26T00:00:00.000000000",
          "2025-04-27T00:00:00.000000000",
          "2025-04-28T00:00:00.000000000",
          "2025-04-29T00:00:00.000000000",
          "2025-04-30T00:00:00.000000000",
          "2025-05-01T00:00:00.000000000",
          "2025-05-02T00:00:00.000000000",
          "2025-05-03T00:00:00.000000000",
          "2025-05-04T00:00:00.000000000",
          "2025-05-05T00:00:00.000000000",
          "2025-05-06T00:00:00.000000000",
          "2025-05-07T00:00:00.000000000",
          "2025-05-08T00:00:00.000000000",
          "2025-05-09T00:00:00.000000000",
          "2025-05-10T00:00:00.000000000",
          "2025-05-11T00:00:00.000000000",
          "2025-05-12T00:00:00.000000000",
          "2025-05-13T00:00:00.000000000",
          "2025-05-14T00:00:00.000000000",
          "2025-05-15T00:00:00.000000000",
          "2025-05-16T00:00:00.000000000",
          "2025-05-17T00:00:00.000000000",
          "2025-05-18T00:00:00.000000000",
          "2025-05-19T00:00:00.000000000",
          "2025-05-20T00:00:00.000000000",
          "2025-05-21T00:00:00.000000000",
          "2025-05-22T00:00:00.000000000",
          "2025-05-23T00:00:00.000000000",
          "2025-05-24T00:00:00.000000000",
          "2025-05-25T00:00:00.000000000",
          "2025-05-26T00:00:00.000000000",
          "2025-05-27T00:00:00.000000000",
          "2025-05-28T00:00:00.000000000",
          "2025-05-29T00:00:00.000000000",
          "2025-05-30T00:00:00.000000000",
          "2025-05-31T00:00:00.000000000",
          "2025-06-01T00:00:00.000000000",
          "2025-06-02T00:00:00.000000000",
          "2025-06-03T00:00:00.000000000",
          "2025-06-04T00:00:00.000000000",
          "2025-06-05T00:00:00.000000000",
          "2025-06-06T00:00:00.000000000",
          "2025-06-07T00:00:00.000000000",
          "2025-06-08T00:00:00.000000000",
          "2025-06-09T00:00:00.000000000",
          "2025-06-10T00:00:00.000000000",
          "2025-06-11T00:00:00.000000000",
          "2025-06-12T00:00:00.000000000",
          "2025-06-13T00:00:00.000000000",
          "2025-06-14T00:00:00.000000000",
          "2025-06-15T00:00:00.000000000",
          "2025-06-16T00:00:00.000000000",
          "2025-06-17T00:00:00.000000000",
          "2025-06-18T00:00:00.000000000",
          "2025-06-19T00:00:00.000000000",
          "2025-06-20T00:00:00.000000000",
          "2025-06-21T00:00:00.000000000",
          "2025-06-22T00:00:00.000000000",
          "2025-06-23T00:00:00.000000000",
          "2025-06-24T00:00:00.000000000",
          "2025-06-25T00:00:00.000000000",
          "2025-06-26T00:00:00.000000000",
          "2025-06-27T00:00:00.000000000",
          "2025-06-28T00:00:00.000000000",
          "2025-06-29T00:00:00.000000000",
          "2025-06-30T00:00:00.000000000",
          "2025-07-01T00:00:00.000000000",
          "2025-07-02T00:00:00.000000000",
          "2025-07-03T00:00:00.000000000",
          "2025-07-04T00:00:00.000000000",
          "2025-07-05T00:00:00.000000000",
          "2025-07-06T00:00:00.000000000",
          "2025-07-07T00:00:00.000000000",
          "2025-07-08T00:00:00.000000000",
          "2025-07-09T00:00:00.000000000",
          "2025-07-10T00:00:00.000000000",
          "2025-07-11T00:00:00.000000000",
          "2025-07-12T00:00:00.000000000",
          "2025-07-13T00:00:00.000000000",
          "2025-07-14T00:00:00.000000000",
          "2025-07-15T00:00:00.000000000",
          "2025-07-16T00:00:00.000000000",
          "2025-07-17T00:00:00.000000000",
          "2025-07-18T00:00:00.000000000",
          "2025-07-19T00:00:00.000000000",
          "2025-07-20T00:00:00.000000000",
          "2025-07-21T00:00:00.000000000",
          "2025-07-22T00:00:00.000000000",
          "2025-07-23T00:00:00.000000000",
          "2025-07-24T00:00:00.000000000",
          "2025-07-25T00:00:00.000000000",
          "2025-07-26T00:00:00.000000000",
          "2025-07-27T00:00:00.000000000",
          "2025-07-28T00:00:00.000000000",
          "2025-07-29T00:00:00.000000000",
          "2025-07-30T00:00:00.000000000",
          "2025-07-31T00:00:00.000000000"
         ],
         "xaxis": "x",
         "y": {
          "bdata": "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",
          "dtype": "f8"
         },
         "yaxis": "y"
        },
        {
         "hovertemplate": "variable=rolling_avg_social_7<br>date=%{x}<br>value=%{y}<extra></extra>",
         "legendgroup": "rolling_avg_social_7",
         "line": {
          "color": "#EF553B",
          "dash": "solid"
         },
         "marker": {
          "symbol": "circle"
         },
         "mode": "lines",
         "name": "rolling_avg_social_7",
         "showlegend": true,
         "type": "scattergl",
         "x": [
          "2024-08-01T00:00:00.000000000",
          "2024-08-02T00:00:00.000000000",
          "2024-08-03T00:00:00.000000000",
          "2024-08-04T00:00:00.000000000",
          "2024-08-05T00:00:00.000000000",
          "2024-08-06T00:00:00.000000000",
          "2024-08-07T00:00:00.000000000",
          "2024-08-08T00:00:00.000000000",
          "2024-08-09T00:00:00.000000000",
          "2024-08-10T00:00:00.000000000",
          "2024-08-11T00:00:00.000000000",
          "2024-08-12T00:00:00.000000000",
          "2024-08-13T00:00:00.000000000",
          "2024-08-14T00:00:00.000000000",
          "2024-08-15T00:00:00.000000000",
          "2024-08-16T00:00:00.000000000",
          "2024-08-17T00:00:00.000000000",
          "2024-08-18T00:00:00.000000000",
          "2024-08-19T00:00:00.000000000",
          "2024-08-20T00:00:00.000000000",
          "2024-08-21T00:00:00.000000000",
          "2024-08-22T00:00:00.000000000",
          "2024-08-23T00:00:00.000000000",
          "2024-08-24T00:00:00.000000000",
          "2024-08-25T00:00:00.000000000",
          "2024-08-26T00:00:00.000000000",
          "2024-08-27T00:00:00.000000000",
          "2024-08-28T00:00:00.000000000",
          "2024-08-29T00:00:00.000000000",
          "2024-08-30T00:00:00.000000000",
          "2024-08-31T00:00:00.000000000",
          "2024-09-01T00:00:00.000000000",
          "2024-09-02T00:00:00.000000000",
          "2024-09-03T00:00:00.000000000",
          "2024-09-04T00:00:00.000000000",
          "2024-09-05T00:00:00.000000000",
          "2024-09-06T00:00:00.000000000",
          "2024-09-07T00:00:00.000000000",
          "2024-09-08T00:00:00.000000000",
          "2024-09-09T00:00:00.000000000",
          "2024-09-10T00:00:00.000000000",
          "2024-09-11T00:00:00.000000000",
          "2024-09-12T00:00:00.000000000",
          "2024-09-13T00:00:00.000000000",
          "2024-09-14T00:00:00.000000000",
          "2024-09-15T00:00:00.000000000",
          "2024-09-16T00:00:00.000000000",
          "2024-09-17T00:00:00.000000000",
          "2024-09-18T00:00:00.000000000",
          "2024-09-19T00:00:00.000000000",
          "2024-09-20T00:00:00.000000000",
          "2024-09-21T00:00:00.000000000",
          "2024-09-22T00:00:00.000000000",
          "2024-09-23T00:00:00.000000000",
          "2024-09-24T00:00:00.000000000",
          "2024-09-25T00:00:00.000000000",
          "2024-09-26T00:00:00.000000000",
          "2024-09-27T00:00:00.000000000",
          "2024-09-28T00:00:00.000000000",
          "2024-09-29T00:00:00.000000000",
          "2024-09-30T00:00:00.000000000",
          "2024-10-01T00:00:00.000000000",
          "2024-10-02T00:00:00.000000000",
          "2024-10-03T00:00:00.000000000",
          "2024-10-04T00:00:00.000000000",
          "2024-10-05T00:00:00.000000000",
          "2024-10-06T00:00:00.000000000",
          "2024-10-07T00:00:00.000000000",
          "2024-10-08T00:00:00.000000000",
          "2024-10-09T00:00:00.000000000",
          "2024-10-10T00:00:00.000000000",
          "2024-10-11T00:00:00.000000000",
          "2024-10-12T00:00:00.000000000",
          "2024-10-13T00:00:00.000000000",
          "2024-10-14T00:00:00.000000000",
          "2024-10-15T00:00:00.000000000",
          "2024-10-16T00:00:00.000000000",
          "2024-10-17T00:00:00.000000000",
          "2024-10-18T00:00:00.000000000",
          "2024-10-19T00:00:00.000000000",
          "2024-10-20T00:00:00.000000000",
          "2024-10-21T00:00:00.000000000",
          "2024-10-22T00:00:00.000000000",
          "2024-10-23T00:00:00.000000000",
          "2024-10-24T00:00:00.000000000",
          "2024-10-25T00:00:00.000000000",
          "2024-10-26T00:00:00.000000000",
          "2024-10-27T00:00:00.000000000",
          "2024-10-28T00:00:00.000000000",
          "2024-10-29T00:00:00.000000000",
          "2024-10-30T00:00:00.000000000",
          "2024-10-31T00:00:00.000000000",
          "2024-11-01T00:00:00.000000000",
          "2024-11-02T00:00:00.000000000",
          "2024-11-03T00:00:00.000000000",
          "2024-11-04T00:00:00.000000000",
          "2024-11-05T00:00:00.000000000",
          "2024-11-06T00:00:00.000000000",
          "2024-11-07T00:00:00.000000000",
          "2024-11-08T00:00:00.000000000",
          "2024-11-09T00:00:00.000000000",
          "2024-11-10T00:00:00.000000000",
          "2024-11-11T00:00:00.000000000",
          "2024-11-12T00:00:00.000000000",
          "2024-11-13T00:00:00.000000000",
          "2024-11-14T00:00:00.000000000",
          "2024-11-15T00:00:00.000000000",
          "2024-11-16T00:00:00.000000000",
          "2024-11-17T00:00:00.000000000",
          "2024-11-18T00:00:00.000000000",
          "2024-11-19T00:00:00.000000000",
          "2024-11-20T00:00:00.000000000",
          "2024-11-21T00:00:00.000000000",
          "2024-11-22T00:00:00.000000000",
          "2024-11-23T00:00:00.000000000",
          "2024-11-24T00:00:00.000000000",
          "2024-11-25T00:00:00.000000000",
          "2024-11-26T00:00:00.000000000",
          "2024-11-27T00:00:00.000000000",
          "2024-11-28T00:00:00.000000000",
          "2024-11-29T00:00:00.000000000",
          "2024-11-30T00:00:00.000000000",
          "2024-12-01T00:00:00.000000000",
          "2024-12-02T00:00:00.000000000",
          "2024-12-03T00:00:00.000000000",
          "2024-12-04T00:00:00.000000000",
          "2024-12-05T00:00:00.000000000",
          "2024-12-06T00:00:00.000000000",
          "2024-12-07T00:00:00.000000000",
          "2024-12-08T00:00:00.000000000",
          "2024-12-09T00:00:00.000000000",
          "2024-12-10T00:00:00.000000000",
          "2024-12-11T00:00:00.000000000",
          "2024-12-12T00:00:00.000000000",
          "2024-12-13T00:00:00.000000000",
          "2024-12-14T00:00:00.000000000",
          "2024-12-15T00:00:00.000000000",
          "2024-12-16T00:00:00.000000000",
          "2024-12-17T00:00:00.000000000",
          "2024-12-18T00:00:00.000000000",
          "2024-12-19T00:00:00.000000000",
          "2024-12-20T00:00:00.000000000",
          "2024-12-21T00:00:00.000000000",
          "2024-12-22T00:00:00.000000000",
          "2024-12-23T00:00:00.000000000",
          "2024-12-24T00:00:00.000000000",
          "2024-12-25T00:00:00.000000000",
          "2024-12-26T00:00:00.000000000",
          "2024-12-27T00:00:00.000000000",
          "2024-12-28T00:00:00.000000000",
          "2024-12-29T00:00:00.000000000",
          "2024-12-30T00:00:00.000000000",
          "2024-12-31T00:00:00.000000000",
          "2025-01-01T00:00:00.000000000",
          "2025-01-02T00:00:00.000000000",
          "2025-01-03T00:00:00.000000000",
          "2025-01-04T00:00:00.000000000",
          "2025-01-05T00:00:00.000000000",
          "2025-01-06T00:00:00.000000000",
          "2025-01-07T00:00:00.000000000",
          "2025-01-08T00:00:00.000000000",
          "2025-01-09T00:00:00.000000000",
          "2025-01-10T00:00:00.000000000",
          "2025-01-11T00:00:00.000000000",
          "2025-01-12T00:00:00.000000000",
          "2025-01-13T00:00:00.000000000",
          "2025-01-14T00:00:00.000000000",
          "2025-01-15T00:00:00.000000000",
          "2025-01-16T00:00:00.000000000",
          "2025-01-17T00:00:00.000000000",
          "2025-01-18T00:00:00.000000000",
          "2025-01-19T00:00:00.000000000",
          "2025-01-20T00:00:00.000000000",
          "2025-01-21T00:00:00.000000000",
          "2025-01-22T00:00:00.000000000",
          "2025-01-23T00:00:00.000000000",
          "2025-01-24T00:00:00.000000000",
          "2025-01-25T00:00:00.000000000",
          "2025-01-26T00:00:00.000000000",
          "2025-01-27T00:00:00.000000000",
          "2025-01-28T00:00:00.000000000",
          "2025-01-29T00:00:00.000000000",
          "2025-01-30T00:00:00.000000000",
          "2025-01-31T00:00:00.000000000",
          "2025-02-01T00:00:00.000000000",
          "2025-02-02T00:00:00.000000000",
          "2025-02-03T00:00:00.000000000",
          "2025-02-04T00:00:00.000000000",
          "2025-02-05T00:00:00.000000000",
          "2025-02-06T00:00:00.000000000",
          "2025-02-07T00:00:00.000000000",
          "2025-02-08T00:00:00.000000000",
          "2025-02-09T00:00:00.000000000",
          "2025-02-10T00:00:00.000000000",
          "2025-02-11T00:00:00.000000000",
          "2025-02-12T00:00:00.000000000",
          "2025-02-13T00:00:00.000000000",
          "2025-02-14T00:00:00.000000000",
          "2025-02-15T00:00:00.000000000",
          "2025-02-16T00:00:00.000000000",
          "2025-02-17T00:00:00.000000000",
          "2025-02-18T00:00:00.000000000",
          "2025-02-19T00:00:00.000000000",
          "2025-02-20T00:00:00.000000000",
          "2025-02-21T00:00:00.000000000",
          "2025-02-22T00:00:00.000000000",
          "2025-02-23T00:00:00.000000000",
          "2025-02-24T00:00:00.000000000",
          "2025-02-25T00:00:00.000000000",
          "2025-02-26T00:00:00.000000000",
          "2025-02-27T00:00:00.000000000",
          "2025-02-28T00:00:00.000000000",
          "2025-03-01T00:00:00.000000000",
          "2025-03-02T00:00:00.000000000",
          "2025-03-03T00:00:00.000000000",
          "2025-03-04T00:00:00.000000000",
          "2025-03-05T00:00:00.000000000",
          "2025-03-06T00:00:00.000000000",
          "2025-03-07T00:00:00.000000000",
          "2025-03-08T00:00:00.000000000",
          "2025-03-09T00:00:00.000000000",
          "2025-03-10T00:00:00.000000000",
          "2025-03-11T00:00:00.000000000",
          "2025-03-12T00:00:00.000000000",
          "2025-03-13T00:00:00.000000000",
          "2025-03-14T00:00:00.000000000",
          "2025-03-15T00:00:00.000000000",
          "2025-03-16T00:00:00.000000000",
          "2025-03-17T00:00:00.000000000",
          "2025-03-18T00:00:00.000000000",
          "2025-03-19T00:00:00.000000000",
          "2025-03-20T00:00:00.000000000",
          "2025-03-21T00:00:00.000000000",
          "2025-03-22T00:00:00.000000000",
          "2025-03-23T00:00:00.000000000",
          "2025-03-24T00:00:00.000000000",
          "2025-03-25T00:00:00.000000000",
          "2025-03-26T00:00:00.000000000",
          "2025-03-27T00:00:00.000000000",
          "2025-03-28T00:00:00.000000000",
          "2025-03-29T00:00:00.000000000",
          "2025-03-30T00:00:00.000000000",
          "2025-03-31T00:00:00.000000000",
          "2025-04-01T00:00:00.000000000",
          "2025-04-02T00:00:00.000000000",
          "2025-04-03T00:00:00.000000000",
          "2025-04-04T00:00:00.000000000",
          "2025-04-05T00:00:00.000000000",
          "2025-04-06T00:00:00.000000000",
          "2025-04-07T00:00:00.000000000",
          "2025-04-08T00:00:00.000000000",
          "2025-04-09T00:00:00.000000000",
          "2025-04-10T00:00:00.000000000",
          "2025-04-11T00:00:00.000000000",
          "2025-04-12T00:00:00.000000000",
          "2025-04-13T00:00:00.000000000",
          "2025-04-14T00:00:00.000000000",
          "2025-04-15T00:00:00.000000000",
          "2025-04-16T00:00:00.000000000",
          "2025-04-17T00:00:00.000000000",
          "2025-04-18T00:00:00.000000000",
          "2025-04-19T00:00:00.000000000",
          "2025-04-20T00:00:00.000000000",
          "2025-04-21T00:00:00.000000000",
          "2025-04-22T00:00:00.000000000",
          "2025-04-23T00:00:00.000000000",
          "2025-04-24T00:00:00.000000000",
          "2025-04-25T00:00:00.000000000",
          "2025-04-26T00:00:00.000000000",
          "2025-04-27T00:00:00.000000000",
          "2025-04-28T00:00:00.000000000",
          "2025-04-29T00:00:00.000000000",
          "2025-04-30T00:00:00.000000000",
          "2025-05-01T00:00:00.000000000",
          "2025-05-02T00:00:00.000000000",
          "2025-05-03T00:00:00.000000000",
          "2025-05-04T00:00:00.000000000",
          "2025-05-05T00:00:00.000000000",
          "2025-05-06T00:00:00.000000000",
          "2025-05-07T00:00:00.000000000",
          "2025-05-08T00:00:00.000000000",
          "2025-05-09T00:00:00.000000000",
          "2025-05-10T00:00:00.000000000",
          "2025-05-11T00:00:00.000000000",
          "2025-05-12T00:00:00.000000000",
          "2025-05-13T00:00:00.000000000",
          "2025-05-14T00:00:00.000000000",
          "2025-05-15T00:00:00.000000000",
          "2025-05-16T00:00:00.000000000",
          "2025-05-17T00:00:00.000000000",
          "2025-05-18T00:00:00.000000000",
          "2025-05-19T00:00:00.000000000",
          "2025-05-20T00:00:00.000000000",
          "2025-05-21T00:00:00.000000000",
          "2025-05-22T00:00:00.000000000",
          "2025-05-23T00:00:00.000000000",
          "2025-05-24T00:00:00.000000000",
          "2025-05-25T00:00:00.000000000",
          "2025-05-26T00:00:00.000000000",
          "2025-05-27T00:00:00.000000000",
          "2025-05-28T00:00:00.000000000",
          "2025-05-29T00:00:00.000000000",
          "2025-05-30T00:00:00.000000000",
          "2025-05-31T00:00:00.000000000",
          "2025-06-01T00:00:00.000000000",
          "2025-06-02T00:00:00.000000000",
          "2025-06-03T00:00:00.000000000",
          "2025-06-04T00:00:00.000000000",
          "2025-06-05T00:00:00.000000000",
          "2025-06-06T00:00:00.000000000",
          "2025-06-07T00:00:00.000000000",
          "2025-06-08T00:00:00.000000000",
          "2025-06-09T00:00:00.000000000",
          "2025-06-10T00:00:00.000000000",
          "2025-06-11T00:00:00.000000000",
          "2025-06-12T00:00:00.000000000",
          "2025-06-13T00:00:00.000000000",
          "2025-06-14T00:00:00.000000000",
          "2025-06-15T00:00:00.000000000",
          "2025-06-16T00:00:00.000000000",
          "2025-06-17T00:00:00.000000000",
          "2025-06-18T00:00:00.000000000",
          "2025-06-19T00:00:00.000000000",
          "2025-06-20T00:00:00.000000000",
          "2025-06-21T00:00:00.000000000",
          "2025-06-22T00:00:00.000000000",
          "2025-06-23T00:00:00.000000000",
          "2025-06-24T00:00:00.000000000",
          "2025-06-25T00:00:00.000000000",
          "2025-06-26T00:00:00.000000000",
          "2025-06-27T00:00:00.000000000",
          "2025-06-28T00:00:00.000000000",
          "2025-06-29T00:00:00.000000000",
          "2025-06-30T00:00:00.000000000",
          "2025-07-01T00:00:00.000000000",
          "2025-07-02T00:00:00.000000000",
          "2025-07-03T00:00:00.000000000",
          "2025-07-04T00:00:00.000000000",
          "2025-07-05T00:00:00.000000000",
          "2025-07-06T00:00:00.000000000",
          "2025-07-07T00:00:00.000000000",
          "2025-07-08T00:00:00.000000000",
          "2025-07-09T00:00:00.000000000",
          "2025-07-10T00:00:00.000000000",
          "2025-07-11T00:00:00.000000000",
          "2025-07-12T00:00:00.000000000",
          "2025-07-13T00:00:00.000000000",
          "2025-07-14T00:00:00.000000000",
          "2025-07-15T00:00:00.000000000",
          "2025-07-16T00:00:00.000000000",
          "2025-07-17T00:00:00.000000000",
          "2025-07-18T00:00:00.000000000",
          "2025-07-19T00:00:00.000000000",
          "2025-07-20T00:00:00.000000000",
          "2025-07-21T00:00:00.000000000",
          "2025-07-22T00:00:00.000000000",
          "2025-07-23T00:00:00.000000000",
          "2025-07-24T00:00:00.000000000",
          "2025-07-25T00:00:00.000000000",
          "2025-07-26T00:00:00.000000000",
          "2025-07-27T00:00:00.000000000",
          "2025-07-28T00:00:00.000000000",
          "2025-07-29T00:00:00.000000000",
          "2025-07-30T00:00:00.000000000",
          "2025-07-31T00:00:00.000000000"
         ],
         "xaxis": "x",
         "y": {
          "bdata": "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",
          "dtype": "f8"
         },
         "yaxis": "y"
        },
        {
         "hovertemplate": "variable=daily_roi_ppc<br>date=%{x}<br>value=%{y}<extra></extra>",
         "legendgroup": "daily_roi_ppc",
         "line": {
          "color": "#00cc96",
          "dash": "solid"
         },
         "marker": {
          "symbol": "circle"
         },
         "mode": "lines",
         "name": "daily_roi_ppc",
         "showlegend": true,
         "type": "scattergl",
         "x": [
          "2024-08-01T00:00:00.000000000",
          "2024-08-02T00:00:00.000000000",
          "2024-08-03T00:00:00.000000000",
          "2024-08-04T00:00:00.000000000",
          "2024-08-05T00:00:00.000000000",
          "2024-08-06T00:00:00.000000000",
          "2024-08-07T00:00:00.000000000",
          "2024-08-08T00:00:00.000000000",
          "2024-08-09T00:00:00.000000000",
          "2024-08-10T00:00:00.000000000",
          "2024-08-11T00:00:00.000000000",
          "2024-08-12T00:00:00.000000000",
          "2024-08-13T00:00:00.000000000",
          "2024-08-14T00:00:00.000000000",
          "2024-08-15T00:00:00.000000000",
          "2024-08-16T00:00:00.000000000",
          "2024-08-17T00:00:00.000000000",
          "2024-08-18T00:00:00.000000000",
          "2024-08-19T00:00:00.000000000",
          "2024-08-20T00:00:00.000000000",
          "2024-08-21T00:00:00.000000000",
          "2024-08-22T00:00:00.000000000",
          "2024-08-23T00:00:00.000000000",
          "2024-08-24T00:00:00.000000000",
          "2024-08-25T00:00:00.000000000",
          "2024-08-26T00:00:00.000000000",
          "2024-08-27T00:00:00.000000000",
          "2024-08-28T00:00:00.000000000",
          "2024-08-29T00:00:00.000000000",
          "2024-08-30T00:00:00.000000000",
          "2024-08-31T00:00:00.000000000",
          "2024-09-01T00:00:00.000000000",
          "2024-09-02T00:00:00.000000000",
          "2024-09-03T00:00:00.000000000",
          "2024-09-04T00:00:00.000000000",
          "2024-09-05T00:00:00.000000000",
          "2024-09-06T00:00:00.000000000",
          "2024-09-07T00:00:00.000000000",
          "2024-09-08T00:00:00.000000000",
          "2024-09-09T00:00:00.000000000",
          "2024-09-10T00:00:00.000000000",
          "2024-09-11T00:00:00.000000000",
          "2024-09-12T00:00:00.000000000",
          "2024-09-13T00:00:00.000000000",
          "2024-09-14T00:00:00.000000000",
          "2024-09-15T00:00:00.000000000",
          "2024-09-16T00:00:00.000000000",
          "2024-09-17T00:00:00.000000000",
          "2024-09-18T00:00:00.000000000",
          "2024-09-19T00:00:00.000000000",
          "2024-09-20T00:00:00.000000000",
          "2024-09-21T00:00:00.000000000",
          "2024-09-22T00:00:00.000000000",
          "2024-09-23T00:00:00.000000000",
          "2024-09-24T00:00:00.000000000",
          "2024-09-25T00:00:00.000000000",
          "2024-09-26T00:00:00.000000000",
          "2024-09-27T00:00:00.000000000",
          "2024-09-28T00:00:00.000000000",
          "2024-09-29T00:00:00.000000000",
          "2024-09-30T00:00:00.000000000",
          "2024-10-01T00:00:00.000000000",
          "2024-10-02T00:00:00.000000000",
          "2024-10-03T00:00:00.000000000",
          "2024-10-04T00:00:00.000000000",
          "2024-10-05T00:00:00.000000000",
          "2024-10-06T00:00:00.000000000",
          "2024-10-07T00:00:00.000000000",
          "2024-10-08T00:00:00.000000000",
          "2024-10-09T00:00:00.000000000",
          "2024-10-10T00:00:00.000000000",
          "2024-10-11T00:00:00.000000000",
          "2024-10-12T00:00:00.000000000",
          "2024-10-13T00:00:00.000000000",
          "2024-10-14T00:00:00.000000000",
          "2024-10-15T00:00:00.000000000",
          "2024-10-16T00:00:00.000000000",
          "2024-10-17T00:00:00.000000000",
          "2024-10-18T00:00:00.000000000",
          "2024-10-19T00:00:00.000000000",
          "2024-10-20T00:00:00.000000000",
          "2024-10-21T00:00:00.000000000",
          "2024-10-22T00:00:00.000000000",
          "2024-10-23T00:00:00.000000000",
          "2024-10-24T00:00:00.000000000",
          "2024-10-25T00:00:00.000000000",
          "2024-10-26T00:00:00.000000000",
          "2024-10-27T00:00:00.000000000",
          "2024-10-28T00:00:00.000000000",
          "2024-10-29T00:00:00.000000000",
          "2024-10-30T00:00:00.000000000",
          "2024-10-31T00:00:00.000000000",
          "2024-11-01T00:00:00.000000000",
          "2024-11-02T00:00:00.000000000",
          "2024-11-03T00:00:00.000000000",
          "2024-11-04T00:00:00.000000000",
          "2024-11-05T00:00:00.000000000",
          "2024-11-06T00:00:00.000000000",
          "2024-11-07T00:00:00.000000000",
          "2024-11-08T00:00:00.000000000",
          "2024-11-09T00:00:00.000000000",
          "2024-11-10T00:00:00.000000000",
          "2024-11-11T00:00:00.000000000",
          "2024-11-12T00:00:00.000000000",
          "2024-11-13T00:00:00.000000000",
          "2024-11-14T00:00:00.000000000",
          "2024-11-15T00:00:00.000000000",
          "2024-11-16T00:00:00.000000000",
          "2024-11-17T00:00:00.000000000",
          "2024-11-18T00:00:00.000000000",
          "2024-11-19T00:00:00.000000000",
          "2024-11-20T00:00:00.000000000",
          "2024-11-21T00:00:00.000000000",
          "2024-11-22T00:00:00.000000000",
          "2024-11-23T00:00:00.000000000",
          "2024-11-24T00:00:00.000000000",
          "2024-11-25T00:00:00.000000000",
          "2024-11-26T00:00:00.000000000",
          "2024-11-27T00:00:00.000000000",
          "2024-11-28T00:00:00.000000000",
          "2024-11-29T00:00:00.000000000",
          "2024-11-30T00:00:00.000000000",
          "2024-12-01T00:00:00.000000000",
          "2024-12-02T00:00:00.000000000",
          "2024-12-03T00:00:00.000000000",
          "2024-12-04T00:00:00.000000000",
          "2024-12-05T00:00:00.000000000",
          "2024-12-06T00:00:00.000000000",
          "2024-12-07T00:00:00.000000000",
          "2024-12-08T00:00:00.000000000",
          "2024-12-09T00:00:00.000000000",
          "2024-12-10T00:00:00.000000000",
          "2024-12-11T00:00:00.000000000",
          "2024-12-12T00:00:00.000000000",
          "2024-12-13T00:00:00.000000000",
          "2024-12-14T00:00:00.000000000",
          "2024-12-15T00:00:00.000000000",
          "2024-12-16T00:00:00.000000000",
          "2024-12-17T00:00:00.000000000",
          "2024-12-18T00:00:00.000000000",
          "2024-12-19T00:00:00.000000000",
          "2024-12-20T00:00:00.000000000",
          "2024-12-21T00:00:00.000000000",
          "2024-12-22T00:00:00.000000000",
          "2024-12-23T00:00:00.000000000",
          "2024-12-24T00:00:00.000000000",
          "2024-12-25T00:00:00.000000000",
          "2024-12-26T00:00:00.000000000",
          "2024-12-27T00:00:00.000000000",
          "2024-12-28T00:00:00.000000000",
          "2024-12-29T00:00:00.000000000",
          "2024-12-30T00:00:00.000000000",
          "2024-12-31T00:00:00.000000000",
          "2025-01-01T00:00:00.000000000",
          "2025-01-02T00:00:00.000000000",
          "2025-01-03T00:00:00.000000000",
          "2025-01-04T00:00:00.000000000",
          "2025-01-05T00:00:00.000000000",
          "2025-01-06T00:00:00.000000000",
          "2025-01-07T00:00:00.000000000",
          "2025-01-08T00:00:00.000000000",
          "2025-01-09T00:00:00.000000000",
          "2025-01-10T00:00:00.000000000",
          "2025-01-11T00:00:00.000000000",
          "2025-01-12T00:00:00.000000000",
          "2025-01-13T00:00:00.000000000",
          "2025-01-14T00:00:00.000000000",
          "2025-01-15T00:00:00.000000000",
          "2025-01-16T00:00:00.000000000",
          "2025-01-17T00:00:00.000000000",
          "2025-01-18T00:00:00.000000000",
          "2025-01-19T00:00:00.000000000",
          "2025-01-20T00:00:00.000000000",
          "2025-01-21T00:00:00.000000000",
          "2025-01-22T00:00:00.000000000",
          "2025-01-23T00:00:00.000000000",
          "2025-01-24T00:00:00.000000000",
          "2025-01-25T00:00:00.000000000",
          "2025-01-26T00:00:00.000000000",
          "2025-01-27T00:00:00.000000000",
          "2025-01-28T00:00:00.000000000",
          "2025-01-29T00:00:00.000000000",
          "2025-01-30T00:00:00.000000000",
          "2025-01-31T00:00:00.000000000",
          "2025-02-01T00:00:00.000000000",
          "2025-02-02T00:00:00.000000000",
          "2025-02-03T00:00:00.000000000",
          "2025-02-04T00:00:00.000000000",
          "2025-02-05T00:00:00.000000000",
          "2025-02-06T00:00:00.000000000",
          "2025-02-07T00:00:00.000000000",
          "2025-02-08T00:00:00.000000000",
          "2025-02-09T00:00:00.000000000",
          "2025-02-10T00:00:00.000000000",
          "2025-02-11T00:00:00.000000000",
          "2025-02-12T00:00:00.000000000",
          "2025-02-13T00:00:00.000000000",
          "2025-02-14T00:00:00.000000000",
          "2025-02-15T00:00:00.000000000",
          "2025-02-16T00:00:00.000000000",
          "2025-02-17T00:00:00.000000000",
          "2025-02-18T00:00:00.000000000",
          "2025-02-19T00:00:00.000000000",
          "2025-02-20T00:00:00.000000000",
          "2025-02-21T00:00:00.000000000",
          "2025-02-22T00:00:00.000000000",
          "2025-02-23T00:00:00.000000000",
          "2025-02-24T00:00:00.000000000",
          "2025-02-25T00:00:00.000000000",
          "2025-02-26T00:00:00.000000000",
          "2025-02-27T00:00:00.000000000",
          "2025-02-28T00:00:00.000000000",
          "2025-03-01T00:00:00.000000000",
          "2025-03-02T00:00:00.000000000",
          "2025-03-03T00:00:00.000000000",
          "2025-03-04T00:00:00.000000000",
          "2025-03-05T00:00:00.000000000",
          "2025-03-06T00:00:00.000000000",
          "2025-03-07T00:00:00.000000000",
          "2025-03-08T00:00:00.000000000",
          "2025-03-09T00:00:00.000000000",
          "2025-03-10T00:00:00.000000000",
          "2025-03-11T00:00:00.000000000",
          "2025-03-12T00:00:00.000000000",
          "2025-03-13T00:00:00.000000000",
          "2025-03-14T00:00:00.000000000",
          "2025-03-15T00:00:00.000000000",
          "2025-03-16T00:00:00.000000000",
          "2025-03-17T00:00:00.000000000",
          "2025-03-18T00:00:00.000000000",
          "2025-03-19T00:00:00.000000000",
          "2025-03-20T00:00:00.000000000",
          "2025-03-21T00:00:00.000000000",
          "2025-03-22T00:00:00.000000000",
          "2025-03-23T00:00:00.000000000",
          "2025-03-24T00:00:00.000000000",
          "2025-03-25T00:00:00.000000000",
          "2025-03-26T00:00:00.000000000",
          "2025-03-27T00:00:00.000000000",
          "2025-03-28T00:00:00.000000000",
          "2025-03-29T00:00:00.000000000",
          "2025-03-30T00:00:00.000000000",
          "2025-03-31T00:00:00.000000000",
          "2025-04-01T00:00:00.000000000",
          "2025-04-02T00:00:00.000000000",
          "2025-04-03T00:00:00.000000000",
          "2025-04-04T00:00:00.000000000",
          "2025-04-05T00:00:00.000000000",
          "2025-04-06T00:00:00.000000000",
          "2025-04-07T00:00:00.000000000",
          "2025-04-08T00:00:00.000000000",
          "2025-04-09T00:00:00.000000000",
          "2025-04-10T00:00:00.000000000",
          "2025-04-11T00:00:00.000000000",
          "2025-04-12T00:00:00.000000000",
          "2025-04-13T00:00:00.000000000",
          "2025-04-14T00:00:00.000000000",
          "2025-04-15T00:00:00.000000000",
          "2025-04-16T00:00:00.000000000",
          "2025-04-17T00:00:00.000000000",
          "2025-04-18T00:00:00.000000000",
          "2025-04-19T00:00:00.000000000",
          "2025-04-20T00:00:00.000000000",
          "2025-04-21T00:00:00.000000000",
          "2025-04-22T00:00:00.000000000",
          "2025-04-23T00:00:00.000000000",
          "2025-04-24T00:00:00.000000000",
          "2025-04-25T00:00:00.000000000",
          "2025-04-26T00:00:00.000000000",
          "2025-04-27T00:00:00.000000000",
          "2025-04-28T00:00:00.000000000",
          "2025-04-29T00:00:00.000000000",
          "2025-04-30T00:00:00.000000000",
          "2025-05-01T00:00:00.000000000",
          "2025-05-02T00:00:00.000000000",
          "2025-05-03T00:00:00.000000000",
          "2025-05-04T00:00:00.000000000",
          "2025-05-05T00:00:00.000000000",
          "2025-05-06T00:00:00.000000000",
          "2025-05-07T00:00:00.000000000",
          "2025-05-08T00:00:00.000000000",
          "2025-05-09T00:00:00.000000000",
          "2025-05-10T00:00:00.000000000",
          "2025-05-11T00:00:00.000000000",
          "2025-05-12T00:00:00.000000000",
          "2025-05-13T00:00:00.000000000",
          "2025-05-14T00:00:00.000000000",
          "2025-05-15T00:00:00.000000000",
          "2025-05-16T00:00:00.000000000",
          "2025-05-17T00:00:00.000000000",
          "2025-05-18T00:00:00.000000000",
          "2025-05-19T00:00:00.000000000",
          "2025-05-20T00:00:00.000000000",
          "2025-05-21T00:00:00.000000000",
          "2025-05-22T00:00:00.000000000",
          "2025-05-23T00:00:00.000000000",
          "2025-05-24T00:00:00.000000000",
          "2025-05-25T00:00:00.000000000",
          "2025-05-26T00:00:00.000000000",
          "2025-05-27T00:00:00.000000000",
          "2025-05-28T00:00:00.000000000",
          "2025-05-29T00:00:00.000000000",
          "2025-05-30T00:00:00.000000000",
          "2025-05-31T00:00:00.000000000",
          "2025-06-01T00:00:00.000000000",
          "2025-06-02T00:00:00.000000000",
          "2025-06-03T00:00:00.000000000",
          "2025-06-04T00:00:00.000000000",
          "2025-06-05T00:00:00.000000000",
          "2025-06-06T00:00:00.000000000",
          "2025-06-07T00:00:00.000000000",
          "2025-06-08T00:00:00.000000000",
          "2025-06-09T00:00:00.000000000",
          "2025-06-10T00:00:00.000000000",
          "2025-06-11T00:00:00.000000000",
          "2025-06-12T00:00:00.000000000",
          "2025-06-13T00:00:00.000000000",
          "2025-06-14T00:00:00.000000000",
          "2025-06-15T00:00:00.000000000",
          "2025-06-16T00:00:00.000000000",
          "2025-06-17T00:00:00.000000000",
          "2025-06-18T00:00:00.000000000",
          "2025-06-19T00:00:00.000000000",
          "2025-06-20T00:00:00.000000000",
          "2025-06-21T00:00:00.000000000",
          "2025-06-22T00:00:00.000000000",
          "2025-06-23T00:00:00.000000000",
          "2025-06-24T00:00:00.000000000",
          "2025-06-25T00:00:00.000000000",
          "2025-06-26T00:00:00.000000000",
          "2025-06-27T00:00:00.000000000",
          "2025-06-28T00:00:00.000000000",
          "2025-06-29T00:00:00.000000000",
          "2025-06-30T00:00:00.000000000",
          "2025-07-01T00:00:00.000000000",
          "2025-07-02T00:00:00.000000000",
          "2025-07-03T00:00:00.000000000",
          "2025-07-04T00:00:00.000000000",
          "2025-07-05T00:00:00.000000000",
          "2025-07-06T00:00:00.000000000",
          "2025-07-07T00:00:00.000000000",
          "2025-07-08T00:00:00.000000000",
          "2025-07-09T00:00:00.000000000",
          "2025-07-10T00:00:00.000000000",
          "2025-07-11T00:00:00.000000000",
          "2025-07-12T00:00:00.000000000",
          "2025-07-13T00:00:00.000000000",
          "2025-07-14T00:00:00.000000000",
          "2025-07-15T00:00:00.000000000",
          "2025-07-16T00:00:00.000000000",
          "2025-07-17T00:00:00.000000000",
          "2025-07-18T00:00:00.000000000",
          "2025-07-19T00:00:00.000000000",
          "2025-07-20T00:00:00.000000000",
          "2025-07-21T00:00:00.000000000",
          "2025-07-22T00:00:00.000000000",
          "2025-07-23T00:00:00.000000000",
          "2025-07-24T00:00:00.000000000",
          "2025-07-25T00:00:00.000000000",
          "2025-07-26T00:00:00.000000000",
          "2025-07-27T00:00:00.000000000",
          "2025-07-28T00:00:00.000000000",
          "2025-07-29T00:00:00.000000000",
          "2025-07-30T00:00:00.000000000",
          "2025-07-31T00:00:00.000000000"
         ],
         "xaxis": "x",
         "y": {
          "bdata": "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",
          "dtype": "f8"
         },
         "yaxis": "y"
        },
        {
         "hovertemplate": "variable=rolling_avg_ppc_7<br>date=%{x}<br>value=%{y}<extra></extra>",
         "legendgroup": "rolling_avg_ppc_7",
         "line": {
          "color": "#ab63fa",
          "dash": "solid"
         },
         "marker": {
          "symbol": "circle"
         },
         "mode": "lines",
         "name": "rolling_avg_ppc_7",
         "showlegend": true,
         "type": "scattergl",
         "x": [
          "2024-08-01T00:00:00.000000000",
          "2024-08-02T00:00:00.000000000",
          "2024-08-03T00:00:00.000000000",
          "2024-08-04T00:00:00.000000000",
          "2024-08-05T00:00:00.000000000",
          "2024-08-06T00:00:00.000000000",
          "2024-08-07T00:00:00.000000000",
          "2024-08-08T00:00:00.000000000",
          "2024-08-09T00:00:00.000000000",
          "2024-08-10T00:00:00.000000000",
          "2024-08-11T00:00:00.000000000",
          "2024-08-12T00:00:00.000000000",
          "2024-08-13T00:00:00.000000000",
          "2024-08-14T00:00:00.000000000",
          "2024-08-15T00:00:00.000000000",
          "2024-08-16T00:00:00.000000000",
          "2024-08-17T00:00:00.000000000",
          "2024-08-18T00:00:00.000000000",
          "2024-08-19T00:00:00.000000000",
          "2024-08-20T00:00:00.000000000",
          "2024-08-21T00:00:00.000000000",
          "2024-08-22T00:00:00.000000000",
          "2024-08-23T00:00:00.000000000",
          "2024-08-24T00:00:00.000000000",
          "2024-08-25T00:00:00.000000000",
          "2024-08-26T00:00:00.000000000",
          "2024-08-27T00:00:00.000000000",
          "2024-08-28T00:00:00.000000000",
          "2024-08-29T00:00:00.000000000",
          "2024-08-30T00:00:00.000000000",
          "2024-08-31T00:00:00.000000000",
          "2024-09-01T00:00:00.000000000",
          "2024-09-02T00:00:00.000000000",
          "2024-09-03T00:00:00.000000000",
          "2024-09-04T00:00:00.000000000",
          "2024-09-05T00:00:00.000000000",
          "2024-09-06T00:00:00.000000000",
          "2024-09-07T00:00:00.000000000",
          "2024-09-08T00:00:00.000000000",
          "2024-09-09T00:00:00.000000000",
          "2024-09-10T00:00:00.000000000",
          "2024-09-11T00:00:00.000000000",
          "2024-09-12T00:00:00.000000000",
          "2024-09-13T00:00:00.000000000",
          "2024-09-14T00:00:00.000000000",
          "2024-09-15T00:00:00.000000000",
          "2024-09-16T00:00:00.000000000",
          "2024-09-17T00:00:00.000000000",
          "2024-09-18T00:00:00.000000000",
          "2024-09-19T00:00:00.000000000",
          "2024-09-20T00:00:00.000000000",
          "2024-09-21T00:00:00.000000000",
          "2024-09-22T00:00:00.000000000",
          "2024-09-23T00:00:00.000000000",
          "2024-09-24T00:00:00.000000000",
          "2024-09-25T00:00:00.000000000",
          "2024-09-26T00:00:00.000000000",
          "2024-09-27T00:00:00.000000000",
          "2024-09-28T00:00:00.000000000",
          "2024-09-29T00:00:00.000000000",
          "2024-09-30T00:00:00.000000000",
          "2024-10-01T00:00:00.000000000",
          "2024-10-02T00:00:00.000000000",
          "2024-10-03T00:00:00.000000000",
          "2024-10-04T00:00:00.000000000",
          "2024-10-05T00:00:00.000000000",
          "2024-10-06T00:00:00.000000000",
          "2024-10-07T00:00:00.000000000",
          "2024-10-08T00:00:00.000000000",
          "2024-10-09T00:00:00.000000000",
          "2024-10-10T00:00:00.000000000",
          "2024-10-11T00:00:00.000000000",
          "2024-10-12T00:00:00.000000000",
          "2024-10-13T00:00:00.000000000",
          "2024-10-14T00:00:00.000000000",
          "2024-10-15T00:00:00.000000000",
          "2024-10-16T00:00:00.000000000",
          "2024-10-17T00:00:00.000000000",
          "2024-10-18T00:00:00.000000000",
          "2024-10-19T00:00:00.000000000",
          "2024-10-20T00:00:00.000000000",
          "2024-10-21T00:00:00.000000000",
          "2024-10-22T00:00:00.000000000",
          "2024-10-23T00:00:00.000000000",
          "2024-10-24T00:00:00.000000000",
          "2024-10-25T00:00:00.000000000",
          "2024-10-26T00:00:00.000000000",
          "2024-10-27T00:00:00.000000000",
          "2024-10-28T00:00:00.000000000",
          "2024-10-29T00:00:00.000000000",
          "2024-10-30T00:00:00.000000000",
          "2024-10-31T00:00:00.000000000",
          "2024-11-01T00:00:00.000000000",
          "2024-11-02T00:00:00.000000000",
          "2024-11-03T00:00:00.000000000",
          "2024-11-04T00:00:00.000000000",
          "2024-11-05T00:00:00.000000000",
          "2024-11-06T00:00:00.000000000",
          "2024-11-07T00:00:00.000000000",
          "2024-11-08T00:00:00.000000000",
          "2024-11-09T00:00:00.000000000",
          "2024-11-10T00:00:00.000000000",
          "2024-11-11T00:00:00.000000000",
          "2024-11-12T00:00:00.000000000",
          "2024-11-13T00:00:00.000000000",
          "2024-11-14T00:00:00.000000000",
          "2024-11-15T00:00:00.000000000",
          "2024-11-16T00:00:00.000000000",
          "2024-11-17T00:00:00.000000000",
          "2024-11-18T00:00:00.000000000",
          "2024-11-19T00:00:00.000000000",
          "2024-11-20T00:00:00.000000000",
          "2024-11-21T00:00:00.000000000",
          "2024-11-22T00:00:00.000000000",
          "2024-11-23T00:00:00.000000000",
          "2024-11-24T00:00:00.000000000",
          "2024-11-25T00:00:00.000000000",
          "2024-11-26T00:00:00.000000000",
          "2024-11-27T00:00:00.000000000",
          "2024-11-28T00:00:00.000000000",
          "2024-11-29T00:00:00.000000000",
          "2024-11-30T00:00:00.000000000",
          "2024-12-01T00:00:00.000000000",
          "2024-12-02T00:00:00.000000000",
          "2024-12-03T00:00:00.000000000",
          "2024-12-04T00:00:00.000000000",
          "2024-12-05T00:00:00.000000000",
          "2024-12-06T00:00:00.000000000",
          "2024-12-07T00:00:00.000000000",
          "2024-12-08T00:00:00.000000000",
          "2024-12-09T00:00:00.000000000",
          "2024-12-10T00:00:00.000000000",
          "2024-12-11T00:00:00.000000000",
          "2024-12-12T00:00:00.000000000",
          "2024-12-13T00:00:00.000000000",
          "2024-12-14T00:00:00.000000000",
          "2024-12-15T00:00:00.000000000",
          "2024-12-16T00:00:00.000000000",
          "2024-12-17T00:00:00.000000000",
          "2024-12-18T00:00:00.000000000",
          "2024-12-19T00:00:00.000000000",
          "2024-12-20T00:00:00.000000000",
          "2024-12-21T00:00:00.000000000",
          "2024-12-22T00:00:00.000000000",
          "2024-12-23T00:00:00.000000000",
          "2024-12-24T00:00:00.000000000",
          "2024-12-25T00:00:00.000000000",
          "2024-12-26T00:00:00.000000000",
          "2024-12-27T00:00:00.000000000",
          "2024-12-28T00:00:00.000000000",
          "2024-12-29T00:00:00.000000000",
          "2024-12-30T00:00:00.000000000",
          "2024-12-31T00:00:00.000000000",
          "2025-01-01T00:00:00.000000000",
          "2025-01-02T00:00:00.000000000",
          "2025-01-03T00:00:00.000000000",
          "2025-01-04T00:00:00.000000000",
          "2025-01-05T00:00:00.000000000",
          "2025-01-06T00:00:00.000000000",
          "2025-01-07T00:00:00.000000000",
          "2025-01-08T00:00:00.000000000",
          "2025-01-09T00:00:00.000000000",
          "2025-01-10T00:00:00.000000000",
          "2025-01-11T00:00:00.000000000",
          "2025-01-12T00:00:00.000000000",
          "2025-01-13T00:00:00.000000000",
          "2025-01-14T00:00:00.000000000",
          "2025-01-15T00:00:00.000000000",
          "2025-01-16T00:00:00.000000000",
          "2025-01-17T00:00:00.000000000",
          "2025-01-18T00:00:00.000000000",
          "2025-01-19T00:00:00.000000000",
          "2025-01-20T00:00:00.000000000",
          "2025-01-21T00:00:00.000000000",
          "2025-01-22T00:00:00.000000000",
          "2025-01-23T00:00:00.000000000",
          "2025-01-24T00:00:00.000000000",
          "2025-01-25T00:00:00.000000000",
          "2025-01-26T00:00:00.000000000",
          "2025-01-27T00:00:00.000000000",
          "2025-01-28T00:00:00.000000000",
          "2025-01-29T00:00:00.000000000",
          "2025-01-30T00:00:00.000000000",
          "2025-01-31T00:00:00.000000000",
          "2025-02-01T00:00:00.000000000",
          "2025-02-02T00:00:00.000000000",
          "2025-02-03T00:00:00.000000000",
          "2025-02-04T00:00:00.000000000",
          "2025-02-05T00:00:00.000000000",
          "2025-02-06T00:00:00.000000000",
          "2025-02-07T00:00:00.000000000",
          "2025-02-08T00:00:00.000000000",
          "2025-02-09T00:00:00.000000000",
          "2025-02-10T00:00:00.000000000",
          "2025-02-11T00:00:00.000000000",
          "2025-02-12T00:00:00.000000000",
          "2025-02-13T00:00:00.000000000",
          "2025-02-14T00:00:00.000000000",
          "2025-02-15T00:00:00.000000000",
          "2025-02-16T00:00:00.000000000",
          "2025-02-17T00:00:00.000000000",
          "2025-02-18T00:00:00.000000000",
          "2025-02-19T00:00:00.000000000",
          "2025-02-20T00:00:00.000000000",
          "2025-02-21T00:00:00.000000000",
          "2025-02-22T00:00:00.000000000",
          "2025-02-23T00:00:00.000000000",
          "2025-02-24T00:00:00.000000000",
          "2025-02-25T00:00:00.000000000",
          "2025-02-26T00:00:00.000000000",
          "2025-02-27T00:00:00.000000000",
          "2025-02-28T00:00:00.000000000",
          "2025-03-01T00:00:00.000000000",
          "2025-03-02T00:00:00.000000000",
          "2025-03-03T00:00:00.000000000",
          "2025-03-04T00:00:00.000000000",
          "2025-03-05T00:00:00.000000000",
          "2025-03-06T00:00:00.000000000",
          "2025-03-07T00:00:00.000000000",
          "2025-03-08T00:00:00.000000000",
          "2025-03-09T00:00:00.000000000",
          "2025-03-10T00:00:00.000000000",
          "2025-03-11T00:00:00.000000000",
          "2025-03-12T00:00:00.000000000",
          "2025-03-13T00:00:00.000000000",
          "2025-03-14T00:00:00.000000000",
          "2025-03-15T00:00:00.000000000",
          "2025-03-16T00:00:00.000000000",
          "2025-03-17T00:00:00.000000000",
          "2025-03-18T00:00:00.000000000",
          "2025-03-19T00:00:00.000000000",
          "2025-03-20T00:00:00.000000000",
          "2025-03-21T00:00:00.000000000",
          "2025-03-22T00:00:00.000000000",
          "2025-03-23T00:00:00.000000000",
          "2025-03-24T00:00:00.000000000",
          "2025-03-25T00:00:00.000000000",
          "2025-03-26T00:00:00.000000000",
          "2025-03-27T00:00:00.000000000",
          "2025-03-28T00:00:00.000000000",
          "2025-03-29T00:00:00.000000000",
          "2025-03-30T00:00:00.000000000",
          "2025-03-31T00:00:00.000000000",
          "2025-04-01T00:00:00.000000000",
          "2025-04-02T00:00:00.000000000",
          "2025-04-03T00:00:00.000000000",
          "2025-04-04T00:00:00.000000000",
          "2025-04-05T00:00:00.000000000",
          "2025-04-06T00:00:00.000000000",
          "2025-04-07T00:00:00.000000000",
          "2025-04-08T00:00:00.000000000",
          "2025-04-09T00:00:00.000000000",
          "2025-04-10T00:00:00.000000000",
          "2025-04-11T00:00:00.000000000",
          "2025-04-12T00:00:00.000000000",
          "2025-04-13T00:00:00.000000000",
          "2025-04-14T00:00:00.000000000",
          "2025-04-15T00:00:00.000000000",
          "2025-04-16T00:00:00.000000000",
          "2025-04-17T00:00:00.000000000",
          "2025-04-18T00:00:00.000000000",
          "2025-04-19T00:00:00.000000000",
          "2025-04-20T00:00:00.000000000",
          "2025-04-21T00:00:00.000000000",
          "2025-04-22T00:00:00.000000000",
          "2025-04-23T00:00:00.000000000",
          "2025-04-24T00:00:00.000000000",
          "2025-04-25T00:00:00.000000000",
          "2025-04-26T00:00:00.000000000",
          "2025-04-27T00:00:00.000000000",
          "2025-04-28T00:00:00.000000000",
          "2025-04-29T00:00:00.000000000",
          "2025-04-30T00:00:00.000000000",
          "2025-05-01T00:00:00.000000000",
          "2025-05-02T00:00:00.000000000",
          "2025-05-03T00:00:00.000000000",
          "2025-05-04T00:00:00.000000000",
          "2025-05-05T00:00:00.000000000",
          "2025-05-06T00:00:00.000000000",
          "2025-05-07T00:00:00.000000000",
          "2025-05-08T00:00:00.000000000",
          "2025-05-09T00:00:00.000000000",
          "2025-05-10T00:00:00.000000000",
          "2025-05-11T00:00:00.000000000",
          "2025-05-12T00:00:00.000000000",
          "2025-05-13T00:00:00.000000000",
          "2025-05-14T00:00:00.000000000",
          "2025-05-15T00:00:00.000000000",
          "2025-05-16T00:00:00.000000000",
          "2025-05-17T00:00:00.000000000",
          "2025-05-18T00:00:00.000000000",
          "2025-05-19T00:00:00.000000000",
          "2025-05-20T00:00:00.000000000",
          "2025-05-21T00:00:00.000000000",
          "2025-05-22T00:00:00.000000000",
          "2025-05-23T00:00:00.000000000",
          "2025-05-24T00:00:00.000000000",
          "2025-05-25T00:00:00.000000000",
          "2025-05-26T00:00:00.000000000",
          "2025-05-27T00:00:00.000000000",
          "2025-05-28T00:00:00.000000000",
          "2025-05-29T00:00:00.000000000",
          "2025-05-30T00:00:00.000000000",
          "2025-05-31T00:00:00.000000000",
          "2025-06-01T00:00:00.000000000",
          "2025-06-02T00:00:00.000000000",
          "2025-06-03T00:00:00.000000000",
          "2025-06-04T00:00:00.000000000",
          "2025-06-05T00:00:00.000000000",
          "2025-06-06T00:00:00.000000000",
          "2025-06-07T00:00:00.000000000",
          "2025-06-08T00:00:00.000000000",
          "2025-06-09T00:00:00.000000000",
          "2025-06-10T00:00:00.000000000",
          "2025-06-11T00:00:00.000000000",
          "2025-06-12T00:00:00.000000000",
          "2025-06-13T00:00:00.000000000",
          "2025-06-14T00:00:00.000000000",
          "2025-06-15T00:00:00.000000000",
          "2025-06-16T00:00:00.000000000",
          "2025-06-17T00:00:00.000000000",
          "2025-06-18T00:00:00.000000000",
          "2025-06-19T00:00:00.000000000",
          "2025-06-20T00:00:00.000000000",
          "2025-06-21T00:00:00.000000000",
          "2025-06-22T00:00:00.000000000",
          "2025-06-23T00:00:00.000000000",
          "2025-06-24T00:00:00.000000000",
          "2025-06-25T00:00:00.000000000",
          "2025-06-26T00:00:00.000000000",
          "2025-06-27T00:00:00.000000000",
          "2025-06-28T00:00:00.000000000",
          "2025-06-29T00:00:00.000000000",
          "2025-06-30T00:00:00.000000000",
          "2025-07-01T00:00:00.000000000",
          "2025-07-02T00:00:00.000000000",
          "2025-07-03T00:00:00.000000000",
          "2025-07-04T00:00:00.000000000",
          "2025-07-05T00:00:00.000000000",
          "2025-07-06T00:00:00.000000000",
          "2025-07-07T00:00:00.000000000",
          "2025-07-08T00:00:00.000000000",
          "2025-07-09T00:00:00.000000000",
          "2025-07-10T00:00:00.000000000",
          "2025-07-11T00:00:00.000000000",
          "2025-07-12T00:00:00.000000000",
          "2025-07-13T00:00:00.000000000",
          "2025-07-14T00:00:00.000000000",
          "2025-07-15T00:00:00.000000000",
          "2025-07-16T00:00:00.000000000",
          "2025-07-17T00:00:00.000000000",
          "2025-07-18T00:00:00.000000000",
          "2025-07-19T00:00:00.000000000",
          "2025-07-20T00:00:00.000000000",
          "2025-07-21T00:00:00.000000000",
          "2025-07-22T00:00:00.000000000",
          "2025-07-23T00:00:00.000000000",
          "2025-07-24T00:00:00.000000000",
          "2025-07-25T00:00:00.000000000",
          "2025-07-26T00:00:00.000000000",
          "2025-07-27T00:00:00.000000000",
          "2025-07-28T00:00:00.000000000",
          "2025-07-29T00:00:00.000000000",
          "2025-07-30T00:00:00.000000000",
          "2025-07-31T00:00:00.000000000"
         ],
         "xaxis": "x",
         "y": {
          "bdata": "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",
          "dtype": "f8"
         },
         "yaxis": "y"
        }
       ],
       "layout": {
        "legend": {
         "title": {
          "text": "variable"
         },
         "tracegroupgap": 0
        },
        "template": {
         "data": {
          "bar": [
           {
            "error_x": {
             "color": "#2a3f5f"
            },
            "error_y": {
             "color": "#2a3f5f"
            },
            "marker": {
             "line": {
              "color": "#E5ECF6",
              "width": 0.5
             },
             "pattern": {
              "fillmode": "overlay",
              "size": 10,
              "solidity": 0.2
             }
            },
            "type": "bar"
           }
          ],
          "barpolar": [
           {
            "marker": {
             "line": {
              "color": "#E5ECF6",
              "width": 0.5
             },
             "pattern": {
              "fillmode": "overlay",
              "size": 10,
              "solidity": 0.2
             }
            },
            "type": "barpolar"
           }
          ],
          "carpet": [
           {
            "aaxis": {
             "endlinecolor": "#2a3f5f",
             "gridcolor": "white",
             "linecolor": "white",
             "minorgridcolor": "white",
             "startlinecolor": "#2a3f5f"
            },
            "baxis": {
             "endlinecolor": "#2a3f5f",
             "gridcolor": "white",
             "linecolor": "white",
             "minorgridcolor": "white",
             "startlinecolor": "#2a3f5f"
            },
            "type": "carpet"
           }
          ],
          "choropleth": [
           {
            "colorbar": {
             "outlinewidth": 0,
             "ticks": ""
            },
            "type": "choropleth"
           }
          ],
          "contour": [
           {
            "colorbar": {
             "outlinewidth": 0,
             "ticks": ""
            },
            "colorscale": [
             [
              0,
              "#0d0887"
             ],
             [
              0.1111111111111111,
              "#46039f"
             ],
             [
              0.2222222222222222,
              "#7201a8"
             ],
             [
              0.3333333333333333,
              "#9c179e"
             ],
             [
              0.4444444444444444,
              "#bd3786"
             ],
             [
              0.5555555555555556,
              "#d8576b"
             ],
             [
              0.6666666666666666,
              "#ed7953"
             ],
             [
              0.7777777777777778,
              "#fb9f3a"
             ],
             [
              0.8888888888888888,
              "#fdca26"
             ],
             [
              1,
              "#f0f921"
             ]
            ],
            "type": "contour"
           }
          ],
          "contourcarpet": [
           {
            "colorbar": {
             "outlinewidth": 0,
             "ticks": ""
            },
            "type": "contourcarpet"
           }
          ],
          "heatmap": [
           {
            "colorbar": {
             "outlinewidth": 0,
             "ticks": ""
            },
            "colorscale": [
             [
              0,
              "#0d0887"
             ],
             [
              0.1111111111111111,
              "#46039f"
             ],
             [
              0.2222222222222222,
              "#7201a8"
             ],
             [
              0.3333333333333333,
              "#9c179e"
             ],
             [
              0.4444444444444444,
              "#bd3786"
             ],
             [
              0.5555555555555556,
              "#d8576b"
             ],
             [
              0.6666666666666666,
              "#ed7953"
             ],
             [
              0.7777777777777778,
              "#fb9f3a"
             ],
             [
              0.8888888888888888,
              "#fdca26"
             ],
             [
              1,
              "#f0f921"
             ]
            ],
            "type": "heatmap"
           }
          ],
          "histogram": [
           {
            "marker": {
             "pattern": {
              "fillmode": "overlay",
              "size": 10,
              "solidity": 0.2
             }
            },
            "type": "histogram"
           }
          ],
          "histogram2d": [
           {
            "colorbar": {
             "outlinewidth": 0,
             "ticks": ""
            },
            "colorscale": [
             [
              0,
              "#0d0887"
             ],
             [
              0.1111111111111111,
              "#46039f"
             ],
             [
              0.2222222222222222,
              "#7201a8"
             ],
             [
              0.3333333333333333,
              "#9c179e"
             ],
             [
              0.4444444444444444,
              "#bd3786"
             ],
             [
              0.5555555555555556,
              "#d8576b"
             ],
             [
              0.6666666666666666,
              "#ed7953"
             ],
             [
              0.7777777777777778,
              "#fb9f3a"
             ],
             [
              0.8888888888888888,
              "#fdca26"
             ],
             [
              1,
              "#f0f921"
             ]
            ],
            "type": "histogram2d"
           }
          ],
          "histogram2dcontour": [
           {
            "colorbar": {
             "outlinewidth": 0,
             "ticks": ""
            },
            "colorscale": [
             [
              0,
              "#0d0887"
             ],
             [
              0.1111111111111111,
              "#46039f"
             ],
             [
              0.2222222222222222,
              "#7201a8"
             ],
             [
              0.3333333333333333,
              "#9c179e"
             ],
             [
              0.4444444444444444,
              "#bd3786"
             ],
             [
              0.5555555555555556,
              "#d8576b"
             ],
             [
              0.6666666666666666,
              "#ed7953"
             ],
             [
              0.7777777777777778,
              "#fb9f3a"
             ],
             [
              0.8888888888888888,
              "#fdca26"
             ],
             [
              1,
              "#f0f921"
             ]
            ],
            "type": "histogram2dcontour"
           }
          ],
          "mesh3d": [
           {
            "colorbar": {
             "outlinewidth": 0,
             "ticks": ""
            },
            "type": "mesh3d"
           }
          ],
          "parcoords": [
           {
            "line": {
             "colorbar": {
              "outlinewidth": 0,
              "ticks": ""
             }
            },
            "type": "parcoords"
           }
          ],
          "pie": [
           {
            "automargin": true,
            "type": "pie"
           }
          ],
          "scatter": [
           {
            "fillpattern": {
             "fillmode": "overlay",
             "size": 10,
             "solidity": 0.2
            },
            "type": "scatter"
           }
          ],
          "scatter3d": [
           {
            "line": {
             "colorbar": {
              "outlinewidth": 0,
              "ticks": ""
             }
            },
            "marker": {
             "colorbar": {
              "outlinewidth": 0,
              "ticks": ""
             }
            },
            "type": "scatter3d"
           }
          ],
          "scattercarpet": [
           {
            "marker": {
             "colorbar": {
              "outlinewidth": 0,
              "ticks": ""
             }
            },
            "type": "scattercarpet"
           }
          ],
          "scattergeo": [
           {
            "marker": {
             "colorbar": {
              "outlinewidth": 0,
              "ticks": ""
             }
            },
            "type": "scattergeo"
           }
          ],
          "scattergl": [
           {
            "marker": {
             "colorbar": {
              "outlinewidth": 0,
              "ticks": ""
             }
            },
            "type": "scattergl"
           }
          ],
          "scattermap": [
           {
            "marker": {
             "colorbar": {
              "outlinewidth": 0,
              "ticks": ""
             }
            },
            "type": "scattermap"
           }
          ],
          "scattermapbox": [
           {
            "marker": {
             "colorbar": {
              "outlinewidth": 0,
              "ticks": ""
             }
            },
            "type": "scattermapbox"
           }
          ],
          "scatterpolar": [
           {
            "marker": {
             "colorbar": {
              "outlinewidth": 0,
              "ticks": ""
             }
            },
            "type": "scatterpolar"
           }
          ],
          "scatterpolargl": [
           {
            "marker": {
             "colorbar": {
              "outlinewidth": 0,
              "ticks": ""
             }
            },
            "type": "scatterpolargl"
           }
          ],
          "scatterternary": [
           {
            "marker": {
             "colorbar": {
              "outlinewidth": 0,
              "ticks": ""
             }
            },
            "type": "scatterternary"
           }
          ],
          "surface": [
           {
            "colorbar": {
             "outlinewidth": 0,
             "ticks": ""
            },
            "colorscale": [
             [
              0,
              "#0d0887"
             ],
             [
              0.1111111111111111,
              "#46039f"
             ],
             [
              0.2222222222222222,
              "#7201a8"
             ],
             [
              0.3333333333333333,
              "#9c179e"
             ],
             [
              0.4444444444444444,
              "#bd3786"
             ],
             [
              0.5555555555555556,
              "#d8576b"
             ],
             [
              0.6666666666666666,
              "#ed7953"
             ],
             [
              0.7777777777777778,
              "#fb9f3a"
             ],
             [
              0.8888888888888888,
              "#fdca26"
             ],
             [
              1,
              "#f0f921"
             ]
            ],
            "type": "surface"
           }
          ],
          "table": [
           {
            "cells": {
             "fill": {
              "color": "#EBF0F8"
             },
             "line": {
              "color": "white"
             }
            },
            "header": {
             "fill": {
              "color": "#C8D4E3"
             },
             "line": {
              "color": "white"
             }
            },
            "type": "table"
           }
          ]
         },
         "layout": {
          "annotationdefaults": {
           "arrowcolor": "#2a3f5f",
           "arrowhead": 0,
           "arrowwidth": 1
          },
          "autotypenumbers": "strict",
          "coloraxis": {
           "colorbar": {
            "outlinewidth": 0,
            "ticks": ""
           }
          },
          "colorscale": {
           "diverging": [
            [
             0,
             "#8e0152"
            ],
            [
             0.1,
             "#c51b7d"
            ],
            [
             0.2,
             "#de77ae"
            ],
            [
             0.3,
             "#f1b6da"
            ],
            [
             0.4,
             "#fde0ef"
            ],
            [
             0.5,
             "#f7f7f7"
            ],
            [
             0.6,
             "#e6f5d0"
            ],
            [
             0.7,
             "#b8e186"
            ],
            [
             0.8,
             "#7fbc41"
            ],
            [
             0.9,
             "#4d9221"
            ],
            [
             1,
             "#276419"
            ]
           ],
           "sequential": [
            [
             0,
             "#0d0887"
            ],
            [
             0.1111111111111111,
             "#46039f"
            ],
            [
             0.2222222222222222,
             "#7201a8"
            ],
            [
             0.3333333333333333,
             "#9c179e"
            ],
            [
             0.4444444444444444,
             "#bd3786"
            ],
            [
             0.5555555555555556,
             "#d8576b"
            ],
            [
             0.6666666666666666,
             "#ed7953"
            ],
            [
             0.7777777777777778,
             "#fb9f3a"
            ],
            [
             0.8888888888888888,
             "#fdca26"
            ],
            [
             1,
             "#f0f921"
            ]
           ],
           "sequentialminus": [
            [
             0,
             "#0d0887"
            ],
            [
             0.1111111111111111,
             "#46039f"
            ],
            [
             0.2222222222222222,
             "#7201a8"
            ],
            [
             0.3333333333333333,
             "#9c179e"
            ],
            [
             0.4444444444444444,
             "#bd3786"
            ],
            [
             0.5555555555555556,
             "#d8576b"
            ],
            [
             0.6666666666666666,
             "#ed7953"
            ],
            [
             0.7777777777777778,
             "#fb9f3a"
            ],
            [
             0.8888888888888888,
             "#fdca26"
            ],
            [
             1,
             "#f0f921"
            ]
           ]
          },
          "colorway": [
           "#636efa",
           "#EF553B",
           "#00cc96",
           "#ab63fa",
           "#FFA15A",
           "#19d3f3",
           "#FF6692",
           "#B6E880",
           "#FF97FF",
           "#FECB52"
          ],
          "font": {
           "color": "#2a3f5f"
          },
          "geo": {
           "bgcolor": "white",
           "lakecolor": "white",
           "landcolor": "#E5ECF6",
           "showlakes": true,
           "showland": true,
           "subunitcolor": "white"
          },
          "hoverlabel": {
           "align": "left"
          },
          "hovermode": "closest",
          "mapbox": {
           "style": "light"
          },
          "paper_bgcolor": "white",
          "plot_bgcolor": "#E5ECF6",
          "polar": {
           "angularaxis": {
            "gridcolor": "white",
            "linecolor": "white",
            "ticks": ""
           },
           "bgcolor": "#E5ECF6",
           "radialaxis": {
            "gridcolor": "white",
            "linecolor": "white",
            "ticks": ""
           }
          },
          "scene": {
           "xaxis": {
            "backgroundcolor": "#E5ECF6",
            "gridcolor": "white",
            "gridwidth": 2,
            "linecolor": "white",
            "showbackground": true,
            "ticks": "",
            "zerolinecolor": "white"
           },
           "yaxis": {
            "backgroundcolor": "#E5ECF6",
            "gridcolor": "white",
            "gridwidth": 2,
            "linecolor": "white",
            "showbackground": true,
            "ticks": "",
            "zerolinecolor": "white"
           },
           "zaxis": {
            "backgroundcolor": "#E5ECF6",
            "gridcolor": "white",
            "gridwidth": 2,
            "linecolor": "white",
            "showbackground": true,
            "ticks": "",
            "zerolinecolor": "white"
           }
          },
          "shapedefaults": {
           "line": {
            "color": "#2a3f5f"
           }
          },
          "ternary": {
           "aaxis": {
            "gridcolor": "white",
            "linecolor": "white",
            "ticks": ""
           },
           "baxis": {
            "gridcolor": "white",
            "linecolor": "white",
            "ticks": ""
           },
           "bgcolor": "#E5ECF6",
           "caxis": {
            "gridcolor": "white",
            "linecolor": "white",
            "ticks": ""
           }
          },
          "title": {
           "x": 0.05
          },
          "xaxis": {
           "automargin": true,
           "gridcolor": "white",
           "linecolor": "white",
           "ticks": "",
           "title": {
            "standoff": 15
           },
           "zerolinecolor": "white",
           "zerolinewidth": 2
          },
          "yaxis": {
           "automargin": true,
           "gridcolor": "white",
           "linecolor": "white",
           "ticks": "",
           "title": {
            "standoff": 15
           },
           "zerolinecolor": "white",
           "zerolinewidth": 2
          }
         }
        },
        "title": {
         "text": "Plot of daily ROI's with rolling average over 7 days"
        },
        "xaxis": {
         "anchor": "y",
         "domain": [
          0,
          1
         ],
         "title": {
          "text": "date"
         }
        },
        "yaxis": {
         "anchor": "x",
         "domain": [
          0,
          1
         ],
         "title": {
          "text": "value"
         }
        }
       }
      }
     },
     "metadata": {},
     "output_type": "display_data"
    }
   ],
   "source": [
    "# 7 days\n",
    "fig = px.line(roi_plot, x=roi_plot.index, y=['daily_roi_social', 'rolling_avg_social_7', 'daily_roi_ppc', 'rolling_avg_ppc_7'], title=\"Plot of daily ROI's with rolling average over 7 days\")\n",
    "fig.show()"
   ]
  },
  {
   "cell_type": "code",
   "execution_count": 139,
   "id": "73ef30f4",
   "metadata": {},
   "outputs": [
    {
     "data": {
      "application/vnd.plotly.v1+json": {
       "config": {
        "plotlyServerURL": "https://plot.ly"
       },
       "data": [
        {
         "hovertemplate": "variable=daily_roi_social<br>date=%{x}<br>value=%{y}<extra></extra>",
         "legendgroup": "daily_roi_social",
         "line": {
          "color": "#636efa",
          "dash": "solid"
         },
         "marker": {
          "symbol": "circle"
         },
         "mode": "lines",
         "name": "daily_roi_social",
         "showlegend": true,
         "type": "scattergl",
         "x": [
          "2024-08-01T00:00:00.000000000",
          "2024-08-02T00:00:00.000000000",
          "2024-08-03T00:00:00.000000000",
          "2024-08-04T00:00:00.000000000",
          "2024-08-05T00:00:00.000000000",
          "2024-08-06T00:00:00.000000000",
          "2024-08-07T00:00:00.000000000",
          "2024-08-08T00:00:00.000000000",
          "2024-08-09T00:00:00.000000000",
          "2024-08-10T00:00:00.000000000",
          "2024-08-11T00:00:00.000000000",
          "2024-08-12T00:00:00.000000000",
          "2024-08-13T00:00:00.000000000",
          "2024-08-14T00:00:00.000000000",
          "2024-08-15T00:00:00.000000000",
          "2024-08-16T00:00:00.000000000",
          "2024-08-17T00:00:00.000000000",
          "2024-08-18T00:00:00.000000000",
          "2024-08-19T00:00:00.000000000",
          "2024-08-20T00:00:00.000000000",
          "2024-08-21T00:00:00.000000000",
          "2024-08-22T00:00:00.000000000",
          "2024-08-23T00:00:00.000000000",
          "2024-08-24T00:00:00.000000000",
          "2024-08-25T00:00:00.000000000",
          "2024-08-26T00:00:00.000000000",
          "2024-08-27T00:00:00.000000000",
          "2024-08-28T00:00:00.000000000",
          "2024-08-29T00:00:00.000000000",
          "2024-08-30T00:00:00.000000000",
          "2024-08-31T00:00:00.000000000",
          "2024-09-01T00:00:00.000000000",
          "2024-09-02T00:00:00.000000000",
          "2024-09-03T00:00:00.000000000",
          "2024-09-04T00:00:00.000000000",
          "2024-09-05T00:00:00.000000000",
          "2024-09-06T00:00:00.000000000",
          "2024-09-07T00:00:00.000000000",
          "2024-09-08T00:00:00.000000000",
          "2024-09-09T00:00:00.000000000",
          "2024-09-10T00:00:00.000000000",
          "2024-09-11T00:00:00.000000000",
          "2024-09-12T00:00:00.000000000",
          "2024-09-13T00:00:00.000000000",
          "2024-09-14T00:00:00.000000000",
          "2024-09-15T00:00:00.000000000",
          "2024-09-16T00:00:00.000000000",
          "2024-09-17T00:00:00.000000000",
          "2024-09-18T00:00:00.000000000",
          "2024-09-19T00:00:00.000000000",
          "2024-09-20T00:00:00.000000000",
          "2024-09-21T00:00:00.000000000",
          "2024-09-22T00:00:00.000000000",
          "2024-09-23T00:00:00.000000000",
          "2024-09-24T00:00:00.000000000",
          "2024-09-25T00:00:00.000000000",
          "2024-09-26T00:00:00.000000000",
          "2024-09-27T00:00:00.000000000",
          "2024-09-28T00:00:00.000000000",
          "2024-09-29T00:00:00.000000000",
          "2024-09-30T00:00:00.000000000",
          "2024-10-01T00:00:00.000000000",
          "2024-10-02T00:00:00.000000000",
          "2024-10-03T00:00:00.000000000",
          "2024-10-04T00:00:00.000000000",
          "2024-10-05T00:00:00.000000000",
          "2024-10-06T00:00:00.000000000",
          "2024-10-07T00:00:00.000000000",
          "2024-10-08T00:00:00.000000000",
          "2024-10-09T00:00:00.000000000",
          "2024-10-10T00:00:00.000000000",
          "2024-10-11T00:00:00.000000000",
          "2024-10-12T00:00:00.000000000",
          "2024-10-13T00:00:00.000000000",
          "2024-10-14T00:00:00.000000000",
          "2024-10-15T00:00:00.000000000",
          "2024-10-16T00:00:00.000000000",
          "2024-10-17T00:00:00.000000000",
          "2024-10-18T00:00:00.000000000",
          "2024-10-19T00:00:00.000000000",
          "2024-10-20T00:00:00.000000000",
          "2024-10-21T00:00:00.000000000",
          "2024-10-22T00:00:00.000000000",
          "2024-10-23T00:00:00.000000000",
          "2024-10-24T00:00:00.000000000",
          "2024-10-25T00:00:00.000000000",
          "2024-10-26T00:00:00.000000000",
          "2024-10-27T00:00:00.000000000",
          "2024-10-28T00:00:00.000000000",
          "2024-10-29T00:00:00.000000000",
          "2024-10-30T00:00:00.000000000",
          "2024-10-31T00:00:00.000000000",
          "2024-11-01T00:00:00.000000000",
          "2024-11-02T00:00:00.000000000",
          "2024-11-03T00:00:00.000000000",
          "2024-11-04T00:00:00.000000000",
          "2024-11-05T00:00:00.000000000",
          "2024-11-06T00:00:00.000000000",
          "2024-11-07T00:00:00.000000000",
          "2024-11-08T00:00:00.000000000",
          "2024-11-09T00:00:00.000000000",
          "2024-11-10T00:00:00.000000000",
          "2024-11-11T00:00:00.000000000",
          "2024-11-12T00:00:00.000000000",
          "2024-11-13T00:00:00.000000000",
          "2024-11-14T00:00:00.000000000",
          "2024-11-15T00:00:00.000000000",
          "2024-11-16T00:00:00.000000000",
          "2024-11-17T00:00:00.000000000",
          "2024-11-18T00:00:00.000000000",
          "2024-11-19T00:00:00.000000000",
          "2024-11-20T00:00:00.000000000",
          "2024-11-21T00:00:00.000000000",
          "2024-11-22T00:00:00.000000000",
          "2024-11-23T00:00:00.000000000",
          "2024-11-24T00:00:00.000000000",
          "2024-11-25T00:00:00.000000000",
          "2024-11-26T00:00:00.000000000",
          "2024-11-27T00:00:00.000000000",
          "2024-11-28T00:00:00.000000000",
          "2024-11-29T00:00:00.000000000",
          "2024-11-30T00:00:00.000000000",
          "2024-12-01T00:00:00.000000000",
          "2024-12-02T00:00:00.000000000",
          "2024-12-03T00:00:00.000000000",
          "2024-12-04T00:00:00.000000000",
          "2024-12-05T00:00:00.000000000",
          "2024-12-06T00:00:00.000000000",
          "2024-12-07T00:00:00.000000000",
          "2024-12-08T00:00:00.000000000",
          "2024-12-09T00:00:00.000000000",
          "2024-12-10T00:00:00.000000000",
          "2024-12-11T00:00:00.000000000",
          "2024-12-12T00:00:00.000000000",
          "2024-12-13T00:00:00.000000000",
          "2024-12-14T00:00:00.000000000",
          "2024-12-15T00:00:00.000000000",
          "2024-12-16T00:00:00.000000000",
          "2024-12-17T00:00:00.000000000",
          "2024-12-18T00:00:00.000000000",
          "2024-12-19T00:00:00.000000000",
          "2024-12-20T00:00:00.000000000",
          "2024-12-21T00:00:00.000000000",
          "2024-12-22T00:00:00.000000000",
          "2024-12-23T00:00:00.000000000",
          "2024-12-24T00:00:00.000000000",
          "2024-12-25T00:00:00.000000000",
          "2024-12-26T00:00:00.000000000",
          "2024-12-27T00:00:00.000000000",
          "2024-12-28T00:00:00.000000000",
          "2024-12-29T00:00:00.000000000",
          "2024-12-30T00:00:00.000000000",
          "2024-12-31T00:00:00.000000000",
          "2025-01-01T00:00:00.000000000",
          "2025-01-02T00:00:00.000000000",
          "2025-01-03T00:00:00.000000000",
          "2025-01-04T00:00:00.000000000",
          "2025-01-05T00:00:00.000000000",
          "2025-01-06T00:00:00.000000000",
          "2025-01-07T00:00:00.000000000",
          "2025-01-08T00:00:00.000000000",
          "2025-01-09T00:00:00.000000000",
          "2025-01-10T00:00:00.000000000",
          "2025-01-11T00:00:00.000000000",
          "2025-01-12T00:00:00.000000000",
          "2025-01-13T00:00:00.000000000",
          "2025-01-14T00:00:00.000000000",
          "2025-01-15T00:00:00.000000000",
          "2025-01-16T00:00:00.000000000",
          "2025-01-17T00:00:00.000000000",
          "2025-01-18T00:00:00.000000000",
          "2025-01-19T00:00:00.000000000",
          "2025-01-20T00:00:00.000000000",
          "2025-01-21T00:00:00.000000000",
          "2025-01-22T00:00:00.000000000",
          "2025-01-23T00:00:00.000000000",
          "2025-01-24T00:00:00.000000000",
          "2025-01-25T00:00:00.000000000",
          "2025-01-26T00:00:00.000000000",
          "2025-01-27T00:00:00.000000000",
          "2025-01-28T00:00:00.000000000",
          "2025-01-29T00:00:00.000000000",
          "2025-01-30T00:00:00.000000000",
          "2025-01-31T00:00:00.000000000",
          "2025-02-01T00:00:00.000000000",
          "2025-02-02T00:00:00.000000000",
          "2025-02-03T00:00:00.000000000",
          "2025-02-04T00:00:00.000000000",
          "2025-02-05T00:00:00.000000000",
          "2025-02-06T00:00:00.000000000",
          "2025-02-07T00:00:00.000000000",
          "2025-02-08T00:00:00.000000000",
          "2025-02-09T00:00:00.000000000",
          "2025-02-10T00:00:00.000000000",
          "2025-02-11T00:00:00.000000000",
          "2025-02-12T00:00:00.000000000",
          "2025-02-13T00:00:00.000000000",
          "2025-02-14T00:00:00.000000000",
          "2025-02-15T00:00:00.000000000",
          "2025-02-16T00:00:00.000000000",
          "2025-02-17T00:00:00.000000000",
          "2025-02-18T00:00:00.000000000",
          "2025-02-19T00:00:00.000000000",
          "2025-02-20T00:00:00.000000000",
          "2025-02-21T00:00:00.000000000",
          "2025-02-22T00:00:00.000000000",
          "2025-02-23T00:00:00.000000000",
          "2025-02-24T00:00:00.000000000",
          "2025-02-25T00:00:00.000000000",
          "2025-02-26T00:00:00.000000000",
          "2025-02-27T00:00:00.000000000",
          "2025-02-28T00:00:00.000000000",
          "2025-03-01T00:00:00.000000000",
          "2025-03-02T00:00:00.000000000",
          "2025-03-03T00:00:00.000000000",
          "2025-03-04T00:00:00.000000000",
          "2025-03-05T00:00:00.000000000",
          "2025-03-06T00:00:00.000000000",
          "2025-03-07T00:00:00.000000000",
          "2025-03-08T00:00:00.000000000",
          "2025-03-09T00:00:00.000000000",
          "2025-03-10T00:00:00.000000000",
          "2025-03-11T00:00:00.000000000",
          "2025-03-12T00:00:00.000000000",
          "2025-03-13T00:00:00.000000000",
          "2025-03-14T00:00:00.000000000",
          "2025-03-15T00:00:00.000000000",
          "2025-03-16T00:00:00.000000000",
          "2025-03-17T00:00:00.000000000",
          "2025-03-18T00:00:00.000000000",
          "2025-03-19T00:00:00.000000000",
          "2025-03-20T00:00:00.000000000",
          "2025-03-21T00:00:00.000000000",
          "2025-03-22T00:00:00.000000000",
          "2025-03-23T00:00:00.000000000",
          "2025-03-24T00:00:00.000000000",
          "2025-03-25T00:00:00.000000000",
          "2025-03-26T00:00:00.000000000",
          "2025-03-27T00:00:00.000000000",
          "2025-03-28T00:00:00.000000000",
          "2025-03-29T00:00:00.000000000",
          "2025-03-30T00:00:00.000000000",
          "2025-03-31T00:00:00.000000000",
          "2025-04-01T00:00:00.000000000",
          "2025-04-02T00:00:00.000000000",
          "2025-04-03T00:00:00.000000000",
          "2025-04-04T00:00:00.000000000",
          "2025-04-05T00:00:00.000000000",
          "2025-04-06T00:00:00.000000000",
          "2025-04-07T00:00:00.000000000",
          "2025-04-08T00:00:00.000000000",
          "2025-04-09T00:00:00.000000000",
          "2025-04-10T00:00:00.000000000",
          "2025-04-11T00:00:00.000000000",
          "2025-04-12T00:00:00.000000000",
          "2025-04-13T00:00:00.000000000",
          "2025-04-14T00:00:00.000000000",
          "2025-04-15T00:00:00.000000000",
          "2025-04-16T00:00:00.000000000",
          "2025-04-17T00:00:00.000000000",
          "2025-04-18T00:00:00.000000000",
          "2025-04-19T00:00:00.000000000",
          "2025-04-20T00:00:00.000000000",
          "2025-04-21T00:00:00.000000000",
          "2025-04-22T00:00:00.000000000",
          "2025-04-23T00:00:00.000000000",
          "2025-04-24T00:00:00.000000000",
          "2025-04-25T00:00:00.000000000",
          "2025-04-26T00:00:00.000000000",
          "2025-04-27T00:00:00.000000000",
          "2025-04-28T00:00:00.000000000",
          "2025-04-29T00:00:00.000000000",
          "2025-04-30T00:00:00.000000000",
          "2025-05-01T00:00:00.000000000",
          "2025-05-02T00:00:00.000000000",
          "2025-05-03T00:00:00.000000000",
          "2025-05-04T00:00:00.000000000",
          "2025-05-05T00:00:00.000000000",
          "2025-05-06T00:00:00.000000000",
          "2025-05-07T00:00:00.000000000",
          "2025-05-08T00:00:00.000000000",
          "2025-05-09T00:00:00.000000000",
          "2025-05-10T00:00:00.000000000",
          "2025-05-11T00:00:00.000000000",
          "2025-05-12T00:00:00.000000000",
          "2025-05-13T00:00:00.000000000",
          "2025-05-14T00:00:00.000000000",
          "2025-05-15T00:00:00.000000000",
          "2025-05-16T00:00:00.000000000",
          "2025-05-17T00:00:00.000000000",
          "2025-05-18T00:00:00.000000000",
          "2025-05-19T00:00:00.000000000",
          "2025-05-20T00:00:00.000000000",
          "2025-05-21T00:00:00.000000000",
          "2025-05-22T00:00:00.000000000",
          "2025-05-23T00:00:00.000000000",
          "2025-05-24T00:00:00.000000000",
          "2025-05-25T00:00:00.000000000",
          "2025-05-26T00:00:00.000000000",
          "2025-05-27T00:00:00.000000000",
          "2025-05-28T00:00:00.000000000",
          "2025-05-29T00:00:00.000000000",
          "2025-05-30T00:00:00.000000000",
          "2025-05-31T00:00:00.000000000",
          "2025-06-01T00:00:00.000000000",
          "2025-06-02T00:00:00.000000000",
          "2025-06-03T00:00:00.000000000",
          "2025-06-04T00:00:00.000000000",
          "2025-06-05T00:00:00.000000000",
          "2025-06-06T00:00:00.000000000",
          "2025-06-07T00:00:00.000000000",
          "2025-06-08T00:00:00.000000000",
          "2025-06-09T00:00:00.000000000",
          "2025-06-10T00:00:00.000000000",
          "2025-06-11T00:00:00.000000000",
          "2025-06-12T00:00:00.000000000",
          "2025-06-13T00:00:00.000000000",
          "2025-06-14T00:00:00.000000000",
          "2025-06-15T00:00:00.000000000",
          "2025-06-16T00:00:00.000000000",
          "2025-06-17T00:00:00.000000000",
          "2025-06-18T00:00:00.000000000",
          "2025-06-19T00:00:00.000000000",
          "2025-06-20T00:00:00.000000000",
          "2025-06-21T00:00:00.000000000",
          "2025-06-22T00:00:00.000000000",
          "2025-06-23T00:00:00.000000000",
          "2025-06-24T00:00:00.000000000",
          "2025-06-25T00:00:00.000000000",
          "2025-06-26T00:00:00.000000000",
          "2025-06-27T00:00:00.000000000",
          "2025-06-28T00:00:00.000000000",
          "2025-06-29T00:00:00.000000000",
          "2025-06-30T00:00:00.000000000",
          "2025-07-01T00:00:00.000000000",
          "2025-07-02T00:00:00.000000000",
          "2025-07-03T00:00:00.000000000",
          "2025-07-04T00:00:00.000000000",
          "2025-07-05T00:00:00.000000000",
          "2025-07-06T00:00:00.000000000",
          "2025-07-07T00:00:00.000000000",
          "2025-07-08T00:00:00.000000000",
          "2025-07-09T00:00:00.000000000",
          "2025-07-10T00:00:00.000000000",
          "2025-07-11T00:00:00.000000000",
          "2025-07-12T00:00:00.000000000",
          "2025-07-13T00:00:00.000000000",
          "2025-07-14T00:00:00.000000000",
          "2025-07-15T00:00:00.000000000",
          "2025-07-16T00:00:00.000000000",
          "2025-07-17T00:00:00.000000000",
          "2025-07-18T00:00:00.000000000",
          "2025-07-19T00:00:00.000000000",
          "2025-07-20T00:00:00.000000000",
          "2025-07-21T00:00:00.000000000",
          "2025-07-22T00:00:00.000000000",
          "2025-07-23T00:00:00.000000000",
          "2025-07-24T00:00:00.000000000",
          "2025-07-25T00:00:00.000000000",
          "2025-07-26T00:00:00.000000000",
          "2025-07-27T00:00:00.000000000",
          "2025-07-28T00:00:00.000000000",
          "2025-07-29T00:00:00.000000000",
          "2025-07-30T00:00:00.000000000",
          "2025-07-31T00:00:00.000000000"
         ],
         "xaxis": "x",
         "y": {
          "bdata": "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",
          "dtype": "f8"
         },
         "yaxis": "y"
        },
        {
         "hovertemplate": "variable=rolling_avg_social_30<br>date=%{x}<br>value=%{y}<extra></extra>",
         "legendgroup": "rolling_avg_social_30",
         "line": {
          "color": "#EF553B",
          "dash": "solid"
         },
         "marker": {
          "symbol": "circle"
         },
         "mode": "lines",
         "name": "rolling_avg_social_30",
         "showlegend": true,
         "type": "scattergl",
         "x": [
          "2024-08-01T00:00:00.000000000",
          "2024-08-02T00:00:00.000000000",
          "2024-08-03T00:00:00.000000000",
          "2024-08-04T00:00:00.000000000",
          "2024-08-05T00:00:00.000000000",
          "2024-08-06T00:00:00.000000000",
          "2024-08-07T00:00:00.000000000",
          "2024-08-08T00:00:00.000000000",
          "2024-08-09T00:00:00.000000000",
          "2024-08-10T00:00:00.000000000",
          "2024-08-11T00:00:00.000000000",
          "2024-08-12T00:00:00.000000000",
          "2024-08-13T00:00:00.000000000",
          "2024-08-14T00:00:00.000000000",
          "2024-08-15T00:00:00.000000000",
          "2024-08-16T00:00:00.000000000",
          "2024-08-17T00:00:00.000000000",
          "2024-08-18T00:00:00.000000000",
          "2024-08-19T00:00:00.000000000",
          "2024-08-20T00:00:00.000000000",
          "2024-08-21T00:00:00.000000000",
          "2024-08-22T00:00:00.000000000",
          "2024-08-23T00:00:00.000000000",
          "2024-08-24T00:00:00.000000000",
          "2024-08-25T00:00:00.000000000",
          "2024-08-26T00:00:00.000000000",
          "2024-08-27T00:00:00.000000000",
          "2024-08-28T00:00:00.000000000",
          "2024-08-29T00:00:00.000000000",
          "2024-08-30T00:00:00.000000000",
          "2024-08-31T00:00:00.000000000",
          "2024-09-01T00:00:00.000000000",
          "2024-09-02T00:00:00.000000000",
          "2024-09-03T00:00:00.000000000",
          "2024-09-04T00:00:00.000000000",
          "2024-09-05T00:00:00.000000000",
          "2024-09-06T00:00:00.000000000",
          "2024-09-07T00:00:00.000000000",
          "2024-09-08T00:00:00.000000000",
          "2024-09-09T00:00:00.000000000",
          "2024-09-10T00:00:00.000000000",
          "2024-09-11T00:00:00.000000000",
          "2024-09-12T00:00:00.000000000",
          "2024-09-13T00:00:00.000000000",
          "2024-09-14T00:00:00.000000000",
          "2024-09-15T00:00:00.000000000",
          "2024-09-16T00:00:00.000000000",
          "2024-09-17T00:00:00.000000000",
          "2024-09-18T00:00:00.000000000",
          "2024-09-19T00:00:00.000000000",
          "2024-09-20T00:00:00.000000000",
          "2024-09-21T00:00:00.000000000",
          "2024-09-22T00:00:00.000000000",
          "2024-09-23T00:00:00.000000000",
          "2024-09-24T00:00:00.000000000",
          "2024-09-25T00:00:00.000000000",
          "2024-09-26T00:00:00.000000000",
          "2024-09-27T00:00:00.000000000",
          "2024-09-28T00:00:00.000000000",
          "2024-09-29T00:00:00.000000000",
          "2024-09-30T00:00:00.000000000",
          "2024-10-01T00:00:00.000000000",
          "2024-10-02T00:00:00.000000000",
          "2024-10-03T00:00:00.000000000",
          "2024-10-04T00:00:00.000000000",
          "2024-10-05T00:00:00.000000000",
          "2024-10-06T00:00:00.000000000",
          "2024-10-07T00:00:00.000000000",
          "2024-10-08T00:00:00.000000000",
          "2024-10-09T00:00:00.000000000",
          "2024-10-10T00:00:00.000000000",
          "2024-10-11T00:00:00.000000000",
          "2024-10-12T00:00:00.000000000",
          "2024-10-13T00:00:00.000000000",
          "2024-10-14T00:00:00.000000000",
          "2024-10-15T00:00:00.000000000",
          "2024-10-16T00:00:00.000000000",
          "2024-10-17T00:00:00.000000000",
          "2024-10-18T00:00:00.000000000",
          "2024-10-19T00:00:00.000000000",
          "2024-10-20T00:00:00.000000000",
          "2024-10-21T00:00:00.000000000",
          "2024-10-22T00:00:00.000000000",
          "2024-10-23T00:00:00.000000000",
          "2024-10-24T00:00:00.000000000",
          "2024-10-25T00:00:00.000000000",
          "2024-10-26T00:00:00.000000000",
          "2024-10-27T00:00:00.000000000",
          "2024-10-28T00:00:00.000000000",
          "2024-10-29T00:00:00.000000000",
          "2024-10-30T00:00:00.000000000",
          "2024-10-31T00:00:00.000000000",
          "2024-11-01T00:00:00.000000000",
          "2024-11-02T00:00:00.000000000",
          "2024-11-03T00:00:00.000000000",
          "2024-11-04T00:00:00.000000000",
          "2024-11-05T00:00:00.000000000",
          "2024-11-06T00:00:00.000000000",
          "2024-11-07T00:00:00.000000000",
          "2024-11-08T00:00:00.000000000",
          "2024-11-09T00:00:00.000000000",
          "2024-11-10T00:00:00.000000000",
          "2024-11-11T00:00:00.000000000",
          "2024-11-12T00:00:00.000000000",
          "2024-11-13T00:00:00.000000000",
          "2024-11-14T00:00:00.000000000",
          "2024-11-15T00:00:00.000000000",
          "2024-11-16T00:00:00.000000000",
          "2024-11-17T00:00:00.000000000",
          "2024-11-18T00:00:00.000000000",
          "2024-11-19T00:00:00.000000000",
          "2024-11-20T00:00:00.000000000",
          "2024-11-21T00:00:00.000000000",
          "2024-11-22T00:00:00.000000000",
          "2024-11-23T00:00:00.000000000",
          "2024-11-24T00:00:00.000000000",
          "2024-11-25T00:00:00.000000000",
          "2024-11-26T00:00:00.000000000",
          "2024-11-27T00:00:00.000000000",
          "2024-11-28T00:00:00.000000000",
          "2024-11-29T00:00:00.000000000",
          "2024-11-30T00:00:00.000000000",
          "2024-12-01T00:00:00.000000000",
          "2024-12-02T00:00:00.000000000",
          "2024-12-03T00:00:00.000000000",
          "2024-12-04T00:00:00.000000000",
          "2024-12-05T00:00:00.000000000",
          "2024-12-06T00:00:00.000000000",
          "2024-12-07T00:00:00.000000000",
          "2024-12-08T00:00:00.000000000",
          "2024-12-09T00:00:00.000000000",
          "2024-12-10T00:00:00.000000000",
          "2024-12-11T00:00:00.000000000",
          "2024-12-12T00:00:00.000000000",
          "2024-12-13T00:00:00.000000000",
          "2024-12-14T00:00:00.000000000",
          "2024-12-15T00:00:00.000000000",
          "2024-12-16T00:00:00.000000000",
          "2024-12-17T00:00:00.000000000",
          "2024-12-18T00:00:00.000000000",
          "2024-12-19T00:00:00.000000000",
          "2024-12-20T00:00:00.000000000",
          "2024-12-21T00:00:00.000000000",
          "2024-12-22T00:00:00.000000000",
          "2024-12-23T00:00:00.000000000",
          "2024-12-24T00:00:00.000000000",
          "2024-12-25T00:00:00.000000000",
          "2024-12-26T00:00:00.000000000",
          "2024-12-27T00:00:00.000000000",
          "2024-12-28T00:00:00.000000000",
          "2024-12-29T00:00:00.000000000",
          "2024-12-30T00:00:00.000000000",
          "2024-12-31T00:00:00.000000000",
          "2025-01-01T00:00:00.000000000",
          "2025-01-02T00:00:00.000000000",
          "2025-01-03T00:00:00.000000000",
          "2025-01-04T00:00:00.000000000",
          "2025-01-05T00:00:00.000000000",
          "2025-01-06T00:00:00.000000000",
          "2025-01-07T00:00:00.000000000",
          "2025-01-08T00:00:00.000000000",
          "2025-01-09T00:00:00.000000000",
          "2025-01-10T00:00:00.000000000",
          "2025-01-11T00:00:00.000000000",
          "2025-01-12T00:00:00.000000000",
          "2025-01-13T00:00:00.000000000",
          "2025-01-14T00:00:00.000000000",
          "2025-01-15T00:00:00.000000000",
          "2025-01-16T00:00:00.000000000",
          "2025-01-17T00:00:00.000000000",
          "2025-01-18T00:00:00.000000000",
          "2025-01-19T00:00:00.000000000",
          "2025-01-20T00:00:00.000000000",
          "2025-01-21T00:00:00.000000000",
          "2025-01-22T00:00:00.000000000",
          "2025-01-23T00:00:00.000000000",
          "2025-01-24T00:00:00.000000000",
          "2025-01-25T00:00:00.000000000",
          "2025-01-26T00:00:00.000000000",
          "2025-01-27T00:00:00.000000000",
          "2025-01-28T00:00:00.000000000",
          "2025-01-29T00:00:00.000000000",
          "2025-01-30T00:00:00.000000000",
          "2025-01-31T00:00:00.000000000",
          "2025-02-01T00:00:00.000000000",
          "2025-02-02T00:00:00.000000000",
          "2025-02-03T00:00:00.000000000",
          "2025-02-04T00:00:00.000000000",
          "2025-02-05T00:00:00.000000000",
          "2025-02-06T00:00:00.000000000",
          "2025-02-07T00:00:00.000000000",
          "2025-02-08T00:00:00.000000000",
          "2025-02-09T00:00:00.000000000",
          "2025-02-10T00:00:00.000000000",
          "2025-02-11T00:00:00.000000000",
          "2025-02-12T00:00:00.000000000",
          "2025-02-13T00:00:00.000000000",
          "2025-02-14T00:00:00.000000000",
          "2025-02-15T00:00:00.000000000",
          "2025-02-16T00:00:00.000000000",
          "2025-02-17T00:00:00.000000000",
          "2025-02-18T00:00:00.000000000",
          "2025-02-19T00:00:00.000000000",
          "2025-02-20T00:00:00.000000000",
          "2025-02-21T00:00:00.000000000",
          "2025-02-22T00:00:00.000000000",
          "2025-02-23T00:00:00.000000000",
          "2025-02-24T00:00:00.000000000",
          "2025-02-25T00:00:00.000000000",
          "2025-02-26T00:00:00.000000000",
          "2025-02-27T00:00:00.000000000",
          "2025-02-28T00:00:00.000000000",
          "2025-03-01T00:00:00.000000000",
          "2025-03-02T00:00:00.000000000",
          "2025-03-03T00:00:00.000000000",
          "2025-03-04T00:00:00.000000000",
          "2025-03-05T00:00:00.000000000",
          "2025-03-06T00:00:00.000000000",
          "2025-03-07T00:00:00.000000000",
          "2025-03-08T00:00:00.000000000",
          "2025-03-09T00:00:00.000000000",
          "2025-03-10T00:00:00.000000000",
          "2025-03-11T00:00:00.000000000",
          "2025-03-12T00:00:00.000000000",
          "2025-03-13T00:00:00.000000000",
          "2025-03-14T00:00:00.000000000",
          "2025-03-15T00:00:00.000000000",
          "2025-03-16T00:00:00.000000000",
          "2025-03-17T00:00:00.000000000",
          "2025-03-18T00:00:00.000000000",
          "2025-03-19T00:00:00.000000000",
          "2025-03-20T00:00:00.000000000",
          "2025-03-21T00:00:00.000000000",
          "2025-03-22T00:00:00.000000000",
          "2025-03-23T00:00:00.000000000",
          "2025-03-24T00:00:00.000000000",
          "2025-03-25T00:00:00.000000000",
          "2025-03-26T00:00:00.000000000",
          "2025-03-27T00:00:00.000000000",
          "2025-03-28T00:00:00.000000000",
          "2025-03-29T00:00:00.000000000",
          "2025-03-30T00:00:00.000000000",
          "2025-03-31T00:00:00.000000000",
          "2025-04-01T00:00:00.000000000",
          "2025-04-02T00:00:00.000000000",
          "2025-04-03T00:00:00.000000000",
          "2025-04-04T00:00:00.000000000",
          "2025-04-05T00:00:00.000000000",
          "2025-04-06T00:00:00.000000000",
          "2025-04-07T00:00:00.000000000",
          "2025-04-08T00:00:00.000000000",
          "2025-04-09T00:00:00.000000000",
          "2025-04-10T00:00:00.000000000",
          "2025-04-11T00:00:00.000000000",
          "2025-04-12T00:00:00.000000000",
          "2025-04-13T00:00:00.000000000",
          "2025-04-14T00:00:00.000000000",
          "2025-04-15T00:00:00.000000000",
          "2025-04-16T00:00:00.000000000",
          "2025-04-17T00:00:00.000000000",
          "2025-04-18T00:00:00.000000000",
          "2025-04-19T00:00:00.000000000",
          "2025-04-20T00:00:00.000000000",
          "2025-04-21T00:00:00.000000000",
          "2025-04-22T00:00:00.000000000",
          "2025-04-23T00:00:00.000000000",
          "2025-04-24T00:00:00.000000000",
          "2025-04-25T00:00:00.000000000",
          "2025-04-26T00:00:00.000000000",
          "2025-04-27T00:00:00.000000000",
          "2025-04-28T00:00:00.000000000",
          "2025-04-29T00:00:00.000000000",
          "2025-04-30T00:00:00.000000000",
          "2025-05-01T00:00:00.000000000",
          "2025-05-02T00:00:00.000000000",
          "2025-05-03T00:00:00.000000000",
          "2025-05-04T00:00:00.000000000",
          "2025-05-05T00:00:00.000000000",
          "2025-05-06T00:00:00.000000000",
          "2025-05-07T00:00:00.000000000",
          "2025-05-08T00:00:00.000000000",
          "2025-05-09T00:00:00.000000000",
          "2025-05-10T00:00:00.000000000",
          "2025-05-11T00:00:00.000000000",
          "2025-05-12T00:00:00.000000000",
          "2025-05-13T00:00:00.000000000",
          "2025-05-14T00:00:00.000000000",
          "2025-05-15T00:00:00.000000000",
          "2025-05-16T00:00:00.000000000",
          "2025-05-17T00:00:00.000000000",
          "2025-05-18T00:00:00.000000000",
          "2025-05-19T00:00:00.000000000",
          "2025-05-20T00:00:00.000000000",
          "2025-05-21T00:00:00.000000000",
          "2025-05-22T00:00:00.000000000",
          "2025-05-23T00:00:00.000000000",
          "2025-05-24T00:00:00.000000000",
          "2025-05-25T00:00:00.000000000",
          "2025-05-26T00:00:00.000000000",
          "2025-05-27T00:00:00.000000000",
          "2025-05-28T00:00:00.000000000",
          "2025-05-29T00:00:00.000000000",
          "2025-05-30T00:00:00.000000000",
          "2025-05-31T00:00:00.000000000",
          "2025-06-01T00:00:00.000000000",
          "2025-06-02T00:00:00.000000000",
          "2025-06-03T00:00:00.000000000",
          "2025-06-04T00:00:00.000000000",
          "2025-06-05T00:00:00.000000000",
          "2025-06-06T00:00:00.000000000",
          "2025-06-07T00:00:00.000000000",
          "2025-06-08T00:00:00.000000000",
          "2025-06-09T00:00:00.000000000",
          "2025-06-10T00:00:00.000000000",
          "2025-06-11T00:00:00.000000000",
          "2025-06-12T00:00:00.000000000",
          "2025-06-13T00:00:00.000000000",
          "2025-06-14T00:00:00.000000000",
          "2025-06-15T00:00:00.000000000",
          "2025-06-16T00:00:00.000000000",
          "2025-06-17T00:00:00.000000000",
          "2025-06-18T00:00:00.000000000",
          "2025-06-19T00:00:00.000000000",
          "2025-06-20T00:00:00.000000000",
          "2025-06-21T00:00:00.000000000",
          "2025-06-22T00:00:00.000000000",
          "2025-06-23T00:00:00.000000000",
          "2025-06-24T00:00:00.000000000",
          "2025-06-25T00:00:00.000000000",
          "2025-06-26T00:00:00.000000000",
          "2025-06-27T00:00:00.000000000",
          "2025-06-28T00:00:00.000000000",
          "2025-06-29T00:00:00.000000000",
          "2025-06-30T00:00:00.000000000",
          "2025-07-01T00:00:00.000000000",
          "2025-07-02T00:00:00.000000000",
          "2025-07-03T00:00:00.000000000",
          "2025-07-04T00:00:00.000000000",
          "2025-07-05T00:00:00.000000000",
          "2025-07-06T00:00:00.000000000",
          "2025-07-07T00:00:00.000000000",
          "2025-07-08T00:00:00.000000000",
          "2025-07-09T00:00:00.000000000",
          "2025-07-10T00:00:00.000000000",
          "2025-07-11T00:00:00.000000000",
          "2025-07-12T00:00:00.000000000",
          "2025-07-13T00:00:00.000000000",
          "2025-07-14T00:00:00.000000000",
          "2025-07-15T00:00:00.000000000",
          "2025-07-16T00:00:00.000000000",
          "2025-07-17T00:00:00.000000000",
          "2025-07-18T00:00:00.000000000",
          "2025-07-19T00:00:00.000000000",
          "2025-07-20T00:00:00.000000000",
          "2025-07-21T00:00:00.000000000",
          "2025-07-22T00:00:00.000000000",
          "2025-07-23T00:00:00.000000000",
          "2025-07-24T00:00:00.000000000",
          "2025-07-25T00:00:00.000000000",
          "2025-07-26T00:00:00.000000000",
          "2025-07-27T00:00:00.000000000",
          "2025-07-28T00:00:00.000000000",
          "2025-07-29T00:00:00.000000000",
          "2025-07-30T00:00:00.000000000",
          "2025-07-31T00:00:00.000000000"
         ],
         "xaxis": "x",
         "y": {
          "bdata": "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",
          "dtype": "f8"
         },
         "yaxis": "y"
        },
        {
         "hovertemplate": "variable=daily_roi_ppc<br>date=%{x}<br>value=%{y}<extra></extra>",
         "legendgroup": "daily_roi_ppc",
         "line": {
          "color": "#00cc96",
          "dash": "solid"
         },
         "marker": {
          "symbol": "circle"
         },
         "mode": "lines",
         "name": "daily_roi_ppc",
         "showlegend": true,
         "type": "scattergl",
         "x": [
          "2024-08-01T00:00:00.000000000",
          "2024-08-02T00:00:00.000000000",
          "2024-08-03T00:00:00.000000000",
          "2024-08-04T00:00:00.000000000",
          "2024-08-05T00:00:00.000000000",
          "2024-08-06T00:00:00.000000000",
          "2024-08-07T00:00:00.000000000",
          "2024-08-08T00:00:00.000000000",
          "2024-08-09T00:00:00.000000000",
          "2024-08-10T00:00:00.000000000",
          "2024-08-11T00:00:00.000000000",
          "2024-08-12T00:00:00.000000000",
          "2024-08-13T00:00:00.000000000",
          "2024-08-14T00:00:00.000000000",
          "2024-08-15T00:00:00.000000000",
          "2024-08-16T00:00:00.000000000",
          "2024-08-17T00:00:00.000000000",
          "2024-08-18T00:00:00.000000000",
          "2024-08-19T00:00:00.000000000",
          "2024-08-20T00:00:00.000000000",
          "2024-08-21T00:00:00.000000000",
          "2024-08-22T00:00:00.000000000",
          "2024-08-23T00:00:00.000000000",
          "2024-08-24T00:00:00.000000000",
          "2024-08-25T00:00:00.000000000",
          "2024-08-26T00:00:00.000000000",
          "2024-08-27T00:00:00.000000000",
          "2024-08-28T00:00:00.000000000",
          "2024-08-29T00:00:00.000000000",
          "2024-08-30T00:00:00.000000000",
          "2024-08-31T00:00:00.000000000",
          "2024-09-01T00:00:00.000000000",
          "2024-09-02T00:00:00.000000000",
          "2024-09-03T00:00:00.000000000",
          "2024-09-04T00:00:00.000000000",
          "2024-09-05T00:00:00.000000000",
          "2024-09-06T00:00:00.000000000",
          "2024-09-07T00:00:00.000000000",
          "2024-09-08T00:00:00.000000000",
          "2024-09-09T00:00:00.000000000",
          "2024-09-10T00:00:00.000000000",
          "2024-09-11T00:00:00.000000000",
          "2024-09-12T00:00:00.000000000",
          "2024-09-13T00:00:00.000000000",
          "2024-09-14T00:00:00.000000000",
          "2024-09-15T00:00:00.000000000",
          "2024-09-16T00:00:00.000000000",
          "2024-09-17T00:00:00.000000000",
          "2024-09-18T00:00:00.000000000",
          "2024-09-19T00:00:00.000000000",
          "2024-09-20T00:00:00.000000000",
          "2024-09-21T00:00:00.000000000",
          "2024-09-22T00:00:00.000000000",
          "2024-09-23T00:00:00.000000000",
          "2024-09-24T00:00:00.000000000",
          "2024-09-25T00:00:00.000000000",
          "2024-09-26T00:00:00.000000000",
          "2024-09-27T00:00:00.000000000",
          "2024-09-28T00:00:00.000000000",
          "2024-09-29T00:00:00.000000000",
          "2024-09-30T00:00:00.000000000",
          "2024-10-01T00:00:00.000000000",
          "2024-10-02T00:00:00.000000000",
          "2024-10-03T00:00:00.000000000",
          "2024-10-04T00:00:00.000000000",
          "2024-10-05T00:00:00.000000000",
          "2024-10-06T00:00:00.000000000",
          "2024-10-07T00:00:00.000000000",
          "2024-10-08T00:00:00.000000000",
          "2024-10-09T00:00:00.000000000",
          "2024-10-10T00:00:00.000000000",
          "2024-10-11T00:00:00.000000000",
          "2024-10-12T00:00:00.000000000",
          "2024-10-13T00:00:00.000000000",
          "2024-10-14T00:00:00.000000000",
          "2024-10-15T00:00:00.000000000",
          "2024-10-16T00:00:00.000000000",
          "2024-10-17T00:00:00.000000000",
          "2024-10-18T00:00:00.000000000",
          "2024-10-19T00:00:00.000000000",
          "2024-10-20T00:00:00.000000000",
          "2024-10-21T00:00:00.000000000",
          "2024-10-22T00:00:00.000000000",
          "2024-10-23T00:00:00.000000000",
          "2024-10-24T00:00:00.000000000",
          "2024-10-25T00:00:00.000000000",
          "2024-10-26T00:00:00.000000000",
          "2024-10-27T00:00:00.000000000",
          "2024-10-28T00:00:00.000000000",
          "2024-10-29T00:00:00.000000000",
          "2024-10-30T00:00:00.000000000",
          "2024-10-31T00:00:00.000000000",
          "2024-11-01T00:00:00.000000000",
          "2024-11-02T00:00:00.000000000",
          "2024-11-03T00:00:00.000000000",
          "2024-11-04T00:00:00.000000000",
          "2024-11-05T00:00:00.000000000",
          "2024-11-06T00:00:00.000000000",
          "2024-11-07T00:00:00.000000000",
          "2024-11-08T00:00:00.000000000",
          "2024-11-09T00:00:00.000000000",
          "2024-11-10T00:00:00.000000000",
          "2024-11-11T00:00:00.000000000",
          "2024-11-12T00:00:00.000000000",
          "2024-11-13T00:00:00.000000000",
          "2024-11-14T00:00:00.000000000",
          "2024-11-15T00:00:00.000000000",
          "2024-11-16T00:00:00.000000000",
          "2024-11-17T00:00:00.000000000",
          "2024-11-18T00:00:00.000000000",
          "2024-11-19T00:00:00.000000000",
          "2024-11-20T00:00:00.000000000",
          "2024-11-21T00:00:00.000000000",
          "2024-11-22T00:00:00.000000000",
          "2024-11-23T00:00:00.000000000",
          "2024-11-24T00:00:00.000000000",
          "2024-11-25T00:00:00.000000000",
          "2024-11-26T00:00:00.000000000",
          "2024-11-27T00:00:00.000000000",
          "2024-11-28T00:00:00.000000000",
          "2024-11-29T00:00:00.000000000",
          "2024-11-30T00:00:00.000000000",
          "2024-12-01T00:00:00.000000000",
          "2024-12-02T00:00:00.000000000",
          "2024-12-03T00:00:00.000000000",
          "2024-12-04T00:00:00.000000000",
          "2024-12-05T00:00:00.000000000",
          "2024-12-06T00:00:00.000000000",
          "2024-12-07T00:00:00.000000000",
          "2024-12-08T00:00:00.000000000",
          "2024-12-09T00:00:00.000000000",
          "2024-12-10T00:00:00.000000000",
          "2024-12-11T00:00:00.000000000",
          "2024-12-12T00:00:00.000000000",
          "2024-12-13T00:00:00.000000000",
          "2024-12-14T00:00:00.000000000",
          "2024-12-15T00:00:00.000000000",
          "2024-12-16T00:00:00.000000000",
          "2024-12-17T00:00:00.000000000",
          "2024-12-18T00:00:00.000000000",
          "2024-12-19T00:00:00.000000000",
          "2024-12-20T00:00:00.000000000",
          "2024-12-21T00:00:00.000000000",
          "2024-12-22T00:00:00.000000000",
          "2024-12-23T00:00:00.000000000",
          "2024-12-24T00:00:00.000000000",
          "2024-12-25T00:00:00.000000000",
          "2024-12-26T00:00:00.000000000",
          "2024-12-27T00:00:00.000000000",
          "2024-12-28T00:00:00.000000000",
          "2024-12-29T00:00:00.000000000",
          "2024-12-30T00:00:00.000000000",
          "2024-12-31T00:00:00.000000000",
          "2025-01-01T00:00:00.000000000",
          "2025-01-02T00:00:00.000000000",
          "2025-01-03T00:00:00.000000000",
          "2025-01-04T00:00:00.000000000",
          "2025-01-05T00:00:00.000000000",
          "2025-01-06T00:00:00.000000000",
          "2025-01-07T00:00:00.000000000",
          "2025-01-08T00:00:00.000000000",
          "2025-01-09T00:00:00.000000000",
          "2025-01-10T00:00:00.000000000",
          "2025-01-11T00:00:00.000000000",
          "2025-01-12T00:00:00.000000000",
          "2025-01-13T00:00:00.000000000",
          "2025-01-14T00:00:00.000000000",
          "2025-01-15T00:00:00.000000000",
          "2025-01-16T00:00:00.000000000",
          "2025-01-17T00:00:00.000000000",
          "2025-01-18T00:00:00.000000000",
          "2025-01-19T00:00:00.000000000",
          "2025-01-20T00:00:00.000000000",
          "2025-01-21T00:00:00.000000000",
          "2025-01-22T00:00:00.000000000",
          "2025-01-23T00:00:00.000000000",
          "2025-01-24T00:00:00.000000000",
          "2025-01-25T00:00:00.000000000",
          "2025-01-26T00:00:00.000000000",
          "2025-01-27T00:00:00.000000000",
          "2025-01-28T00:00:00.000000000",
          "2025-01-29T00:00:00.000000000",
          "2025-01-30T00:00:00.000000000",
          "2025-01-31T00:00:00.000000000",
          "2025-02-01T00:00:00.000000000",
          "2025-02-02T00:00:00.000000000",
          "2025-02-03T00:00:00.000000000",
          "2025-02-04T00:00:00.000000000",
          "2025-02-05T00:00:00.000000000",
          "2025-02-06T00:00:00.000000000",
          "2025-02-07T00:00:00.000000000",
          "2025-02-08T00:00:00.000000000",
          "2025-02-09T00:00:00.000000000",
          "2025-02-10T00:00:00.000000000",
          "2025-02-11T00:00:00.000000000",
          "2025-02-12T00:00:00.000000000",
          "2025-02-13T00:00:00.000000000",
          "2025-02-14T00:00:00.000000000",
          "2025-02-15T00:00:00.000000000",
          "2025-02-16T00:00:00.000000000",
          "2025-02-17T00:00:00.000000000",
          "2025-02-18T00:00:00.000000000",
          "2025-02-19T00:00:00.000000000",
          "2025-02-20T00:00:00.000000000",
          "2025-02-21T00:00:00.000000000",
          "2025-02-22T00:00:00.000000000",
          "2025-02-23T00:00:00.000000000",
          "2025-02-24T00:00:00.000000000",
          "2025-02-25T00:00:00.000000000",
          "2025-02-26T00:00:00.000000000",
          "2025-02-27T00:00:00.000000000",
          "2025-02-28T00:00:00.000000000",
          "2025-03-01T00:00:00.000000000",
          "2025-03-02T00:00:00.000000000",
          "2025-03-03T00:00:00.000000000",
          "2025-03-04T00:00:00.000000000",
          "2025-03-05T00:00:00.000000000",
          "2025-03-06T00:00:00.000000000",
          "2025-03-07T00:00:00.000000000",
          "2025-03-08T00:00:00.000000000",
          "2025-03-09T00:00:00.000000000",
          "2025-03-10T00:00:00.000000000",
          "2025-03-11T00:00:00.000000000",
          "2025-03-12T00:00:00.000000000",
          "2025-03-13T00:00:00.000000000",
          "2025-03-14T00:00:00.000000000",
          "2025-03-15T00:00:00.000000000",
          "2025-03-16T00:00:00.000000000",
          "2025-03-17T00:00:00.000000000",
          "2025-03-18T00:00:00.000000000",
          "2025-03-19T00:00:00.000000000",
          "2025-03-20T00:00:00.000000000",
          "2025-03-21T00:00:00.000000000",
          "2025-03-22T00:00:00.000000000",
          "2025-03-23T00:00:00.000000000",
          "2025-03-24T00:00:00.000000000",
          "2025-03-25T00:00:00.000000000",
          "2025-03-26T00:00:00.000000000",
          "2025-03-27T00:00:00.000000000",
          "2025-03-28T00:00:00.000000000",
          "2025-03-29T00:00:00.000000000",
          "2025-03-30T00:00:00.000000000",
          "2025-03-31T00:00:00.000000000",
          "2025-04-01T00:00:00.000000000",
          "2025-04-02T00:00:00.000000000",
          "2025-04-03T00:00:00.000000000",
          "2025-04-04T00:00:00.000000000",
          "2025-04-05T00:00:00.000000000",
          "2025-04-06T00:00:00.000000000",
          "2025-04-07T00:00:00.000000000",
          "2025-04-08T00:00:00.000000000",
          "2025-04-09T00:00:00.000000000",
          "2025-04-10T00:00:00.000000000",
          "2025-04-11T00:00:00.000000000",
          "2025-04-12T00:00:00.000000000",
          "2025-04-13T00:00:00.000000000",
          "2025-04-14T00:00:00.000000000",
          "2025-04-15T00:00:00.000000000",
          "2025-04-16T00:00:00.000000000",
          "2025-04-17T00:00:00.000000000",
          "2025-04-18T00:00:00.000000000",
          "2025-04-19T00:00:00.000000000",
          "2025-04-20T00:00:00.000000000",
          "2025-04-21T00:00:00.000000000",
          "2025-04-22T00:00:00.000000000",
          "2025-04-23T00:00:00.000000000",
          "2025-04-24T00:00:00.000000000",
          "2025-04-25T00:00:00.000000000",
          "2025-04-26T00:00:00.000000000",
          "2025-04-27T00:00:00.000000000",
          "2025-04-28T00:00:00.000000000",
          "2025-04-29T00:00:00.000000000",
          "2025-04-30T00:00:00.000000000",
          "2025-05-01T00:00:00.000000000",
          "2025-05-02T00:00:00.000000000",
          "2025-05-03T00:00:00.000000000",
          "2025-05-04T00:00:00.000000000",
          "2025-05-05T00:00:00.000000000",
          "2025-05-06T00:00:00.000000000",
          "2025-05-07T00:00:00.000000000",
          "2025-05-08T00:00:00.000000000",
          "2025-05-09T00:00:00.000000000",
          "2025-05-10T00:00:00.000000000",
          "2025-05-11T00:00:00.000000000",
          "2025-05-12T00:00:00.000000000",
          "2025-05-13T00:00:00.000000000",
          "2025-05-14T00:00:00.000000000",
          "2025-05-15T00:00:00.000000000",
          "2025-05-16T00:00:00.000000000",
          "2025-05-17T00:00:00.000000000",
          "2025-05-18T00:00:00.000000000",
          "2025-05-19T00:00:00.000000000",
          "2025-05-20T00:00:00.000000000",
          "2025-05-21T00:00:00.000000000",
          "2025-05-22T00:00:00.000000000",
          "2025-05-23T00:00:00.000000000",
          "2025-05-24T00:00:00.000000000",
          "2025-05-25T00:00:00.000000000",
          "2025-05-26T00:00:00.000000000",
          "2025-05-27T00:00:00.000000000",
          "2025-05-28T00:00:00.000000000",
          "2025-05-29T00:00:00.000000000",
          "2025-05-30T00:00:00.000000000",
          "2025-05-31T00:00:00.000000000",
          "2025-06-01T00:00:00.000000000",
          "2025-06-02T00:00:00.000000000",
          "2025-06-03T00:00:00.000000000",
          "2025-06-04T00:00:00.000000000",
          "2025-06-05T00:00:00.000000000",
          "2025-06-06T00:00:00.000000000",
          "2025-06-07T00:00:00.000000000",
          "2025-06-08T00:00:00.000000000",
          "2025-06-09T00:00:00.000000000",
          "2025-06-10T00:00:00.000000000",
          "2025-06-11T00:00:00.000000000",
          "2025-06-12T00:00:00.000000000",
          "2025-06-13T00:00:00.000000000",
          "2025-06-14T00:00:00.000000000",
          "2025-06-15T00:00:00.000000000",
          "2025-06-16T00:00:00.000000000",
          "2025-06-17T00:00:00.000000000",
          "2025-06-18T00:00:00.000000000",
          "2025-06-19T00:00:00.000000000",
          "2025-06-20T00:00:00.000000000",
          "2025-06-21T00:00:00.000000000",
          "2025-06-22T00:00:00.000000000",
          "2025-06-23T00:00:00.000000000",
          "2025-06-24T00:00:00.000000000",
          "2025-06-25T00:00:00.000000000",
          "2025-06-26T00:00:00.000000000",
          "2025-06-27T00:00:00.000000000",
          "2025-06-28T00:00:00.000000000",
          "2025-06-29T00:00:00.000000000",
          "2025-06-30T00:00:00.000000000",
          "2025-07-01T00:00:00.000000000",
          "2025-07-02T00:00:00.000000000",
          "2025-07-03T00:00:00.000000000",
          "2025-07-04T00:00:00.000000000",
          "2025-07-05T00:00:00.000000000",
          "2025-07-06T00:00:00.000000000",
          "2025-07-07T00:00:00.000000000",
          "2025-07-08T00:00:00.000000000",
          "2025-07-09T00:00:00.000000000",
          "2025-07-10T00:00:00.000000000",
          "2025-07-11T00:00:00.000000000",
          "2025-07-12T00:00:00.000000000",
          "2025-07-13T00:00:00.000000000",
          "2025-07-14T00:00:00.000000000",
          "2025-07-15T00:00:00.000000000",
          "2025-07-16T00:00:00.000000000",
          "2025-07-17T00:00:00.000000000",
          "2025-07-18T00:00:00.000000000",
          "2025-07-19T00:00:00.000000000",
          "2025-07-20T00:00:00.000000000",
          "2025-07-21T00:00:00.000000000",
          "2025-07-22T00:00:00.000000000",
          "2025-07-23T00:00:00.000000000",
          "2025-07-24T00:00:00.000000000",
          "2025-07-25T00:00:00.000000000",
          "2025-07-26T00:00:00.000000000",
          "2025-07-27T00:00:00.000000000",
          "2025-07-28T00:00:00.000000000",
          "2025-07-29T00:00:00.000000000",
          "2025-07-30T00:00:00.000000000",
          "2025-07-31T00:00:00.000000000"
         ],
         "xaxis": "x",
         "y": {
          "bdata": "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",
          "dtype": "f8"
         },
         "yaxis": "y"
        },
        {
         "hovertemplate": "variable=rolling_avg_ppc_30<br>date=%{x}<br>value=%{y}<extra></extra>",
         "legendgroup": "rolling_avg_ppc_30",
         "line": {
          "color": "#ab63fa",
          "dash": "solid"
         },
         "marker": {
          "symbol": "circle"
         },
         "mode": "lines",
         "name": "rolling_avg_ppc_30",
         "showlegend": true,
         "type": "scattergl",
         "x": [
          "2024-08-01T00:00:00.000000000",
          "2024-08-02T00:00:00.000000000",
          "2024-08-03T00:00:00.000000000",
          "2024-08-04T00:00:00.000000000",
          "2024-08-05T00:00:00.000000000",
          "2024-08-06T00:00:00.000000000",
          "2024-08-07T00:00:00.000000000",
          "2024-08-08T00:00:00.000000000",
          "2024-08-09T00:00:00.000000000",
          "2024-08-10T00:00:00.000000000",
          "2024-08-11T00:00:00.000000000",
          "2024-08-12T00:00:00.000000000",
          "2024-08-13T00:00:00.000000000",
          "2024-08-14T00:00:00.000000000",
          "2024-08-15T00:00:00.000000000",
          "2024-08-16T00:00:00.000000000",
          "2024-08-17T00:00:00.000000000",
          "2024-08-18T00:00:00.000000000",
          "2024-08-19T00:00:00.000000000",
          "2024-08-20T00:00:00.000000000",
          "2024-08-21T00:00:00.000000000",
          "2024-08-22T00:00:00.000000000",
          "2024-08-23T00:00:00.000000000",
          "2024-08-24T00:00:00.000000000",
          "2024-08-25T00:00:00.000000000",
          "2024-08-26T00:00:00.000000000",
          "2024-08-27T00:00:00.000000000",
          "2024-08-28T00:00:00.000000000",
          "2024-08-29T00:00:00.000000000",
          "2024-08-30T00:00:00.000000000",
          "2024-08-31T00:00:00.000000000",
          "2024-09-01T00:00:00.000000000",
          "2024-09-02T00:00:00.000000000",
          "2024-09-03T00:00:00.000000000",
          "2024-09-04T00:00:00.000000000",
          "2024-09-05T00:00:00.000000000",
          "2024-09-06T00:00:00.000000000",
          "2024-09-07T00:00:00.000000000",
          "2024-09-08T00:00:00.000000000",
          "2024-09-09T00:00:00.000000000",
          "2024-09-10T00:00:00.000000000",
          "2024-09-11T00:00:00.000000000",
          "2024-09-12T00:00:00.000000000",
          "2024-09-13T00:00:00.000000000",
          "2024-09-14T00:00:00.000000000",
          "2024-09-15T00:00:00.000000000",
          "2024-09-16T00:00:00.000000000",
          "2024-09-17T00:00:00.000000000",
          "2024-09-18T00:00:00.000000000",
          "2024-09-19T00:00:00.000000000",
          "2024-09-20T00:00:00.000000000",
          "2024-09-21T00:00:00.000000000",
          "2024-09-22T00:00:00.000000000",
          "2024-09-23T00:00:00.000000000",
          "2024-09-24T00:00:00.000000000",
          "2024-09-25T00:00:00.000000000",
          "2024-09-26T00:00:00.000000000",
          "2024-09-27T00:00:00.000000000",
          "2024-09-28T00:00:00.000000000",
          "2024-09-29T00:00:00.000000000",
          "2024-09-30T00:00:00.000000000",
          "2024-10-01T00:00:00.000000000",
          "2024-10-02T00:00:00.000000000",
          "2024-10-03T00:00:00.000000000",
          "2024-10-04T00:00:00.000000000",
          "2024-10-05T00:00:00.000000000",
          "2024-10-06T00:00:00.000000000",
          "2024-10-07T00:00:00.000000000",
          "2024-10-08T00:00:00.000000000",
          "2024-10-09T00:00:00.000000000",
          "2024-10-10T00:00:00.000000000",
          "2024-10-11T00:00:00.000000000",
          "2024-10-12T00:00:00.000000000",
          "2024-10-13T00:00:00.000000000",
          "2024-10-14T00:00:00.000000000",
          "2024-10-15T00:00:00.000000000",
          "2024-10-16T00:00:00.000000000",
          "2024-10-17T00:00:00.000000000",
          "2024-10-18T00:00:00.000000000",
          "2024-10-19T00:00:00.000000000",
          "2024-10-20T00:00:00.000000000",
          "2024-10-21T00:00:00.000000000",
          "2024-10-22T00:00:00.000000000",
          "2024-10-23T00:00:00.000000000",
          "2024-10-24T00:00:00.000000000",
          "2024-10-25T00:00:00.000000000",
          "2024-10-26T00:00:00.000000000",
          "2024-10-27T00:00:00.000000000",
          "2024-10-28T00:00:00.000000000",
          "2024-10-29T00:00:00.000000000",
          "2024-10-30T00:00:00.000000000",
          "2024-10-31T00:00:00.000000000",
          "2024-11-01T00:00:00.000000000",
          "2024-11-02T00:00:00.000000000",
          "2024-11-03T00:00:00.000000000",
          "2024-11-04T00:00:00.000000000",
          "2024-11-05T00:00:00.000000000",
          "2024-11-06T00:00:00.000000000",
          "2024-11-07T00:00:00.000000000",
          "2024-11-08T00:00:00.000000000",
          "2024-11-09T00:00:00.000000000",
          "2024-11-10T00:00:00.000000000",
          "2024-11-11T00:00:00.000000000",
          "2024-11-12T00:00:00.000000000",
          "2024-11-13T00:00:00.000000000",
          "2024-11-14T00:00:00.000000000",
          "2024-11-15T00:00:00.000000000",
          "2024-11-16T00:00:00.000000000",
          "2024-11-17T00:00:00.000000000",
          "2024-11-18T00:00:00.000000000",
          "2024-11-19T00:00:00.000000000",
          "2024-11-20T00:00:00.000000000",
          "2024-11-21T00:00:00.000000000",
          "2024-11-22T00:00:00.000000000",
          "2024-11-23T00:00:00.000000000",
          "2024-11-24T00:00:00.000000000",
          "2024-11-25T00:00:00.000000000",
          "2024-11-26T00:00:00.000000000",
          "2024-11-27T00:00:00.000000000",
          "2024-11-28T00:00:00.000000000",
          "2024-11-29T00:00:00.000000000",
          "2024-11-30T00:00:00.000000000",
          "2024-12-01T00:00:00.000000000",
          "2024-12-02T00:00:00.000000000",
          "2024-12-03T00:00:00.000000000",
          "2024-12-04T00:00:00.000000000",
          "2024-12-05T00:00:00.000000000",
          "2024-12-06T00:00:00.000000000",
          "2024-12-07T00:00:00.000000000",
          "2024-12-08T00:00:00.000000000",
          "2024-12-09T00:00:00.000000000",
          "2024-12-10T00:00:00.000000000",
          "2024-12-11T00:00:00.000000000",
          "2024-12-12T00:00:00.000000000",
          "2024-12-13T00:00:00.000000000",
          "2024-12-14T00:00:00.000000000",
          "2024-12-15T00:00:00.000000000",
          "2024-12-16T00:00:00.000000000",
          "2024-12-17T00:00:00.000000000",
          "2024-12-18T00:00:00.000000000",
          "2024-12-19T00:00:00.000000000",
          "2024-12-20T00:00:00.000000000",
          "2024-12-21T00:00:00.000000000",
          "2024-12-22T00:00:00.000000000",
          "2024-12-23T00:00:00.000000000",
          "2024-12-24T00:00:00.000000000",
          "2024-12-25T00:00:00.000000000",
          "2024-12-26T00:00:00.000000000",
          "2024-12-27T00:00:00.000000000",
          "2024-12-28T00:00:00.000000000",
          "2024-12-29T00:00:00.000000000",
          "2024-12-30T00:00:00.000000000",
          "2024-12-31T00:00:00.000000000",
          "2025-01-01T00:00:00.000000000",
          "2025-01-02T00:00:00.000000000",
          "2025-01-03T00:00:00.000000000",
          "2025-01-04T00:00:00.000000000",
          "2025-01-05T00:00:00.000000000",
          "2025-01-06T00:00:00.000000000",
          "2025-01-07T00:00:00.000000000",
          "2025-01-08T00:00:00.000000000",
          "2025-01-09T00:00:00.000000000",
          "2025-01-10T00:00:00.000000000",
          "2025-01-11T00:00:00.000000000",
          "2025-01-12T00:00:00.000000000",
          "2025-01-13T00:00:00.000000000",
          "2025-01-14T00:00:00.000000000",
          "2025-01-15T00:00:00.000000000",
          "2025-01-16T00:00:00.000000000",
          "2025-01-17T00:00:00.000000000",
          "2025-01-18T00:00:00.000000000",
          "2025-01-19T00:00:00.000000000",
          "2025-01-20T00:00:00.000000000",
          "2025-01-21T00:00:00.000000000",
          "2025-01-22T00:00:00.000000000",
          "2025-01-23T00:00:00.000000000",
          "2025-01-24T00:00:00.000000000",
          "2025-01-25T00:00:00.000000000",
          "2025-01-26T00:00:00.000000000",
          "2025-01-27T00:00:00.000000000",
          "2025-01-28T00:00:00.000000000",
          "2025-01-29T00:00:00.000000000",
          "2025-01-30T00:00:00.000000000",
          "2025-01-31T00:00:00.000000000",
          "2025-02-01T00:00:00.000000000",
          "2025-02-02T00:00:00.000000000",
          "2025-02-03T00:00:00.000000000",
          "2025-02-04T00:00:00.000000000",
          "2025-02-05T00:00:00.000000000",
          "2025-02-06T00:00:00.000000000",
          "2025-02-07T00:00:00.000000000",
          "2025-02-08T00:00:00.000000000",
          "2025-02-09T00:00:00.000000000",
          "2025-02-10T00:00:00.000000000",
          "2025-02-11T00:00:00.000000000",
          "2025-02-12T00:00:00.000000000",
          "2025-02-13T00:00:00.000000000",
          "2025-02-14T00:00:00.000000000",
          "2025-02-15T00:00:00.000000000",
          "2025-02-16T00:00:00.000000000",
          "2025-02-17T00:00:00.000000000",
          "2025-02-18T00:00:00.000000000",
          "2025-02-19T00:00:00.000000000",
          "2025-02-20T00:00:00.000000000",
          "2025-02-21T00:00:00.000000000",
          "2025-02-22T00:00:00.000000000",
          "2025-02-23T00:00:00.000000000",
          "2025-02-24T00:00:00.000000000",
          "2025-02-25T00:00:00.000000000",
          "2025-02-26T00:00:00.000000000",
          "2025-02-27T00:00:00.000000000",
          "2025-02-28T00:00:00.000000000",
          "2025-03-01T00:00:00.000000000",
          "2025-03-02T00:00:00.000000000",
          "2025-03-03T00:00:00.000000000",
          "2025-03-04T00:00:00.000000000",
          "2025-03-05T00:00:00.000000000",
          "2025-03-06T00:00:00.000000000",
          "2025-03-07T00:00:00.000000000",
          "2025-03-08T00:00:00.000000000",
          "2025-03-09T00:00:00.000000000",
          "2025-03-10T00:00:00.000000000",
          "2025-03-11T00:00:00.000000000",
          "2025-03-12T00:00:00.000000000",
          "2025-03-13T00:00:00.000000000",
          "2025-03-14T00:00:00.000000000",
          "2025-03-15T00:00:00.000000000",
          "2025-03-16T00:00:00.000000000",
          "2025-03-17T00:00:00.000000000",
          "2025-03-18T00:00:00.000000000",
          "2025-03-19T00:00:00.000000000",
          "2025-03-20T00:00:00.000000000",
          "2025-03-21T00:00:00.000000000",
          "2025-03-22T00:00:00.000000000",
          "2025-03-23T00:00:00.000000000",
          "2025-03-24T00:00:00.000000000",
          "2025-03-25T00:00:00.000000000",
          "2025-03-26T00:00:00.000000000",
          "2025-03-27T00:00:00.000000000",
          "2025-03-28T00:00:00.000000000",
          "2025-03-29T00:00:00.000000000",
          "2025-03-30T00:00:00.000000000",
          "2025-03-31T00:00:00.000000000",
          "2025-04-01T00:00:00.000000000",
          "2025-04-02T00:00:00.000000000",
          "2025-04-03T00:00:00.000000000",
          "2025-04-04T00:00:00.000000000",
          "2025-04-05T00:00:00.000000000",
          "2025-04-06T00:00:00.000000000",
          "2025-04-07T00:00:00.000000000",
          "2025-04-08T00:00:00.000000000",
          "2025-04-09T00:00:00.000000000",
          "2025-04-10T00:00:00.000000000",
          "2025-04-11T00:00:00.000000000",
          "2025-04-12T00:00:00.000000000",
          "2025-04-13T00:00:00.000000000",
          "2025-04-14T00:00:00.000000000",
          "2025-04-15T00:00:00.000000000",
          "2025-04-16T00:00:00.000000000",
          "2025-04-17T00:00:00.000000000",
          "2025-04-18T00:00:00.000000000",
          "2025-04-19T00:00:00.000000000",
          "2025-04-20T00:00:00.000000000",
          "2025-04-21T00:00:00.000000000",
          "2025-04-22T00:00:00.000000000",
          "2025-04-23T00:00:00.000000000",
          "2025-04-24T00:00:00.000000000",
          "2025-04-25T00:00:00.000000000",
          "2025-04-26T00:00:00.000000000",
          "2025-04-27T00:00:00.000000000",
          "2025-04-28T00:00:00.000000000",
          "2025-04-29T00:00:00.000000000",
          "2025-04-30T00:00:00.000000000",
          "2025-05-01T00:00:00.000000000",
          "2025-05-02T00:00:00.000000000",
          "2025-05-03T00:00:00.000000000",
          "2025-05-04T00:00:00.000000000",
          "2025-05-05T00:00:00.000000000",
          "2025-05-06T00:00:00.000000000",
          "2025-05-07T00:00:00.000000000",
          "2025-05-08T00:00:00.000000000",
          "2025-05-09T00:00:00.000000000",
          "2025-05-10T00:00:00.000000000",
          "2025-05-11T00:00:00.000000000",
          "2025-05-12T00:00:00.000000000",
          "2025-05-13T00:00:00.000000000",
          "2025-05-14T00:00:00.000000000",
          "2025-05-15T00:00:00.000000000",
          "2025-05-16T00:00:00.000000000",
          "2025-05-17T00:00:00.000000000",
          "2025-05-18T00:00:00.000000000",
          "2025-05-19T00:00:00.000000000",
          "2025-05-20T00:00:00.000000000",
          "2025-05-21T00:00:00.000000000",
          "2025-05-22T00:00:00.000000000",
          "2025-05-23T00:00:00.000000000",
          "2025-05-24T00:00:00.000000000",
          "2025-05-25T00:00:00.000000000",
          "2025-05-26T00:00:00.000000000",
          "2025-05-27T00:00:00.000000000",
          "2025-05-28T00:00:00.000000000",
          "2025-05-29T00:00:00.000000000",
          "2025-05-30T00:00:00.000000000",
          "2025-05-31T00:00:00.000000000",
          "2025-06-01T00:00:00.000000000",
          "2025-06-02T00:00:00.000000000",
          "2025-06-03T00:00:00.000000000",
          "2025-06-04T00:00:00.000000000",
          "2025-06-05T00:00:00.000000000",
          "2025-06-06T00:00:00.000000000",
          "2025-06-07T00:00:00.000000000",
          "2025-06-08T00:00:00.000000000",
          "2025-06-09T00:00:00.000000000",
          "2025-06-10T00:00:00.000000000",
          "2025-06-11T00:00:00.000000000",
          "2025-06-12T00:00:00.000000000",
          "2025-06-13T00:00:00.000000000",
          "2025-06-14T00:00:00.000000000",
          "2025-06-15T00:00:00.000000000",
          "2025-06-16T00:00:00.000000000",
          "2025-06-17T00:00:00.000000000",
          "2025-06-18T00:00:00.000000000",
          "2025-06-19T00:00:00.000000000",
          "2025-06-20T00:00:00.000000000",
          "2025-06-21T00:00:00.000000000",
          "2025-06-22T00:00:00.000000000",
          "2025-06-23T00:00:00.000000000",
          "2025-06-24T00:00:00.000000000",
          "2025-06-25T00:00:00.000000000",
          "2025-06-26T00:00:00.000000000",
          "2025-06-27T00:00:00.000000000",
          "2025-06-28T00:00:00.000000000",
          "2025-06-29T00:00:00.000000000",
          "2025-06-30T00:00:00.000000000",
          "2025-07-01T00:00:00.000000000",
          "2025-07-02T00:00:00.000000000",
          "2025-07-03T00:00:00.000000000",
          "2025-07-04T00:00:00.000000000",
          "2025-07-05T00:00:00.000000000",
          "2025-07-06T00:00:00.000000000",
          "2025-07-07T00:00:00.000000000",
          "2025-07-08T00:00:00.000000000",
          "2025-07-09T00:00:00.000000000",
          "2025-07-10T00:00:00.000000000",
          "2025-07-11T00:00:00.000000000",
          "2025-07-12T00:00:00.000000000",
          "2025-07-13T00:00:00.000000000",
          "2025-07-14T00:00:00.000000000",
          "2025-07-15T00:00:00.000000000",
          "2025-07-16T00:00:00.000000000",
          "2025-07-17T00:00:00.000000000",
          "2025-07-18T00:00:00.000000000",
          "2025-07-19T00:00:00.000000000",
          "2025-07-20T00:00:00.000000000",
          "2025-07-21T00:00:00.000000000",
          "2025-07-22T00:00:00.000000000",
          "2025-07-23T00:00:00.000000000",
          "2025-07-24T00:00:00.000000000",
          "2025-07-25T00:00:00.000000000",
          "2025-07-26T00:00:00.000000000",
          "2025-07-27T00:00:00.000000000",
          "2025-07-28T00:00:00.000000000",
          "2025-07-29T00:00:00.000000000",
          "2025-07-30T00:00:00.000000000",
          "2025-07-31T00:00:00.000000000"
         ],
         "xaxis": "x",
         "y": {
          "bdata": "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",
          "dtype": "f8"
         },
         "yaxis": "y"
        }
       ],
       "layout": {
        "legend": {
         "title": {
          "text": "variable"
         },
         "tracegroupgap": 0
        },
        "template": {
         "data": {
          "bar": [
           {
            "error_x": {
             "color": "#2a3f5f"
            },
            "error_y": {
             "color": "#2a3f5f"
            },
            "marker": {
             "line": {
              "color": "#E5ECF6",
              "width": 0.5
             },
             "pattern": {
              "fillmode": "overlay",
              "size": 10,
              "solidity": 0.2
             }
            },
            "type": "bar"
           }
          ],
          "barpolar": [
           {
            "marker": {
             "line": {
              "color": "#E5ECF6",
              "width": 0.5
             },
             "pattern": {
              "fillmode": "overlay",
              "size": 10,
              "solidity": 0.2
             }
            },
            "type": "barpolar"
           }
          ],
          "carpet": [
           {
            "aaxis": {
             "endlinecolor": "#2a3f5f",
             "gridcolor": "white",
             "linecolor": "white",
             "minorgridcolor": "white",
             "startlinecolor": "#2a3f5f"
            },
            "baxis": {
             "endlinecolor": "#2a3f5f",
             "gridcolor": "white",
             "linecolor": "white",
             "minorgridcolor": "white",
             "startlinecolor": "#2a3f5f"
            },
            "type": "carpet"
           }
          ],
          "choropleth": [
           {
            "colorbar": {
             "outlinewidth": 0,
             "ticks": ""
            },
            "type": "choropleth"
           }
          ],
          "contour": [
           {
            "colorbar": {
             "outlinewidth": 0,
             "ticks": ""
            },
            "colorscale": [
             [
              0,
              "#0d0887"
             ],
             [
              0.1111111111111111,
              "#46039f"
             ],
             [
              0.2222222222222222,
              "#7201a8"
             ],
             [
              0.3333333333333333,
              "#9c179e"
             ],
             [
              0.4444444444444444,
              "#bd3786"
             ],
             [
              0.5555555555555556,
              "#d8576b"
             ],
             [
              0.6666666666666666,
              "#ed7953"
             ],
             [
              0.7777777777777778,
              "#fb9f3a"
             ],
             [
              0.8888888888888888,
              "#fdca26"
             ],
             [
              1,
              "#f0f921"
             ]
            ],
            "type": "contour"
           }
          ],
          "contourcarpet": [
           {
            "colorbar": {
             "outlinewidth": 0,
             "ticks": ""
            },
            "type": "contourcarpet"
           }
          ],
          "heatmap": [
           {
            "colorbar": {
             "outlinewidth": 0,
             "ticks": ""
            },
            "colorscale": [
             [
              0,
              "#0d0887"
             ],
             [
              0.1111111111111111,
              "#46039f"
             ],
             [
              0.2222222222222222,
              "#7201a8"
             ],
             [
              0.3333333333333333,
              "#9c179e"
             ],
             [
              0.4444444444444444,
              "#bd3786"
             ],
             [
              0.5555555555555556,
              "#d8576b"
             ],
             [
              0.6666666666666666,
              "#ed7953"
             ],
             [
              0.7777777777777778,
              "#fb9f3a"
             ],
             [
              0.8888888888888888,
              "#fdca26"
             ],
             [
              1,
              "#f0f921"
             ]
            ],
            "type": "heatmap"
           }
          ],
          "histogram": [
           {
            "marker": {
             "pattern": {
              "fillmode": "overlay",
              "size": 10,
              "solidity": 0.2
             }
            },
            "type": "histogram"
           }
          ],
          "histogram2d": [
           {
            "colorbar": {
             "outlinewidth": 0,
             "ticks": ""
            },
            "colorscale": [
             [
              0,
              "#0d0887"
             ],
             [
              0.1111111111111111,
              "#46039f"
             ],
             [
              0.2222222222222222,
              "#7201a8"
             ],
             [
              0.3333333333333333,
              "#9c179e"
             ],
             [
              0.4444444444444444,
              "#bd3786"
             ],
             [
              0.5555555555555556,
              "#d8576b"
             ],
             [
              0.6666666666666666,
              "#ed7953"
             ],
             [
              0.7777777777777778,
              "#fb9f3a"
             ],
             [
              0.8888888888888888,
              "#fdca26"
             ],
             [
              1,
              "#f0f921"
             ]
            ],
            "type": "histogram2d"
           }
          ],
          "histogram2dcontour": [
           {
            "colorbar": {
             "outlinewidth": 0,
             "ticks": ""
            },
            "colorscale": [
             [
              0,
              "#0d0887"
             ],
             [
              0.1111111111111111,
              "#46039f"
             ],
             [
              0.2222222222222222,
              "#7201a8"
             ],
             [
              0.3333333333333333,
              "#9c179e"
             ],
             [
              0.4444444444444444,
              "#bd3786"
             ],
             [
              0.5555555555555556,
              "#d8576b"
             ],
             [
              0.6666666666666666,
              "#ed7953"
             ],
             [
              0.7777777777777778,
              "#fb9f3a"
             ],
             [
              0.8888888888888888,
              "#fdca26"
             ],
             [
              1,
              "#f0f921"
             ]
            ],
            "type": "histogram2dcontour"
           }
          ],
          "mesh3d": [
           {
            "colorbar": {
             "outlinewidth": 0,
             "ticks": ""
            },
            "type": "mesh3d"
           }
          ],
          "parcoords": [
           {
            "line": {
             "colorbar": {
              "outlinewidth": 0,
              "ticks": ""
             }
            },
            "type": "parcoords"
           }
          ],
          "pie": [
           {
            "automargin": true,
            "type": "pie"
           }
          ],
          "scatter": [
           {
            "fillpattern": {
             "fillmode": "overlay",
             "size": 10,
             "solidity": 0.2
            },
            "type": "scatter"
           }
          ],
          "scatter3d": [
           {
            "line": {
             "colorbar": {
              "outlinewidth": 0,
              "ticks": ""
             }
            },
            "marker": {
             "colorbar": {
              "outlinewidth": 0,
              "ticks": ""
             }
            },
            "type": "scatter3d"
           }
          ],
          "scattercarpet": [
           {
            "marker": {
             "colorbar": {
              "outlinewidth": 0,
              "ticks": ""
             }
            },
            "type": "scattercarpet"
           }
          ],
          "scattergeo": [
           {
            "marker": {
             "colorbar": {
              "outlinewidth": 0,
              "ticks": ""
             }
            },
            "type": "scattergeo"
           }
          ],
          "scattergl": [
           {
            "marker": {
             "colorbar": {
              "outlinewidth": 0,
              "ticks": ""
             }
            },
            "type": "scattergl"
           }
          ],
          "scattermap": [
           {
            "marker": {
             "colorbar": {
              "outlinewidth": 0,
              "ticks": ""
             }
            },
            "type": "scattermap"
           }
          ],
          "scattermapbox": [
           {
            "marker": {
             "colorbar": {
              "outlinewidth": 0,
              "ticks": ""
             }
            },
            "type": "scattermapbox"
           }
          ],
          "scatterpolar": [
           {
            "marker": {
             "colorbar": {
              "outlinewidth": 0,
              "ticks": ""
             }
            },
            "type": "scatterpolar"
           }
          ],
          "scatterpolargl": [
           {
            "marker": {
             "colorbar": {
              "outlinewidth": 0,
              "ticks": ""
             }
            },
            "type": "scatterpolargl"
           }
          ],
          "scatterternary": [
           {
            "marker": {
             "colorbar": {
              "outlinewidth": 0,
              "ticks": ""
             }
            },
            "type": "scatterternary"
           }
          ],
          "surface": [
           {
            "colorbar": {
             "outlinewidth": 0,
             "ticks": ""
            },
            "colorscale": [
             [
              0,
              "#0d0887"
             ],
             [
              0.1111111111111111,
              "#46039f"
             ],
             [
              0.2222222222222222,
              "#7201a8"
             ],
             [
              0.3333333333333333,
              "#9c179e"
             ],
             [
              0.4444444444444444,
              "#bd3786"
             ],
             [
              0.5555555555555556,
              "#d8576b"
             ],
             [
              0.6666666666666666,
              "#ed7953"
             ],
             [
              0.7777777777777778,
              "#fb9f3a"
             ],
             [
              0.8888888888888888,
              "#fdca26"
             ],
             [
              1,
              "#f0f921"
             ]
            ],
            "type": "surface"
           }
          ],
          "table": [
           {
            "cells": {
             "fill": {
              "color": "#EBF0F8"
             },
             "line": {
              "color": "white"
             }
            },
            "header": {
             "fill": {
              "color": "#C8D4E3"
             },
             "line": {
              "color": "white"
             }
            },
            "type": "table"
           }
          ]
         },
         "layout": {
          "annotationdefaults": {
           "arrowcolor": "#2a3f5f",
           "arrowhead": 0,
           "arrowwidth": 1
          },
          "autotypenumbers": "strict",
          "coloraxis": {
           "colorbar": {
            "outlinewidth": 0,
            "ticks": ""
           }
          },
          "colorscale": {
           "diverging": [
            [
             0,
             "#8e0152"
            ],
            [
             0.1,
             "#c51b7d"
            ],
            [
             0.2,
             "#de77ae"
            ],
            [
             0.3,
             "#f1b6da"
            ],
            [
             0.4,
             "#fde0ef"
            ],
            [
             0.5,
             "#f7f7f7"
            ],
            [
             0.6,
             "#e6f5d0"
            ],
            [
             0.7,
             "#b8e186"
            ],
            [
             0.8,
             "#7fbc41"
            ],
            [
             0.9,
             "#4d9221"
            ],
            [
             1,
             "#276419"
            ]
           ],
           "sequential": [
            [
             0,
             "#0d0887"
            ],
            [
             0.1111111111111111,
             "#46039f"
            ],
            [
             0.2222222222222222,
             "#7201a8"
            ],
            [
             0.3333333333333333,
             "#9c179e"
            ],
            [
             0.4444444444444444,
             "#bd3786"
            ],
            [
             0.5555555555555556,
             "#d8576b"
            ],
            [
             0.6666666666666666,
             "#ed7953"
            ],
            [
             0.7777777777777778,
             "#fb9f3a"
            ],
            [
             0.8888888888888888,
             "#fdca26"
            ],
            [
             1,
             "#f0f921"
            ]
           ],
           "sequentialminus": [
            [
             0,
             "#0d0887"
            ],
            [
             0.1111111111111111,
             "#46039f"
            ],
            [
             0.2222222222222222,
             "#7201a8"
            ],
            [
             0.3333333333333333,
             "#9c179e"
            ],
            [
             0.4444444444444444,
             "#bd3786"
            ],
            [
             0.5555555555555556,
             "#d8576b"
            ],
            [
             0.6666666666666666,
             "#ed7953"
            ],
            [
             0.7777777777777778,
             "#fb9f3a"
            ],
            [
             0.8888888888888888,
             "#fdca26"
            ],
            [
             1,
             "#f0f921"
            ]
           ]
          },
          "colorway": [
           "#636efa",
           "#EF553B",
           "#00cc96",
           "#ab63fa",
           "#FFA15A",
           "#19d3f3",
           "#FF6692",
           "#B6E880",
           "#FF97FF",
           "#FECB52"
          ],
          "font": {
           "color": "#2a3f5f"
          },
          "geo": {
           "bgcolor": "white",
           "lakecolor": "white",
           "landcolor": "#E5ECF6",
           "showlakes": true,
           "showland": true,
           "subunitcolor": "white"
          },
          "hoverlabel": {
           "align": "left"
          },
          "hovermode": "closest",
          "mapbox": {
           "style": "light"
          },
          "paper_bgcolor": "white",
          "plot_bgcolor": "#E5ECF6",
          "polar": {
           "angularaxis": {
            "gridcolor": "white",
            "linecolor": "white",
            "ticks": ""
           },
           "bgcolor": "#E5ECF6",
           "radialaxis": {
            "gridcolor": "white",
            "linecolor": "white",
            "ticks": ""
           }
          },
          "scene": {
           "xaxis": {
            "backgroundcolor": "#E5ECF6",
            "gridcolor": "white",
            "gridwidth": 2,
            "linecolor": "white",
            "showbackground": true,
            "ticks": "",
            "zerolinecolor": "white"
           },
           "yaxis": {
            "backgroundcolor": "#E5ECF6",
            "gridcolor": "white",
            "gridwidth": 2,
            "linecolor": "white",
            "showbackground": true,
            "ticks": "",
            "zerolinecolor": "white"
           },
           "zaxis": {
            "backgroundcolor": "#E5ECF6",
            "gridcolor": "white",
            "gridwidth": 2,
            "linecolor": "white",
            "showbackground": true,
            "ticks": "",
            "zerolinecolor": "white"
           }
          },
          "shapedefaults": {
           "line": {
            "color": "#2a3f5f"
           }
          },
          "ternary": {
           "aaxis": {
            "gridcolor": "white",
            "linecolor": "white",
            "ticks": ""
           },
           "baxis": {
            "gridcolor": "white",
            "linecolor": "white",
            "ticks": ""
           },
           "bgcolor": "#E5ECF6",
           "caxis": {
            "gridcolor": "white",
            "linecolor": "white",
            "ticks": ""
           }
          },
          "title": {
           "x": 0.05
          },
          "xaxis": {
           "automargin": true,
           "gridcolor": "white",
           "linecolor": "white",
           "ticks": "",
           "title": {
            "standoff": 15
           },
           "zerolinecolor": "white",
           "zerolinewidth": 2
          },
          "yaxis": {
           "automargin": true,
           "gridcolor": "white",
           "linecolor": "white",
           "ticks": "",
           "title": {
            "standoff": 15
           },
           "zerolinecolor": "white",
           "zerolinewidth": 2
          }
         }
        },
        "title": {
         "text": "Plot of daily ROI's with rolling average over 30 days"
        },
        "xaxis": {
         "anchor": "y",
         "domain": [
          0,
          1
         ],
         "title": {
          "text": "date"
         }
        },
        "yaxis": {
         "anchor": "x",
         "domain": [
          0,
          1
         ],
         "title": {
          "text": "value"
         }
        }
       }
      }
     },
     "metadata": {},
     "output_type": "display_data"
    }
   ],
   "source": [
    "# 30 days\n",
    "fig = px.line(roi_plot, x=roi_plot.index, y=['daily_roi_social', 'rolling_avg_social_30', 'daily_roi_ppc', 'rolling_avg_ppc_30'], title=\"Plot of daily ROI's with rolling average over 30 days\")\n",
    "fig.show()"
   ]
  },
  {
   "cell_type": "code",
   "execution_count": 136,
   "id": "9ad37b31",
   "metadata": {},
   "outputs": [
    {
     "data": {
      "application/vnd.plotly.v1+json": {
       "config": {
        "plotlyServerURL": "https://plot.ly"
       },
       "data": [
        {
         "hovertemplate": "variable=daily_roi_social<br>date=%{x}<br>value=%{y}<extra></extra>",
         "legendgroup": "daily_roi_social",
         "line": {
          "color": "#636efa",
          "dash": "solid"
         },
         "marker": {
          "symbol": "circle"
         },
         "mode": "lines",
         "name": "daily_roi_social",
         "showlegend": true,
         "type": "scattergl",
         "x": [
          "2024-08-01T00:00:00.000000000",
          "2024-08-02T00:00:00.000000000",
          "2024-08-03T00:00:00.000000000",
          "2024-08-04T00:00:00.000000000",
          "2024-08-05T00:00:00.000000000",
          "2024-08-06T00:00:00.000000000",
          "2024-08-07T00:00:00.000000000",
          "2024-08-08T00:00:00.000000000",
          "2024-08-09T00:00:00.000000000",
          "2024-08-10T00:00:00.000000000",
          "2024-08-11T00:00:00.000000000",
          "2024-08-12T00:00:00.000000000",
          "2024-08-13T00:00:00.000000000",
          "2024-08-14T00:00:00.000000000",
          "2024-08-15T00:00:00.000000000",
          "2024-08-16T00:00:00.000000000",
          "2024-08-17T00:00:00.000000000",
          "2024-08-18T00:00:00.000000000",
          "2024-08-19T00:00:00.000000000",
          "2024-08-20T00:00:00.000000000",
          "2024-08-21T00:00:00.000000000",
          "2024-08-22T00:00:00.000000000",
          "2024-08-23T00:00:00.000000000",
          "2024-08-24T00:00:00.000000000",
          "2024-08-25T00:00:00.000000000",
          "2024-08-26T00:00:00.000000000",
          "2024-08-27T00:00:00.000000000",
          "2024-08-28T00:00:00.000000000",
          "2024-08-29T00:00:00.000000000",
          "2024-08-30T00:00:00.000000000",
          "2024-08-31T00:00:00.000000000",
          "2024-09-01T00:00:00.000000000",
          "2024-09-02T00:00:00.000000000",
          "2024-09-03T00:00:00.000000000",
          "2024-09-04T00:00:00.000000000",
          "2024-09-05T00:00:00.000000000",
          "2024-09-06T00:00:00.000000000",
          "2024-09-07T00:00:00.000000000",
          "2024-09-08T00:00:00.000000000",
          "2024-09-09T00:00:00.000000000",
          "2024-09-10T00:00:00.000000000",
          "2024-09-11T00:00:00.000000000",
          "2024-09-12T00:00:00.000000000",
          "2024-09-13T00:00:00.000000000",
          "2024-09-14T00:00:00.000000000",
          "2024-09-15T00:00:00.000000000",
          "2024-09-16T00:00:00.000000000",
          "2024-09-17T00:00:00.000000000",
          "2024-09-18T00:00:00.000000000",
          "2024-09-19T00:00:00.000000000",
          "2024-09-20T00:00:00.000000000",
          "2024-09-21T00:00:00.000000000",
          "2024-09-22T00:00:00.000000000",
          "2024-09-23T00:00:00.000000000",
          "2024-09-24T00:00:00.000000000",
          "2024-09-25T00:00:00.000000000",
          "2024-09-26T00:00:00.000000000",
          "2024-09-27T00:00:00.000000000",
          "2024-09-28T00:00:00.000000000",
          "2024-09-29T00:00:00.000000000",
          "2024-09-30T00:00:00.000000000",
          "2024-10-01T00:00:00.000000000",
          "2024-10-02T00:00:00.000000000",
          "2024-10-03T00:00:00.000000000",
          "2024-10-04T00:00:00.000000000",
          "2024-10-05T00:00:00.000000000",
          "2024-10-06T00:00:00.000000000",
          "2024-10-07T00:00:00.000000000",
          "2024-10-08T00:00:00.000000000",
          "2024-10-09T00:00:00.000000000",
          "2024-10-10T00:00:00.000000000",
          "2024-10-11T00:00:00.000000000",
          "2024-10-12T00:00:00.000000000",
          "2024-10-13T00:00:00.000000000",
          "2024-10-14T00:00:00.000000000",
          "2024-10-15T00:00:00.000000000",
          "2024-10-16T00:00:00.000000000",
          "2024-10-17T00:00:00.000000000",
          "2024-10-18T00:00:00.000000000",
          "2024-10-19T00:00:00.000000000",
          "2024-10-20T00:00:00.000000000",
          "2024-10-21T00:00:00.000000000",
          "2024-10-22T00:00:00.000000000",
          "2024-10-23T00:00:00.000000000",
          "2024-10-24T00:00:00.000000000",
          "2024-10-25T00:00:00.000000000",
          "2024-10-26T00:00:00.000000000",
          "2024-10-27T00:00:00.000000000",
          "2024-10-28T00:00:00.000000000",
          "2024-10-29T00:00:00.000000000",
          "2024-10-30T00:00:00.000000000",
          "2024-10-31T00:00:00.000000000",
          "2024-11-01T00:00:00.000000000",
          "2024-11-02T00:00:00.000000000",
          "2024-11-03T00:00:00.000000000",
          "2024-11-04T00:00:00.000000000",
          "2024-11-05T00:00:00.000000000",
          "2024-11-06T00:00:00.000000000",
          "2024-11-07T00:00:00.000000000",
          "2024-11-08T00:00:00.000000000",
          "2024-11-09T00:00:00.000000000",
          "2024-11-10T00:00:00.000000000",
          "2024-11-11T00:00:00.000000000",
          "2024-11-12T00:00:00.000000000",
          "2024-11-13T00:00:00.000000000",
          "2024-11-14T00:00:00.000000000",
          "2024-11-15T00:00:00.000000000",
          "2024-11-16T00:00:00.000000000",
          "2024-11-17T00:00:00.000000000",
          "2024-11-18T00:00:00.000000000",
          "2024-11-19T00:00:00.000000000",
          "2024-11-20T00:00:00.000000000",
          "2024-11-21T00:00:00.000000000",
          "2024-11-22T00:00:00.000000000",
          "2024-11-23T00:00:00.000000000",
          "2024-11-24T00:00:00.000000000",
          "2024-11-25T00:00:00.000000000",
          "2024-11-26T00:00:00.000000000",
          "2024-11-27T00:00:00.000000000",
          "2024-11-28T00:00:00.000000000",
          "2024-11-29T00:00:00.000000000",
          "2024-11-30T00:00:00.000000000",
          "2024-12-01T00:00:00.000000000",
          "2024-12-02T00:00:00.000000000",
          "2024-12-03T00:00:00.000000000",
          "2024-12-04T00:00:00.000000000",
          "2024-12-05T00:00:00.000000000",
          "2024-12-06T00:00:00.000000000",
          "2024-12-07T00:00:00.000000000",
          "2024-12-08T00:00:00.000000000",
          "2024-12-09T00:00:00.000000000",
          "2024-12-10T00:00:00.000000000",
          "2024-12-11T00:00:00.000000000",
          "2024-12-12T00:00:00.000000000",
          "2024-12-13T00:00:00.000000000",
          "2024-12-14T00:00:00.000000000",
          "2024-12-15T00:00:00.000000000",
          "2024-12-16T00:00:00.000000000",
          "2024-12-17T00:00:00.000000000",
          "2024-12-18T00:00:00.000000000",
          "2024-12-19T00:00:00.000000000",
          "2024-12-20T00:00:00.000000000",
          "2024-12-21T00:00:00.000000000",
          "2024-12-22T00:00:00.000000000",
          "2024-12-23T00:00:00.000000000",
          "2024-12-24T00:00:00.000000000",
          "2024-12-25T00:00:00.000000000",
          "2024-12-26T00:00:00.000000000",
          "2024-12-27T00:00:00.000000000",
          "2024-12-28T00:00:00.000000000",
          "2024-12-29T00:00:00.000000000",
          "2024-12-30T00:00:00.000000000",
          "2024-12-31T00:00:00.000000000",
          "2025-01-01T00:00:00.000000000",
          "2025-01-02T00:00:00.000000000",
          "2025-01-03T00:00:00.000000000",
          "2025-01-04T00:00:00.000000000",
          "2025-01-05T00:00:00.000000000",
          "2025-01-06T00:00:00.000000000",
          "2025-01-07T00:00:00.000000000",
          "2025-01-08T00:00:00.000000000",
          "2025-01-09T00:00:00.000000000",
          "2025-01-10T00:00:00.000000000",
          "2025-01-11T00:00:00.000000000",
          "2025-01-12T00:00:00.000000000",
          "2025-01-13T00:00:00.000000000",
          "2025-01-14T00:00:00.000000000",
          "2025-01-15T00:00:00.000000000",
          "2025-01-16T00:00:00.000000000",
          "2025-01-17T00:00:00.000000000",
          "2025-01-18T00:00:00.000000000",
          "2025-01-19T00:00:00.000000000",
          "2025-01-20T00:00:00.000000000",
          "2025-01-21T00:00:00.000000000",
          "2025-01-22T00:00:00.000000000",
          "2025-01-23T00:00:00.000000000",
          "2025-01-24T00:00:00.000000000",
          "2025-01-25T00:00:00.000000000",
          "2025-01-26T00:00:00.000000000",
          "2025-01-27T00:00:00.000000000",
          "2025-01-28T00:00:00.000000000",
          "2025-01-29T00:00:00.000000000",
          "2025-01-30T00:00:00.000000000",
          "2025-01-31T00:00:00.000000000",
          "2025-02-01T00:00:00.000000000",
          "2025-02-02T00:00:00.000000000",
          "2025-02-03T00:00:00.000000000",
          "2025-02-04T00:00:00.000000000",
          "2025-02-05T00:00:00.000000000",
          "2025-02-06T00:00:00.000000000",
          "2025-02-07T00:00:00.000000000",
          "2025-02-08T00:00:00.000000000",
          "2025-02-09T00:00:00.000000000",
          "2025-02-10T00:00:00.000000000",
          "2025-02-11T00:00:00.000000000",
          "2025-02-12T00:00:00.000000000",
          "2025-02-13T00:00:00.000000000",
          "2025-02-14T00:00:00.000000000",
          "2025-02-15T00:00:00.000000000",
          "2025-02-16T00:00:00.000000000",
          "2025-02-17T00:00:00.000000000",
          "2025-02-18T00:00:00.000000000",
          "2025-02-19T00:00:00.000000000",
          "2025-02-20T00:00:00.000000000",
          "2025-02-21T00:00:00.000000000",
          "2025-02-22T00:00:00.000000000",
          "2025-02-23T00:00:00.000000000",
          "2025-02-24T00:00:00.000000000",
          "2025-02-25T00:00:00.000000000",
          "2025-02-26T00:00:00.000000000",
          "2025-02-27T00:00:00.000000000",
          "2025-02-28T00:00:00.000000000",
          "2025-03-01T00:00:00.000000000",
          "2025-03-02T00:00:00.000000000",
          "2025-03-03T00:00:00.000000000",
          "2025-03-04T00:00:00.000000000",
          "2025-03-05T00:00:00.000000000",
          "2025-03-06T00:00:00.000000000",
          "2025-03-07T00:00:00.000000000",
          "2025-03-08T00:00:00.000000000",
          "2025-03-09T00:00:00.000000000",
          "2025-03-10T00:00:00.000000000",
          "2025-03-11T00:00:00.000000000",
          "2025-03-12T00:00:00.000000000",
          "2025-03-13T00:00:00.000000000",
          "2025-03-14T00:00:00.000000000",
          "2025-03-15T00:00:00.000000000",
          "2025-03-16T00:00:00.000000000",
          "2025-03-17T00:00:00.000000000",
          "2025-03-18T00:00:00.000000000",
          "2025-03-19T00:00:00.000000000",
          "2025-03-20T00:00:00.000000000",
          "2025-03-21T00:00:00.000000000",
          "2025-03-22T00:00:00.000000000",
          "2025-03-23T00:00:00.000000000",
          "2025-03-24T00:00:00.000000000",
          "2025-03-25T00:00:00.000000000",
          "2025-03-26T00:00:00.000000000",
          "2025-03-27T00:00:00.000000000",
          "2025-03-28T00:00:00.000000000",
          "2025-03-29T00:00:00.000000000",
          "2025-03-30T00:00:00.000000000",
          "2025-03-31T00:00:00.000000000",
          "2025-04-01T00:00:00.000000000",
          "2025-04-02T00:00:00.000000000",
          "2025-04-03T00:00:00.000000000",
          "2025-04-04T00:00:00.000000000",
          "2025-04-05T00:00:00.000000000",
          "2025-04-06T00:00:00.000000000",
          "2025-04-07T00:00:00.000000000",
          "2025-04-08T00:00:00.000000000",
          "2025-04-09T00:00:00.000000000",
          "2025-04-10T00:00:00.000000000",
          "2025-04-11T00:00:00.000000000",
          "2025-04-12T00:00:00.000000000",
          "2025-04-13T00:00:00.000000000",
          "2025-04-14T00:00:00.000000000",
          "2025-04-15T00:00:00.000000000",
          "2025-04-16T00:00:00.000000000",
          "2025-04-17T00:00:00.000000000",
          "2025-04-18T00:00:00.000000000",
          "2025-04-19T00:00:00.000000000",
          "2025-04-20T00:00:00.000000000",
          "2025-04-21T00:00:00.000000000",
          "2025-04-22T00:00:00.000000000",
          "2025-04-23T00:00:00.000000000",
          "2025-04-24T00:00:00.000000000",
          "2025-04-25T00:00:00.000000000",
          "2025-04-26T00:00:00.000000000",
          "2025-04-27T00:00:00.000000000",
          "2025-04-28T00:00:00.000000000",
          "2025-04-29T00:00:00.000000000",
          "2025-04-30T00:00:00.000000000",
          "2025-05-01T00:00:00.000000000",
          "2025-05-02T00:00:00.000000000",
          "2025-05-03T00:00:00.000000000",
          "2025-05-04T00:00:00.000000000",
          "2025-05-05T00:00:00.000000000",
          "2025-05-06T00:00:00.000000000",
          "2025-05-07T00:00:00.000000000",
          "2025-05-08T00:00:00.000000000",
          "2025-05-09T00:00:00.000000000",
          "2025-05-10T00:00:00.000000000",
          "2025-05-11T00:00:00.000000000",
          "2025-05-12T00:00:00.000000000",
          "2025-05-13T00:00:00.000000000",
          "2025-05-14T00:00:00.000000000",
          "2025-05-15T00:00:00.000000000",
          "2025-05-16T00:00:00.000000000",
          "2025-05-17T00:00:00.000000000",
          "2025-05-18T00:00:00.000000000",
          "2025-05-19T00:00:00.000000000",
          "2025-05-20T00:00:00.000000000",
          "2025-05-21T00:00:00.000000000",
          "2025-05-22T00:00:00.000000000",
          "2025-05-23T00:00:00.000000000",
          "2025-05-24T00:00:00.000000000",
          "2025-05-25T00:00:00.000000000",
          "2025-05-26T00:00:00.000000000",
          "2025-05-27T00:00:00.000000000",
          "2025-05-28T00:00:00.000000000",
          "2025-05-29T00:00:00.000000000",
          "2025-05-30T00:00:00.000000000",
          "2025-05-31T00:00:00.000000000",
          "2025-06-01T00:00:00.000000000",
          "2025-06-02T00:00:00.000000000",
          "2025-06-03T00:00:00.000000000",
          "2025-06-04T00:00:00.000000000",
          "2025-06-05T00:00:00.000000000",
          "2025-06-06T00:00:00.000000000",
          "2025-06-07T00:00:00.000000000",
          "2025-06-08T00:00:00.000000000",
          "2025-06-09T00:00:00.000000000",
          "2025-06-10T00:00:00.000000000",
          "2025-06-11T00:00:00.000000000",
          "2025-06-12T00:00:00.000000000",
          "2025-06-13T00:00:00.000000000",
          "2025-06-14T00:00:00.000000000",
          "2025-06-15T00:00:00.000000000",
          "2025-06-16T00:00:00.000000000",
          "2025-06-17T00:00:00.000000000",
          "2025-06-18T00:00:00.000000000",
          "2025-06-19T00:00:00.000000000",
          "2025-06-20T00:00:00.000000000",
          "2025-06-21T00:00:00.000000000",
          "2025-06-22T00:00:00.000000000",
          "2025-06-23T00:00:00.000000000",
          "2025-06-24T00:00:00.000000000",
          "2025-06-25T00:00:00.000000000",
          "2025-06-26T00:00:00.000000000",
          "2025-06-27T00:00:00.000000000",
          "2025-06-28T00:00:00.000000000",
          "2025-06-29T00:00:00.000000000",
          "2025-06-30T00:00:00.000000000",
          "2025-07-01T00:00:00.000000000",
          "2025-07-02T00:00:00.000000000",
          "2025-07-03T00:00:00.000000000",
          "2025-07-04T00:00:00.000000000",
          "2025-07-05T00:00:00.000000000",
          "2025-07-06T00:00:00.000000000",
          "2025-07-07T00:00:00.000000000",
          "2025-07-08T00:00:00.000000000",
          "2025-07-09T00:00:00.000000000",
          "2025-07-10T00:00:00.000000000",
          "2025-07-11T00:00:00.000000000",
          "2025-07-12T00:00:00.000000000",
          "2025-07-13T00:00:00.000000000",
          "2025-07-14T00:00:00.000000000",
          "2025-07-15T00:00:00.000000000",
          "2025-07-16T00:00:00.000000000",
          "2025-07-17T00:00:00.000000000",
          "2025-07-18T00:00:00.000000000",
          "2025-07-19T00:00:00.000000000",
          "2025-07-20T00:00:00.000000000",
          "2025-07-21T00:00:00.000000000",
          "2025-07-22T00:00:00.000000000",
          "2025-07-23T00:00:00.000000000",
          "2025-07-24T00:00:00.000000000",
          "2025-07-25T00:00:00.000000000",
          "2025-07-26T00:00:00.000000000",
          "2025-07-27T00:00:00.000000000",
          "2025-07-28T00:00:00.000000000",
          "2025-07-29T00:00:00.000000000",
          "2025-07-30T00:00:00.000000000",
          "2025-07-31T00:00:00.000000000"
         ],
         "xaxis": "x",
         "y": {
          "bdata": "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",
          "dtype": "f8"
         },
         "yaxis": "y"
        },
        {
         "hovertemplate": "variable=rolling_avg_social_60<br>date=%{x}<br>value=%{y}<extra></extra>",
         "legendgroup": "rolling_avg_social_60",
         "line": {
          "color": "#EF553B",
          "dash": "solid"
         },
         "marker": {
          "symbol": "circle"
         },
         "mode": "lines",
         "name": "rolling_avg_social_60",
         "showlegend": true,
         "type": "scattergl",
         "x": [
          "2024-08-01T00:00:00.000000000",
          "2024-08-02T00:00:00.000000000",
          "2024-08-03T00:00:00.000000000",
          "2024-08-04T00:00:00.000000000",
          "2024-08-05T00:00:00.000000000",
          "2024-08-06T00:00:00.000000000",
          "2024-08-07T00:00:00.000000000",
          "2024-08-08T00:00:00.000000000",
          "2024-08-09T00:00:00.000000000",
          "2024-08-10T00:00:00.000000000",
          "2024-08-11T00:00:00.000000000",
          "2024-08-12T00:00:00.000000000",
          "2024-08-13T00:00:00.000000000",
          "2024-08-14T00:00:00.000000000",
          "2024-08-15T00:00:00.000000000",
          "2024-08-16T00:00:00.000000000",
          "2024-08-17T00:00:00.000000000",
          "2024-08-18T00:00:00.000000000",
          "2024-08-19T00:00:00.000000000",
          "2024-08-20T00:00:00.000000000",
          "2024-08-21T00:00:00.000000000",
          "2024-08-22T00:00:00.000000000",
          "2024-08-23T00:00:00.000000000",
          "2024-08-24T00:00:00.000000000",
          "2024-08-25T00:00:00.000000000",
          "2024-08-26T00:00:00.000000000",
          "2024-08-27T00:00:00.000000000",
          "2024-08-28T00:00:00.000000000",
          "2024-08-29T00:00:00.000000000",
          "2024-08-30T00:00:00.000000000",
          "2024-08-31T00:00:00.000000000",
          "2024-09-01T00:00:00.000000000",
          "2024-09-02T00:00:00.000000000",
          "2024-09-03T00:00:00.000000000",
          "2024-09-04T00:00:00.000000000",
          "2024-09-05T00:00:00.000000000",
          "2024-09-06T00:00:00.000000000",
          "2024-09-07T00:00:00.000000000",
          "2024-09-08T00:00:00.000000000",
          "2024-09-09T00:00:00.000000000",
          "2024-09-10T00:00:00.000000000",
          "2024-09-11T00:00:00.000000000",
          "2024-09-12T00:00:00.000000000",
          "2024-09-13T00:00:00.000000000",
          "2024-09-14T00:00:00.000000000",
          "2024-09-15T00:00:00.000000000",
          "2024-09-16T00:00:00.000000000",
          "2024-09-17T00:00:00.000000000",
          "2024-09-18T00:00:00.000000000",
          "2024-09-19T00:00:00.000000000",
          "2024-09-20T00:00:00.000000000",
          "2024-09-21T00:00:00.000000000",
          "2024-09-22T00:00:00.000000000",
          "2024-09-23T00:00:00.000000000",
          "2024-09-24T00:00:00.000000000",
          "2024-09-25T00:00:00.000000000",
          "2024-09-26T00:00:00.000000000",
          "2024-09-27T00:00:00.000000000",
          "2024-09-28T00:00:00.000000000",
          "2024-09-29T00:00:00.000000000",
          "2024-09-30T00:00:00.000000000",
          "2024-10-01T00:00:00.000000000",
          "2024-10-02T00:00:00.000000000",
          "2024-10-03T00:00:00.000000000",
          "2024-10-04T00:00:00.000000000",
          "2024-10-05T00:00:00.000000000",
          "2024-10-06T00:00:00.000000000",
          "2024-10-07T00:00:00.000000000",
          "2024-10-08T00:00:00.000000000",
          "2024-10-09T00:00:00.000000000",
          "2024-10-10T00:00:00.000000000",
          "2024-10-11T00:00:00.000000000",
          "2024-10-12T00:00:00.000000000",
          "2024-10-13T00:00:00.000000000",
          "2024-10-14T00:00:00.000000000",
          "2024-10-15T00:00:00.000000000",
          "2024-10-16T00:00:00.000000000",
          "2024-10-17T00:00:00.000000000",
          "2024-10-18T00:00:00.000000000",
          "2024-10-19T00:00:00.000000000",
          "2024-10-20T00:00:00.000000000",
          "2024-10-21T00:00:00.000000000",
          "2024-10-22T00:00:00.000000000",
          "2024-10-23T00:00:00.000000000",
          "2024-10-24T00:00:00.000000000",
          "2024-10-25T00:00:00.000000000",
          "2024-10-26T00:00:00.000000000",
          "2024-10-27T00:00:00.000000000",
          "2024-10-28T00:00:00.000000000",
          "2024-10-29T00:00:00.000000000",
          "2024-10-30T00:00:00.000000000",
          "2024-10-31T00:00:00.000000000",
          "2024-11-01T00:00:00.000000000",
          "2024-11-02T00:00:00.000000000",
          "2024-11-03T00:00:00.000000000",
          "2024-11-04T00:00:00.000000000",
          "2024-11-05T00:00:00.000000000",
          "2024-11-06T00:00:00.000000000",
          "2024-11-07T00:00:00.000000000",
          "2024-11-08T00:00:00.000000000",
          "2024-11-09T00:00:00.000000000",
          "2024-11-10T00:00:00.000000000",
          "2024-11-11T00:00:00.000000000",
          "2024-11-12T00:00:00.000000000",
          "2024-11-13T00:00:00.000000000",
          "2024-11-14T00:00:00.000000000",
          "2024-11-15T00:00:00.000000000",
          "2024-11-16T00:00:00.000000000",
          "2024-11-17T00:00:00.000000000",
          "2024-11-18T00:00:00.000000000",
          "2024-11-19T00:00:00.000000000",
          "2024-11-20T00:00:00.000000000",
          "2024-11-21T00:00:00.000000000",
          "2024-11-22T00:00:00.000000000",
          "2024-11-23T00:00:00.000000000",
          "2024-11-24T00:00:00.000000000",
          "2024-11-25T00:00:00.000000000",
          "2024-11-26T00:00:00.000000000",
          "2024-11-27T00:00:00.000000000",
          "2024-11-28T00:00:00.000000000",
          "2024-11-29T00:00:00.000000000",
          "2024-11-30T00:00:00.000000000",
          "2024-12-01T00:00:00.000000000",
          "2024-12-02T00:00:00.000000000",
          "2024-12-03T00:00:00.000000000",
          "2024-12-04T00:00:00.000000000",
          "2024-12-05T00:00:00.000000000",
          "2024-12-06T00:00:00.000000000",
          "2024-12-07T00:00:00.000000000",
          "2024-12-08T00:00:00.000000000",
          "2024-12-09T00:00:00.000000000",
          "2024-12-10T00:00:00.000000000",
          "2024-12-11T00:00:00.000000000",
          "2024-12-12T00:00:00.000000000",
          "2024-12-13T00:00:00.000000000",
          "2024-12-14T00:00:00.000000000",
          "2024-12-15T00:00:00.000000000",
          "2024-12-16T00:00:00.000000000",
          "2024-12-17T00:00:00.000000000",
          "2024-12-18T00:00:00.000000000",
          "2024-12-19T00:00:00.000000000",
          "2024-12-20T00:00:00.000000000",
          "2024-12-21T00:00:00.000000000",
          "2024-12-22T00:00:00.000000000",
          "2024-12-23T00:00:00.000000000",
          "2024-12-24T00:00:00.000000000",
          "2024-12-25T00:00:00.000000000",
          "2024-12-26T00:00:00.000000000",
          "2024-12-27T00:00:00.000000000",
          "2024-12-28T00:00:00.000000000",
          "2024-12-29T00:00:00.000000000",
          "2024-12-30T00:00:00.000000000",
          "2024-12-31T00:00:00.000000000",
          "2025-01-01T00:00:00.000000000",
          "2025-01-02T00:00:00.000000000",
          "2025-01-03T00:00:00.000000000",
          "2025-01-04T00:00:00.000000000",
          "2025-01-05T00:00:00.000000000",
          "2025-01-06T00:00:00.000000000",
          "2025-01-07T00:00:00.000000000",
          "2025-01-08T00:00:00.000000000",
          "2025-01-09T00:00:00.000000000",
          "2025-01-10T00:00:00.000000000",
          "2025-01-11T00:00:00.000000000",
          "2025-01-12T00:00:00.000000000",
          "2025-01-13T00:00:00.000000000",
          "2025-01-14T00:00:00.000000000",
          "2025-01-15T00:00:00.000000000",
          "2025-01-16T00:00:00.000000000",
          "2025-01-17T00:00:00.000000000",
          "2025-01-18T00:00:00.000000000",
          "2025-01-19T00:00:00.000000000",
          "2025-01-20T00:00:00.000000000",
          "2025-01-21T00:00:00.000000000",
          "2025-01-22T00:00:00.000000000",
          "2025-01-23T00:00:00.000000000",
          "2025-01-24T00:00:00.000000000",
          "2025-01-25T00:00:00.000000000",
          "2025-01-26T00:00:00.000000000",
          "2025-01-27T00:00:00.000000000",
          "2025-01-28T00:00:00.000000000",
          "2025-01-29T00:00:00.000000000",
          "2025-01-30T00:00:00.000000000",
          "2025-01-31T00:00:00.000000000",
          "2025-02-01T00:00:00.000000000",
          "2025-02-02T00:00:00.000000000",
          "2025-02-03T00:00:00.000000000",
          "2025-02-04T00:00:00.000000000",
          "2025-02-05T00:00:00.000000000",
          "2025-02-06T00:00:00.000000000",
          "2025-02-07T00:00:00.000000000",
          "2025-02-08T00:00:00.000000000",
          "2025-02-09T00:00:00.000000000",
          "2025-02-10T00:00:00.000000000",
          "2025-02-11T00:00:00.000000000",
          "2025-02-12T00:00:00.000000000",
          "2025-02-13T00:00:00.000000000",
          "2025-02-14T00:00:00.000000000",
          "2025-02-15T00:00:00.000000000",
          "2025-02-16T00:00:00.000000000",
          "2025-02-17T00:00:00.000000000",
          "2025-02-18T00:00:00.000000000",
          "2025-02-19T00:00:00.000000000",
          "2025-02-20T00:00:00.000000000",
          "2025-02-21T00:00:00.000000000",
          "2025-02-22T00:00:00.000000000",
          "2025-02-23T00:00:00.000000000",
          "2025-02-24T00:00:00.000000000",
          "2025-02-25T00:00:00.000000000",
          "2025-02-26T00:00:00.000000000",
          "2025-02-27T00:00:00.000000000",
          "2025-02-28T00:00:00.000000000",
          "2025-03-01T00:00:00.000000000",
          "2025-03-02T00:00:00.000000000",
          "2025-03-03T00:00:00.000000000",
          "2025-03-04T00:00:00.000000000",
          "2025-03-05T00:00:00.000000000",
          "2025-03-06T00:00:00.000000000",
          "2025-03-07T00:00:00.000000000",
          "2025-03-08T00:00:00.000000000",
          "2025-03-09T00:00:00.000000000",
          "2025-03-10T00:00:00.000000000",
          "2025-03-11T00:00:00.000000000",
          "2025-03-12T00:00:00.000000000",
          "2025-03-13T00:00:00.000000000",
          "2025-03-14T00:00:00.000000000",
          "2025-03-15T00:00:00.000000000",
          "2025-03-16T00:00:00.000000000",
          "2025-03-17T00:00:00.000000000",
          "2025-03-18T00:00:00.000000000",
          "2025-03-19T00:00:00.000000000",
          "2025-03-20T00:00:00.000000000",
          "2025-03-21T00:00:00.000000000",
          "2025-03-22T00:00:00.000000000",
          "2025-03-23T00:00:00.000000000",
          "2025-03-24T00:00:00.000000000",
          "2025-03-25T00:00:00.000000000",
          "2025-03-26T00:00:00.000000000",
          "2025-03-27T00:00:00.000000000",
          "2025-03-28T00:00:00.000000000",
          "2025-03-29T00:00:00.000000000",
          "2025-03-30T00:00:00.000000000",
          "2025-03-31T00:00:00.000000000",
          "2025-04-01T00:00:00.000000000",
          "2025-04-02T00:00:00.000000000",
          "2025-04-03T00:00:00.000000000",
          "2025-04-04T00:00:00.000000000",
          "2025-04-05T00:00:00.000000000",
          "2025-04-06T00:00:00.000000000",
          "2025-04-07T00:00:00.000000000",
          "2025-04-08T00:00:00.000000000",
          "2025-04-09T00:00:00.000000000",
          "2025-04-10T00:00:00.000000000",
          "2025-04-11T00:00:00.000000000",
          "2025-04-12T00:00:00.000000000",
          "2025-04-13T00:00:00.000000000",
          "2025-04-14T00:00:00.000000000",
          "2025-04-15T00:00:00.000000000",
          "2025-04-16T00:00:00.000000000",
          "2025-04-17T00:00:00.000000000",
          "2025-04-18T00:00:00.000000000",
          "2025-04-19T00:00:00.000000000",
          "2025-04-20T00:00:00.000000000",
          "2025-04-21T00:00:00.000000000",
          "2025-04-22T00:00:00.000000000",
          "2025-04-23T00:00:00.000000000",
          "2025-04-24T00:00:00.000000000",
          "2025-04-25T00:00:00.000000000",
          "2025-04-26T00:00:00.000000000",
          "2025-04-27T00:00:00.000000000",
          "2025-04-28T00:00:00.000000000",
          "2025-04-29T00:00:00.000000000",
          "2025-04-30T00:00:00.000000000",
          "2025-05-01T00:00:00.000000000",
          "2025-05-02T00:00:00.000000000",
          "2025-05-03T00:00:00.000000000",
          "2025-05-04T00:00:00.000000000",
          "2025-05-05T00:00:00.000000000",
          "2025-05-06T00:00:00.000000000",
          "2025-05-07T00:00:00.000000000",
          "2025-05-08T00:00:00.000000000",
          "2025-05-09T00:00:00.000000000",
          "2025-05-10T00:00:00.000000000",
          "2025-05-11T00:00:00.000000000",
          "2025-05-12T00:00:00.000000000",
          "2025-05-13T00:00:00.000000000",
          "2025-05-14T00:00:00.000000000",
          "2025-05-15T00:00:00.000000000",
          "2025-05-16T00:00:00.000000000",
          "2025-05-17T00:00:00.000000000",
          "2025-05-18T00:00:00.000000000",
          "2025-05-19T00:00:00.000000000",
          "2025-05-20T00:00:00.000000000",
          "2025-05-21T00:00:00.000000000",
          "2025-05-22T00:00:00.000000000",
          "2025-05-23T00:00:00.000000000",
          "2025-05-24T00:00:00.000000000",
          "2025-05-25T00:00:00.000000000",
          "2025-05-26T00:00:00.000000000",
          "2025-05-27T00:00:00.000000000",
          "2025-05-28T00:00:00.000000000",
          "2025-05-29T00:00:00.000000000",
          "2025-05-30T00:00:00.000000000",
          "2025-05-31T00:00:00.000000000",
          "2025-06-01T00:00:00.000000000",
          "2025-06-02T00:00:00.000000000",
          "2025-06-03T00:00:00.000000000",
          "2025-06-04T00:00:00.000000000",
          "2025-06-05T00:00:00.000000000",
          "2025-06-06T00:00:00.000000000",
          "2025-06-07T00:00:00.000000000",
          "2025-06-08T00:00:00.000000000",
          "2025-06-09T00:00:00.000000000",
          "2025-06-10T00:00:00.000000000",
          "2025-06-11T00:00:00.000000000",
          "2025-06-12T00:00:00.000000000",
          "2025-06-13T00:00:00.000000000",
          "2025-06-14T00:00:00.000000000",
          "2025-06-15T00:00:00.000000000",
          "2025-06-16T00:00:00.000000000",
          "2025-06-17T00:00:00.000000000",
          "2025-06-18T00:00:00.000000000",
          "2025-06-19T00:00:00.000000000",
          "2025-06-20T00:00:00.000000000",
          "2025-06-21T00:00:00.000000000",
          "2025-06-22T00:00:00.000000000",
          "2025-06-23T00:00:00.000000000",
          "2025-06-24T00:00:00.000000000",
          "2025-06-25T00:00:00.000000000",
          "2025-06-26T00:00:00.000000000",
          "2025-06-27T00:00:00.000000000",
          "2025-06-28T00:00:00.000000000",
          "2025-06-29T00:00:00.000000000",
          "2025-06-30T00:00:00.000000000",
          "2025-07-01T00:00:00.000000000",
          "2025-07-02T00:00:00.000000000",
          "2025-07-03T00:00:00.000000000",
          "2025-07-04T00:00:00.000000000",
          "2025-07-05T00:00:00.000000000",
          "2025-07-06T00:00:00.000000000",
          "2025-07-07T00:00:00.000000000",
          "2025-07-08T00:00:00.000000000",
          "2025-07-09T00:00:00.000000000",
          "2025-07-10T00:00:00.000000000",
          "2025-07-11T00:00:00.000000000",
          "2025-07-12T00:00:00.000000000",
          "2025-07-13T00:00:00.000000000",
          "2025-07-14T00:00:00.000000000",
          "2025-07-15T00:00:00.000000000",
          "2025-07-16T00:00:00.000000000",
          "2025-07-17T00:00:00.000000000",
          "2025-07-18T00:00:00.000000000",
          "2025-07-19T00:00:00.000000000",
          "2025-07-20T00:00:00.000000000",
          "2025-07-21T00:00:00.000000000",
          "2025-07-22T00:00:00.000000000",
          "2025-07-23T00:00:00.000000000",
          "2025-07-24T00:00:00.000000000",
          "2025-07-25T00:00:00.000000000",
          "2025-07-26T00:00:00.000000000",
          "2025-07-27T00:00:00.000000000",
          "2025-07-28T00:00:00.000000000",
          "2025-07-29T00:00:00.000000000",
          "2025-07-30T00:00:00.000000000",
          "2025-07-31T00:00:00.000000000"
         ],
         "xaxis": "x",
         "y": {
          "bdata": "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",
          "dtype": "f8"
         },
         "yaxis": "y"
        },
        {
         "hovertemplate": "variable=daily_roi_ppc<br>date=%{x}<br>value=%{y}<extra></extra>",
         "legendgroup": "daily_roi_ppc",
         "line": {
          "color": "#00cc96",
          "dash": "solid"
         },
         "marker": {
          "symbol": "circle"
         },
         "mode": "lines",
         "name": "daily_roi_ppc",
         "showlegend": true,
         "type": "scattergl",
         "x": [
          "2024-08-01T00:00:00.000000000",
          "2024-08-02T00:00:00.000000000",
          "2024-08-03T00:00:00.000000000",
          "2024-08-04T00:00:00.000000000",
          "2024-08-05T00:00:00.000000000",
          "2024-08-06T00:00:00.000000000",
          "2024-08-07T00:00:00.000000000",
          "2024-08-08T00:00:00.000000000",
          "2024-08-09T00:00:00.000000000",
          "2024-08-10T00:00:00.000000000",
          "2024-08-11T00:00:00.000000000",
          "2024-08-12T00:00:00.000000000",
          "2024-08-13T00:00:00.000000000",
          "2024-08-14T00:00:00.000000000",
          "2024-08-15T00:00:00.000000000",
          "2024-08-16T00:00:00.000000000",
          "2024-08-17T00:00:00.000000000",
          "2024-08-18T00:00:00.000000000",
          "2024-08-19T00:00:00.000000000",
          "2024-08-20T00:00:00.000000000",
          "2024-08-21T00:00:00.000000000",
          "2024-08-22T00:00:00.000000000",
          "2024-08-23T00:00:00.000000000",
          "2024-08-24T00:00:00.000000000",
          "2024-08-25T00:00:00.000000000",
          "2024-08-26T00:00:00.000000000",
          "2024-08-27T00:00:00.000000000",
          "2024-08-28T00:00:00.000000000",
          "2024-08-29T00:00:00.000000000",
          "2024-08-30T00:00:00.000000000",
          "2024-08-31T00:00:00.000000000",
          "2024-09-01T00:00:00.000000000",
          "2024-09-02T00:00:00.000000000",
          "2024-09-03T00:00:00.000000000",
          "2024-09-04T00:00:00.000000000",
          "2024-09-05T00:00:00.000000000",
          "2024-09-06T00:00:00.000000000",
          "2024-09-07T00:00:00.000000000",
          "2024-09-08T00:00:00.000000000",
          "2024-09-09T00:00:00.000000000",
          "2024-09-10T00:00:00.000000000",
          "2024-09-11T00:00:00.000000000",
          "2024-09-12T00:00:00.000000000",
          "2024-09-13T00:00:00.000000000",
          "2024-09-14T00:00:00.000000000",
          "2024-09-15T00:00:00.000000000",
          "2024-09-16T00:00:00.000000000",
          "2024-09-17T00:00:00.000000000",
          "2024-09-18T00:00:00.000000000",
          "2024-09-19T00:00:00.000000000",
          "2024-09-20T00:00:00.000000000",
          "2024-09-21T00:00:00.000000000",
          "2024-09-22T00:00:00.000000000",
          "2024-09-23T00:00:00.000000000",
          "2024-09-24T00:00:00.000000000",
          "2024-09-25T00:00:00.000000000",
          "2024-09-26T00:00:00.000000000",
          "2024-09-27T00:00:00.000000000",
          "2024-09-28T00:00:00.000000000",
          "2024-09-29T00:00:00.000000000",
          "2024-09-30T00:00:00.000000000",
          "2024-10-01T00:00:00.000000000",
          "2024-10-02T00:00:00.000000000",
          "2024-10-03T00:00:00.000000000",
          "2024-10-04T00:00:00.000000000",
          "2024-10-05T00:00:00.000000000",
          "2024-10-06T00:00:00.000000000",
          "2024-10-07T00:00:00.000000000",
          "2024-10-08T00:00:00.000000000",
          "2024-10-09T00:00:00.000000000",
          "2024-10-10T00:00:00.000000000",
          "2024-10-11T00:00:00.000000000",
          "2024-10-12T00:00:00.000000000",
          "2024-10-13T00:00:00.000000000",
          "2024-10-14T00:00:00.000000000",
          "2024-10-15T00:00:00.000000000",
          "2024-10-16T00:00:00.000000000",
          "2024-10-17T00:00:00.000000000",
          "2024-10-18T00:00:00.000000000",
          "2024-10-19T00:00:00.000000000",
          "2024-10-20T00:00:00.000000000",
          "2024-10-21T00:00:00.000000000",
          "2024-10-22T00:00:00.000000000",
          "2024-10-23T00:00:00.000000000",
          "2024-10-24T00:00:00.000000000",
          "2024-10-25T00:00:00.000000000",
          "2024-10-26T00:00:00.000000000",
          "2024-10-27T00:00:00.000000000",
          "2024-10-28T00:00:00.000000000",
          "2024-10-29T00:00:00.000000000",
          "2024-10-30T00:00:00.000000000",
          "2024-10-31T00:00:00.000000000",
          "2024-11-01T00:00:00.000000000",
          "2024-11-02T00:00:00.000000000",
          "2024-11-03T00:00:00.000000000",
          "2024-11-04T00:00:00.000000000",
          "2024-11-05T00:00:00.000000000",
          "2024-11-06T00:00:00.000000000",
          "2024-11-07T00:00:00.000000000",
          "2024-11-08T00:00:00.000000000",
          "2024-11-09T00:00:00.000000000",
          "2024-11-10T00:00:00.000000000",
          "2024-11-11T00:00:00.000000000",
          "2024-11-12T00:00:00.000000000",
          "2024-11-13T00:00:00.000000000",
          "2024-11-14T00:00:00.000000000",
          "2024-11-15T00:00:00.000000000",
          "2024-11-16T00:00:00.000000000",
          "2024-11-17T00:00:00.000000000",
          "2024-11-18T00:00:00.000000000",
          "2024-11-19T00:00:00.000000000",
          "2024-11-20T00:00:00.000000000",
          "2024-11-21T00:00:00.000000000",
          "2024-11-22T00:00:00.000000000",
          "2024-11-23T00:00:00.000000000",
          "2024-11-24T00:00:00.000000000",
          "2024-11-25T00:00:00.000000000",
          "2024-11-26T00:00:00.000000000",
          "2024-11-27T00:00:00.000000000",
          "2024-11-28T00:00:00.000000000",
          "2024-11-29T00:00:00.000000000",
          "2024-11-30T00:00:00.000000000",
          "2024-12-01T00:00:00.000000000",
          "2024-12-02T00:00:00.000000000",
          "2024-12-03T00:00:00.000000000",
          "2024-12-04T00:00:00.000000000",
          "2024-12-05T00:00:00.000000000",
          "2024-12-06T00:00:00.000000000",
          "2024-12-07T00:00:00.000000000",
          "2024-12-08T00:00:00.000000000",
          "2024-12-09T00:00:00.000000000",
          "2024-12-10T00:00:00.000000000",
          "2024-12-11T00:00:00.000000000",
          "2024-12-12T00:00:00.000000000",
          "2024-12-13T00:00:00.000000000",
          "2024-12-14T00:00:00.000000000",
          "2024-12-15T00:00:00.000000000",
          "2024-12-16T00:00:00.000000000",
          "2024-12-17T00:00:00.000000000",
          "2024-12-18T00:00:00.000000000",
          "2024-12-19T00:00:00.000000000",
          "2024-12-20T00:00:00.000000000",
          "2024-12-21T00:00:00.000000000",
          "2024-12-22T00:00:00.000000000",
          "2024-12-23T00:00:00.000000000",
          "2024-12-24T00:00:00.000000000",
          "2024-12-25T00:00:00.000000000",
          "2024-12-26T00:00:00.000000000",
          "2024-12-27T00:00:00.000000000",
          "2024-12-28T00:00:00.000000000",
          "2024-12-29T00:00:00.000000000",
          "2024-12-30T00:00:00.000000000",
          "2024-12-31T00:00:00.000000000",
          "2025-01-01T00:00:00.000000000",
          "2025-01-02T00:00:00.000000000",
          "2025-01-03T00:00:00.000000000",
          "2025-01-04T00:00:00.000000000",
          "2025-01-05T00:00:00.000000000",
          "2025-01-06T00:00:00.000000000",
          "2025-01-07T00:00:00.000000000",
          "2025-01-08T00:00:00.000000000",
          "2025-01-09T00:00:00.000000000",
          "2025-01-10T00:00:00.000000000",
          "2025-01-11T00:00:00.000000000",
          "2025-01-12T00:00:00.000000000",
          "2025-01-13T00:00:00.000000000",
          "2025-01-14T00:00:00.000000000",
          "2025-01-15T00:00:00.000000000",
          "2025-01-16T00:00:00.000000000",
          "2025-01-17T00:00:00.000000000",
          "2025-01-18T00:00:00.000000000",
          "2025-01-19T00:00:00.000000000",
          "2025-01-20T00:00:00.000000000",
          "2025-01-21T00:00:00.000000000",
          "2025-01-22T00:00:00.000000000",
          "2025-01-23T00:00:00.000000000",
          "2025-01-24T00:00:00.000000000",
          "2025-01-25T00:00:00.000000000",
          "2025-01-26T00:00:00.000000000",
          "2025-01-27T00:00:00.000000000",
          "2025-01-28T00:00:00.000000000",
          "2025-01-29T00:00:00.000000000",
          "2025-01-30T00:00:00.000000000",
          "2025-01-31T00:00:00.000000000",
          "2025-02-01T00:00:00.000000000",
          "2025-02-02T00:00:00.000000000",
          "2025-02-03T00:00:00.000000000",
          "2025-02-04T00:00:00.000000000",
          "2025-02-05T00:00:00.000000000",
          "2025-02-06T00:00:00.000000000",
          "2025-02-07T00:00:00.000000000",
          "2025-02-08T00:00:00.000000000",
          "2025-02-09T00:00:00.000000000",
          "2025-02-10T00:00:00.000000000",
          "2025-02-11T00:00:00.000000000",
          "2025-02-12T00:00:00.000000000",
          "2025-02-13T00:00:00.000000000",
          "2025-02-14T00:00:00.000000000",
          "2025-02-15T00:00:00.000000000",
          "2025-02-16T00:00:00.000000000",
          "2025-02-17T00:00:00.000000000",
          "2025-02-18T00:00:00.000000000",
          "2025-02-19T00:00:00.000000000",
          "2025-02-20T00:00:00.000000000",
          "2025-02-21T00:00:00.000000000",
          "2025-02-22T00:00:00.000000000",
          "2025-02-23T00:00:00.000000000",
          "2025-02-24T00:00:00.000000000",
          "2025-02-25T00:00:00.000000000",
          "2025-02-26T00:00:00.000000000",
          "2025-02-27T00:00:00.000000000",
          "2025-02-28T00:00:00.000000000",
          "2025-03-01T00:00:00.000000000",
          "2025-03-02T00:00:00.000000000",
          "2025-03-03T00:00:00.000000000",
          "2025-03-04T00:00:00.000000000",
          "2025-03-05T00:00:00.000000000",
          "2025-03-06T00:00:00.000000000",
          "2025-03-07T00:00:00.000000000",
          "2025-03-08T00:00:00.000000000",
          "2025-03-09T00:00:00.000000000",
          "2025-03-10T00:00:00.000000000",
          "2025-03-11T00:00:00.000000000",
          "2025-03-12T00:00:00.000000000",
          "2025-03-13T00:00:00.000000000",
          "2025-03-14T00:00:00.000000000",
          "2025-03-15T00:00:00.000000000",
          "2025-03-16T00:00:00.000000000",
          "2025-03-17T00:00:00.000000000",
          "2025-03-18T00:00:00.000000000",
          "2025-03-19T00:00:00.000000000",
          "2025-03-20T00:00:00.000000000",
          "2025-03-21T00:00:00.000000000",
          "2025-03-22T00:00:00.000000000",
          "2025-03-23T00:00:00.000000000",
          "2025-03-24T00:00:00.000000000",
          "2025-03-25T00:00:00.000000000",
          "2025-03-26T00:00:00.000000000",
          "2025-03-27T00:00:00.000000000",
          "2025-03-28T00:00:00.000000000",
          "2025-03-29T00:00:00.000000000",
          "2025-03-30T00:00:00.000000000",
          "2025-03-31T00:00:00.000000000",
          "2025-04-01T00:00:00.000000000",
          "2025-04-02T00:00:00.000000000",
          "2025-04-03T00:00:00.000000000",
          "2025-04-04T00:00:00.000000000",
          "2025-04-05T00:00:00.000000000",
          "2025-04-06T00:00:00.000000000",
          "2025-04-07T00:00:00.000000000",
          "2025-04-08T00:00:00.000000000",
          "2025-04-09T00:00:00.000000000",
          "2025-04-10T00:00:00.000000000",
          "2025-04-11T00:00:00.000000000",
          "2025-04-12T00:00:00.000000000",
          "2025-04-13T00:00:00.000000000",
          "2025-04-14T00:00:00.000000000",
          "2025-04-15T00:00:00.000000000",
          "2025-04-16T00:00:00.000000000",
          "2025-04-17T00:00:00.000000000",
          "2025-04-18T00:00:00.000000000",
          "2025-04-19T00:00:00.000000000",
          "2025-04-20T00:00:00.000000000",
          "2025-04-21T00:00:00.000000000",
          "2025-04-22T00:00:00.000000000",
          "2025-04-23T00:00:00.000000000",
          "2025-04-24T00:00:00.000000000",
          "2025-04-25T00:00:00.000000000",
          "2025-04-26T00:00:00.000000000",
          "2025-04-27T00:00:00.000000000",
          "2025-04-28T00:00:00.000000000",
          "2025-04-29T00:00:00.000000000",
          "2025-04-30T00:00:00.000000000",
          "2025-05-01T00:00:00.000000000",
          "2025-05-02T00:00:00.000000000",
          "2025-05-03T00:00:00.000000000",
          "2025-05-04T00:00:00.000000000",
          "2025-05-05T00:00:00.000000000",
          "2025-05-06T00:00:00.000000000",
          "2025-05-07T00:00:00.000000000",
          "2025-05-08T00:00:00.000000000",
          "2025-05-09T00:00:00.000000000",
          "2025-05-10T00:00:00.000000000",
          "2025-05-11T00:00:00.000000000",
          "2025-05-12T00:00:00.000000000",
          "2025-05-13T00:00:00.000000000",
          "2025-05-14T00:00:00.000000000",
          "2025-05-15T00:00:00.000000000",
          "2025-05-16T00:00:00.000000000",
          "2025-05-17T00:00:00.000000000",
          "2025-05-18T00:00:00.000000000",
          "2025-05-19T00:00:00.000000000",
          "2025-05-20T00:00:00.000000000",
          "2025-05-21T00:00:00.000000000",
          "2025-05-22T00:00:00.000000000",
          "2025-05-23T00:00:00.000000000",
          "2025-05-24T00:00:00.000000000",
          "2025-05-25T00:00:00.000000000",
          "2025-05-26T00:00:00.000000000",
          "2025-05-27T00:00:00.000000000",
          "2025-05-28T00:00:00.000000000",
          "2025-05-29T00:00:00.000000000",
          "2025-05-30T00:00:00.000000000",
          "2025-05-31T00:00:00.000000000",
          "2025-06-01T00:00:00.000000000",
          "2025-06-02T00:00:00.000000000",
          "2025-06-03T00:00:00.000000000",
          "2025-06-04T00:00:00.000000000",
          "2025-06-05T00:00:00.000000000",
          "2025-06-06T00:00:00.000000000",
          "2025-06-07T00:00:00.000000000",
          "2025-06-08T00:00:00.000000000",
          "2025-06-09T00:00:00.000000000",
          "2025-06-10T00:00:00.000000000",
          "2025-06-11T00:00:00.000000000",
          "2025-06-12T00:00:00.000000000",
          "2025-06-13T00:00:00.000000000",
          "2025-06-14T00:00:00.000000000",
          "2025-06-15T00:00:00.000000000",
          "2025-06-16T00:00:00.000000000",
          "2025-06-17T00:00:00.000000000",
          "2025-06-18T00:00:00.000000000",
          "2025-06-19T00:00:00.000000000",
          "2025-06-20T00:00:00.000000000",
          "2025-06-21T00:00:00.000000000",
          "2025-06-22T00:00:00.000000000",
          "2025-06-23T00:00:00.000000000",
          "2025-06-24T00:00:00.000000000",
          "2025-06-25T00:00:00.000000000",
          "2025-06-26T00:00:00.000000000",
          "2025-06-27T00:00:00.000000000",
          "2025-06-28T00:00:00.000000000",
          "2025-06-29T00:00:00.000000000",
          "2025-06-30T00:00:00.000000000",
          "2025-07-01T00:00:00.000000000",
          "2025-07-02T00:00:00.000000000",
          "2025-07-03T00:00:00.000000000",
          "2025-07-04T00:00:00.000000000",
          "2025-07-05T00:00:00.000000000",
          "2025-07-06T00:00:00.000000000",
          "2025-07-07T00:00:00.000000000",
          "2025-07-08T00:00:00.000000000",
          "2025-07-09T00:00:00.000000000",
          "2025-07-10T00:00:00.000000000",
          "2025-07-11T00:00:00.000000000",
          "2025-07-12T00:00:00.000000000",
          "2025-07-13T00:00:00.000000000",
          "2025-07-14T00:00:00.000000000",
          "2025-07-15T00:00:00.000000000",
          "2025-07-16T00:00:00.000000000",
          "2025-07-17T00:00:00.000000000",
          "2025-07-18T00:00:00.000000000",
          "2025-07-19T00:00:00.000000000",
          "2025-07-20T00:00:00.000000000",
          "2025-07-21T00:00:00.000000000",
          "2025-07-22T00:00:00.000000000",
          "2025-07-23T00:00:00.000000000",
          "2025-07-24T00:00:00.000000000",
          "2025-07-25T00:00:00.000000000",
          "2025-07-26T00:00:00.000000000",
          "2025-07-27T00:00:00.000000000",
          "2025-07-28T00:00:00.000000000",
          "2025-07-29T00:00:00.000000000",
          "2025-07-30T00:00:00.000000000",
          "2025-07-31T00:00:00.000000000"
         ],
         "xaxis": "x",
         "y": {
          "bdata": "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",
          "dtype": "f8"
         },
         "yaxis": "y"
        },
        {
         "hovertemplate": "variable=rolling_avg_ppc_60<br>date=%{x}<br>value=%{y}<extra></extra>",
         "legendgroup": "rolling_avg_ppc_60",
         "line": {
          "color": "#ab63fa",
          "dash": "solid"
         },
         "marker": {
          "symbol": "circle"
         },
         "mode": "lines",
         "name": "rolling_avg_ppc_60",
         "showlegend": true,
         "type": "scattergl",
         "x": [
          "2024-08-01T00:00:00.000000000",
          "2024-08-02T00:00:00.000000000",
          "2024-08-03T00:00:00.000000000",
          "2024-08-04T00:00:00.000000000",
          "2024-08-05T00:00:00.000000000",
          "2024-08-06T00:00:00.000000000",
          "2024-08-07T00:00:00.000000000",
          "2024-08-08T00:00:00.000000000",
          "2024-08-09T00:00:00.000000000",
          "2024-08-10T00:00:00.000000000",
          "2024-08-11T00:00:00.000000000",
          "2024-08-12T00:00:00.000000000",
          "2024-08-13T00:00:00.000000000",
          "2024-08-14T00:00:00.000000000",
          "2024-08-15T00:00:00.000000000",
          "2024-08-16T00:00:00.000000000",
          "2024-08-17T00:00:00.000000000",
          "2024-08-18T00:00:00.000000000",
          "2024-08-19T00:00:00.000000000",
          "2024-08-20T00:00:00.000000000",
          "2024-08-21T00:00:00.000000000",
          "2024-08-22T00:00:00.000000000",
          "2024-08-23T00:00:00.000000000",
          "2024-08-24T00:00:00.000000000",
          "2024-08-25T00:00:00.000000000",
          "2024-08-26T00:00:00.000000000",
          "2024-08-27T00:00:00.000000000",
          "2024-08-28T00:00:00.000000000",
          "2024-08-29T00:00:00.000000000",
          "2024-08-30T00:00:00.000000000",
          "2024-08-31T00:00:00.000000000",
          "2024-09-01T00:00:00.000000000",
          "2024-09-02T00:00:00.000000000",
          "2024-09-03T00:00:00.000000000",
          "2024-09-04T00:00:00.000000000",
          "2024-09-05T00:00:00.000000000",
          "2024-09-06T00:00:00.000000000",
          "2024-09-07T00:00:00.000000000",
          "2024-09-08T00:00:00.000000000",
          "2024-09-09T00:00:00.000000000",
          "2024-09-10T00:00:00.000000000",
          "2024-09-11T00:00:00.000000000",
          "2024-09-12T00:00:00.000000000",
          "2024-09-13T00:00:00.000000000",
          "2024-09-14T00:00:00.000000000",
          "2024-09-15T00:00:00.000000000",
          "2024-09-16T00:00:00.000000000",
          "2024-09-17T00:00:00.000000000",
          "2024-09-18T00:00:00.000000000",
          "2024-09-19T00:00:00.000000000",
          "2024-09-20T00:00:00.000000000",
          "2024-09-21T00:00:00.000000000",
          "2024-09-22T00:00:00.000000000",
          "2024-09-23T00:00:00.000000000",
          "2024-09-24T00:00:00.000000000",
          "2024-09-25T00:00:00.000000000",
          "2024-09-26T00:00:00.000000000",
          "2024-09-27T00:00:00.000000000",
          "2024-09-28T00:00:00.000000000",
          "2024-09-29T00:00:00.000000000",
          "2024-09-30T00:00:00.000000000",
          "2024-10-01T00:00:00.000000000",
          "2024-10-02T00:00:00.000000000",
          "2024-10-03T00:00:00.000000000",
          "2024-10-04T00:00:00.000000000",
          "2024-10-05T00:00:00.000000000",
          "2024-10-06T00:00:00.000000000",
          "2024-10-07T00:00:00.000000000",
          "2024-10-08T00:00:00.000000000",
          "2024-10-09T00:00:00.000000000",
          "2024-10-10T00:00:00.000000000",
          "2024-10-11T00:00:00.000000000",
          "2024-10-12T00:00:00.000000000",
          "2024-10-13T00:00:00.000000000",
          "2024-10-14T00:00:00.000000000",
          "2024-10-15T00:00:00.000000000",
          "2024-10-16T00:00:00.000000000",
          "2024-10-17T00:00:00.000000000",
          "2024-10-18T00:00:00.000000000",
          "2024-10-19T00:00:00.000000000",
          "2024-10-20T00:00:00.000000000",
          "2024-10-21T00:00:00.000000000",
          "2024-10-22T00:00:00.000000000",
          "2024-10-23T00:00:00.000000000",
          "2024-10-24T00:00:00.000000000",
          "2024-10-25T00:00:00.000000000",
          "2024-10-26T00:00:00.000000000",
          "2024-10-27T00:00:00.000000000",
          "2024-10-28T00:00:00.000000000",
          "2024-10-29T00:00:00.000000000",
          "2024-10-30T00:00:00.000000000",
          "2024-10-31T00:00:00.000000000",
          "2024-11-01T00:00:00.000000000",
          "2024-11-02T00:00:00.000000000",
          "2024-11-03T00:00:00.000000000",
          "2024-11-04T00:00:00.000000000",
          "2024-11-05T00:00:00.000000000",
          "2024-11-06T00:00:00.000000000",
          "2024-11-07T00:00:00.000000000",
          "2024-11-08T00:00:00.000000000",
          "2024-11-09T00:00:00.000000000",
          "2024-11-10T00:00:00.000000000",
          "2024-11-11T00:00:00.000000000",
          "2024-11-12T00:00:00.000000000",
          "2024-11-13T00:00:00.000000000",
          "2024-11-14T00:00:00.000000000",
          "2024-11-15T00:00:00.000000000",
          "2024-11-16T00:00:00.000000000",
          "2024-11-17T00:00:00.000000000",
          "2024-11-18T00:00:00.000000000",
          "2024-11-19T00:00:00.000000000",
          "2024-11-20T00:00:00.000000000",
          "2024-11-21T00:00:00.000000000",
          "2024-11-22T00:00:00.000000000",
          "2024-11-23T00:00:00.000000000",
          "2024-11-24T00:00:00.000000000",
          "2024-11-25T00:00:00.000000000",
          "2024-11-26T00:00:00.000000000",
          "2024-11-27T00:00:00.000000000",
          "2024-11-28T00:00:00.000000000",
          "2024-11-29T00:00:00.000000000",
          "2024-11-30T00:00:00.000000000",
          "2024-12-01T00:00:00.000000000",
          "2024-12-02T00:00:00.000000000",
          "2024-12-03T00:00:00.000000000",
          "2024-12-04T00:00:00.000000000",
          "2024-12-05T00:00:00.000000000",
          "2024-12-06T00:00:00.000000000",
          "2024-12-07T00:00:00.000000000",
          "2024-12-08T00:00:00.000000000",
          "2024-12-09T00:00:00.000000000",
          "2024-12-10T00:00:00.000000000",
          "2024-12-11T00:00:00.000000000",
          "2024-12-12T00:00:00.000000000",
          "2024-12-13T00:00:00.000000000",
          "2024-12-14T00:00:00.000000000",
          "2024-12-15T00:00:00.000000000",
          "2024-12-16T00:00:00.000000000",
          "2024-12-17T00:00:00.000000000",
          "2024-12-18T00:00:00.000000000",
          "2024-12-19T00:00:00.000000000",
          "2024-12-20T00:00:00.000000000",
          "2024-12-21T00:00:00.000000000",
          "2024-12-22T00:00:00.000000000",
          "2024-12-23T00:00:00.000000000",
          "2024-12-24T00:00:00.000000000",
          "2024-12-25T00:00:00.000000000",
          "2024-12-26T00:00:00.000000000",
          "2024-12-27T00:00:00.000000000",
          "2024-12-28T00:00:00.000000000",
          "2024-12-29T00:00:00.000000000",
          "2024-12-30T00:00:00.000000000",
          "2024-12-31T00:00:00.000000000",
          "2025-01-01T00:00:00.000000000",
          "2025-01-02T00:00:00.000000000",
          "2025-01-03T00:00:00.000000000",
          "2025-01-04T00:00:00.000000000",
          "2025-01-05T00:00:00.000000000",
          "2025-01-06T00:00:00.000000000",
          "2025-01-07T00:00:00.000000000",
          "2025-01-08T00:00:00.000000000",
          "2025-01-09T00:00:00.000000000",
          "2025-01-10T00:00:00.000000000",
          "2025-01-11T00:00:00.000000000",
          "2025-01-12T00:00:00.000000000",
          "2025-01-13T00:00:00.000000000",
          "2025-01-14T00:00:00.000000000",
          "2025-01-15T00:00:00.000000000",
          "2025-01-16T00:00:00.000000000",
          "2025-01-17T00:00:00.000000000",
          "2025-01-18T00:00:00.000000000",
          "2025-01-19T00:00:00.000000000",
          "2025-01-20T00:00:00.000000000",
          "2025-01-21T00:00:00.000000000",
          "2025-01-22T00:00:00.000000000",
          "2025-01-23T00:00:00.000000000",
          "2025-01-24T00:00:00.000000000",
          "2025-01-25T00:00:00.000000000",
          "2025-01-26T00:00:00.000000000",
          "2025-01-27T00:00:00.000000000",
          "2025-01-28T00:00:00.000000000",
          "2025-01-29T00:00:00.000000000",
          "2025-01-30T00:00:00.000000000",
          "2025-01-31T00:00:00.000000000",
          "2025-02-01T00:00:00.000000000",
          "2025-02-02T00:00:00.000000000",
          "2025-02-03T00:00:00.000000000",
          "2025-02-04T00:00:00.000000000",
          "2025-02-05T00:00:00.000000000",
          "2025-02-06T00:00:00.000000000",
          "2025-02-07T00:00:00.000000000",
          "2025-02-08T00:00:00.000000000",
          "2025-02-09T00:00:00.000000000",
          "2025-02-10T00:00:00.000000000",
          "2025-02-11T00:00:00.000000000",
          "2025-02-12T00:00:00.000000000",
          "2025-02-13T00:00:00.000000000",
          "2025-02-14T00:00:00.000000000",
          "2025-02-15T00:00:00.000000000",
          "2025-02-16T00:00:00.000000000",
          "2025-02-17T00:00:00.000000000",
          "2025-02-18T00:00:00.000000000",
          "2025-02-19T00:00:00.000000000",
          "2025-02-20T00:00:00.000000000",
          "2025-02-21T00:00:00.000000000",
          "2025-02-22T00:00:00.000000000",
          "2025-02-23T00:00:00.000000000",
          "2025-02-24T00:00:00.000000000",
          "2025-02-25T00:00:00.000000000",
          "2025-02-26T00:00:00.000000000",
          "2025-02-27T00:00:00.000000000",
          "2025-02-28T00:00:00.000000000",
          "2025-03-01T00:00:00.000000000",
          "2025-03-02T00:00:00.000000000",
          "2025-03-03T00:00:00.000000000",
          "2025-03-04T00:00:00.000000000",
          "2025-03-05T00:00:00.000000000",
          "2025-03-06T00:00:00.000000000",
          "2025-03-07T00:00:00.000000000",
          "2025-03-08T00:00:00.000000000",
          "2025-03-09T00:00:00.000000000",
          "2025-03-10T00:00:00.000000000",
          "2025-03-11T00:00:00.000000000",
          "2025-03-12T00:00:00.000000000",
          "2025-03-13T00:00:00.000000000",
          "2025-03-14T00:00:00.000000000",
          "2025-03-15T00:00:00.000000000",
          "2025-03-16T00:00:00.000000000",
          "2025-03-17T00:00:00.000000000",
          "2025-03-18T00:00:00.000000000",
          "2025-03-19T00:00:00.000000000",
          "2025-03-20T00:00:00.000000000",
          "2025-03-21T00:00:00.000000000",
          "2025-03-22T00:00:00.000000000",
          "2025-03-23T00:00:00.000000000",
          "2025-03-24T00:00:00.000000000",
          "2025-03-25T00:00:00.000000000",
          "2025-03-26T00:00:00.000000000",
          "2025-03-27T00:00:00.000000000",
          "2025-03-28T00:00:00.000000000",
          "2025-03-29T00:00:00.000000000",
          "2025-03-30T00:00:00.000000000",
          "2025-03-31T00:00:00.000000000",
          "2025-04-01T00:00:00.000000000",
          "2025-04-02T00:00:00.000000000",
          "2025-04-03T00:00:00.000000000",
          "2025-04-04T00:00:00.000000000",
          "2025-04-05T00:00:00.000000000",
          "2025-04-06T00:00:00.000000000",
          "2025-04-07T00:00:00.000000000",
          "2025-04-08T00:00:00.000000000",
          "2025-04-09T00:00:00.000000000",
          "2025-04-10T00:00:00.000000000",
          "2025-04-11T00:00:00.000000000",
          "2025-04-12T00:00:00.000000000",
          "2025-04-13T00:00:00.000000000",
          "2025-04-14T00:00:00.000000000",
          "2025-04-15T00:00:00.000000000",
          "2025-04-16T00:00:00.000000000",
          "2025-04-17T00:00:00.000000000",
          "2025-04-18T00:00:00.000000000",
          "2025-04-19T00:00:00.000000000",
          "2025-04-20T00:00:00.000000000",
          "2025-04-21T00:00:00.000000000",
          "2025-04-22T00:00:00.000000000",
          "2025-04-23T00:00:00.000000000",
          "2025-04-24T00:00:00.000000000",
          "2025-04-25T00:00:00.000000000",
          "2025-04-26T00:00:00.000000000",
          "2025-04-27T00:00:00.000000000",
          "2025-04-28T00:00:00.000000000",
          "2025-04-29T00:00:00.000000000",
          "2025-04-30T00:00:00.000000000",
          "2025-05-01T00:00:00.000000000",
          "2025-05-02T00:00:00.000000000",
          "2025-05-03T00:00:00.000000000",
          "2025-05-04T00:00:00.000000000",
          "2025-05-05T00:00:00.000000000",
          "2025-05-06T00:00:00.000000000",
          "2025-05-07T00:00:00.000000000",
          "2025-05-08T00:00:00.000000000",
          "2025-05-09T00:00:00.000000000",
          "2025-05-10T00:00:00.000000000",
          "2025-05-11T00:00:00.000000000",
          "2025-05-12T00:00:00.000000000",
          "2025-05-13T00:00:00.000000000",
          "2025-05-14T00:00:00.000000000",
          "2025-05-15T00:00:00.000000000",
          "2025-05-16T00:00:00.000000000",
          "2025-05-17T00:00:00.000000000",
          "2025-05-18T00:00:00.000000000",
          "2025-05-19T00:00:00.000000000",
          "2025-05-20T00:00:00.000000000",
          "2025-05-21T00:00:00.000000000",
          "2025-05-22T00:00:00.000000000",
          "2025-05-23T00:00:00.000000000",
          "2025-05-24T00:00:00.000000000",
          "2025-05-25T00:00:00.000000000",
          "2025-05-26T00:00:00.000000000",
          "2025-05-27T00:00:00.000000000",
          "2025-05-28T00:00:00.000000000",
          "2025-05-29T00:00:00.000000000",
          "2025-05-30T00:00:00.000000000",
          "2025-05-31T00:00:00.000000000",
          "2025-06-01T00:00:00.000000000",
          "2025-06-02T00:00:00.000000000",
          "2025-06-03T00:00:00.000000000",
          "2025-06-04T00:00:00.000000000",
          "2025-06-05T00:00:00.000000000",
          "2025-06-06T00:00:00.000000000",
          "2025-06-07T00:00:00.000000000",
          "2025-06-08T00:00:00.000000000",
          "2025-06-09T00:00:00.000000000",
          "2025-06-10T00:00:00.000000000",
          "2025-06-11T00:00:00.000000000",
          "2025-06-12T00:00:00.000000000",
          "2025-06-13T00:00:00.000000000",
          "2025-06-14T00:00:00.000000000",
          "2025-06-15T00:00:00.000000000",
          "2025-06-16T00:00:00.000000000",
          "2025-06-17T00:00:00.000000000",
          "2025-06-18T00:00:00.000000000",
          "2025-06-19T00:00:00.000000000",
          "2025-06-20T00:00:00.000000000",
          "2025-06-21T00:00:00.000000000",
          "2025-06-22T00:00:00.000000000",
          "2025-06-23T00:00:00.000000000",
          "2025-06-24T00:00:00.000000000",
          "2025-06-25T00:00:00.000000000",
          "2025-06-26T00:00:00.000000000",
          "2025-06-27T00:00:00.000000000",
          "2025-06-28T00:00:00.000000000",
          "2025-06-29T00:00:00.000000000",
          "2025-06-30T00:00:00.000000000",
          "2025-07-01T00:00:00.000000000",
          "2025-07-02T00:00:00.000000000",
          "2025-07-03T00:00:00.000000000",
          "2025-07-04T00:00:00.000000000",
          "2025-07-05T00:00:00.000000000",
          "2025-07-06T00:00:00.000000000",
          "2025-07-07T00:00:00.000000000",
          "2025-07-08T00:00:00.000000000",
          "2025-07-09T00:00:00.000000000",
          "2025-07-10T00:00:00.000000000",
          "2025-07-11T00:00:00.000000000",
          "2025-07-12T00:00:00.000000000",
          "2025-07-13T00:00:00.000000000",
          "2025-07-14T00:00:00.000000000",
          "2025-07-15T00:00:00.000000000",
          "2025-07-16T00:00:00.000000000",
          "2025-07-17T00:00:00.000000000",
          "2025-07-18T00:00:00.000000000",
          "2025-07-19T00:00:00.000000000",
          "2025-07-20T00:00:00.000000000",
          "2025-07-21T00:00:00.000000000",
          "2025-07-22T00:00:00.000000000",
          "2025-07-23T00:00:00.000000000",
          "2025-07-24T00:00:00.000000000",
          "2025-07-25T00:00:00.000000000",
          "2025-07-26T00:00:00.000000000",
          "2025-07-27T00:00:00.000000000",
          "2025-07-28T00:00:00.000000000",
          "2025-07-29T00:00:00.000000000",
          "2025-07-30T00:00:00.000000000",
          "2025-07-31T00:00:00.000000000"
         ],
         "xaxis": "x",
         "y": {
          "bdata": "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",
          "dtype": "f8"
         },
         "yaxis": "y"
        }
       ],
       "layout": {
        "legend": {
         "title": {
          "text": "variable"
         },
         "tracegroupgap": 0
        },
        "template": {
         "data": {
          "bar": [
           {
            "error_x": {
             "color": "#2a3f5f"
            },
            "error_y": {
             "color": "#2a3f5f"
            },
            "marker": {
             "line": {
              "color": "#E5ECF6",
              "width": 0.5
             },
             "pattern": {
              "fillmode": "overlay",
              "size": 10,
              "solidity": 0.2
             }
            },
            "type": "bar"
           }
          ],
          "barpolar": [
           {
            "marker": {
             "line": {
              "color": "#E5ECF6",
              "width": 0.5
             },
             "pattern": {
              "fillmode": "overlay",
              "size": 10,
              "solidity": 0.2
             }
            },
            "type": "barpolar"
           }
          ],
          "carpet": [
           {
            "aaxis": {
             "endlinecolor": "#2a3f5f",
             "gridcolor": "white",
             "linecolor": "white",
             "minorgridcolor": "white",
             "startlinecolor": "#2a3f5f"
            },
            "baxis": {
             "endlinecolor": "#2a3f5f",
             "gridcolor": "white",
             "linecolor": "white",
             "minorgridcolor": "white",
             "startlinecolor": "#2a3f5f"
            },
            "type": "carpet"
           }
          ],
          "choropleth": [
           {
            "colorbar": {
             "outlinewidth": 0,
             "ticks": ""
            },
            "type": "choropleth"
           }
          ],
          "contour": [
           {
            "colorbar": {
             "outlinewidth": 0,
             "ticks": ""
            },
            "colorscale": [
             [
              0,
              "#0d0887"
             ],
             [
              0.1111111111111111,
              "#46039f"
             ],
             [
              0.2222222222222222,
              "#7201a8"
             ],
             [
              0.3333333333333333,
              "#9c179e"
             ],
             [
              0.4444444444444444,
              "#bd3786"
             ],
             [
              0.5555555555555556,
              "#d8576b"
             ],
             [
              0.6666666666666666,
              "#ed7953"
             ],
             [
              0.7777777777777778,
              "#fb9f3a"
             ],
             [
              0.8888888888888888,
              "#fdca26"
             ],
             [
              1,
              "#f0f921"
             ]
            ],
            "type": "contour"
           }
          ],
          "contourcarpet": [
           {
            "colorbar": {
             "outlinewidth": 0,
             "ticks": ""
            },
            "type": "contourcarpet"
           }
          ],
          "heatmap": [
           {
            "colorbar": {
             "outlinewidth": 0,
             "ticks": ""
            },
            "colorscale": [
             [
              0,
              "#0d0887"
             ],
             [
              0.1111111111111111,
              "#46039f"
             ],
             [
              0.2222222222222222,
              "#7201a8"
             ],
             [
              0.3333333333333333,
              "#9c179e"
             ],
             [
              0.4444444444444444,
              "#bd3786"
             ],
             [
              0.5555555555555556,
              "#d8576b"
             ],
             [
              0.6666666666666666,
              "#ed7953"
             ],
             [
              0.7777777777777778,
              "#fb9f3a"
             ],
             [
              0.8888888888888888,
              "#fdca26"
             ],
             [
              1,
              "#f0f921"
             ]
            ],
            "type": "heatmap"
           }
          ],
          "histogram": [
           {
            "marker": {
             "pattern": {
              "fillmode": "overlay",
              "size": 10,
              "solidity": 0.2
             }
            },
            "type": "histogram"
           }
          ],
          "histogram2d": [
           {
            "colorbar": {
             "outlinewidth": 0,
             "ticks": ""
            },
            "colorscale": [
             [
              0,
              "#0d0887"
             ],
             [
              0.1111111111111111,
              "#46039f"
             ],
             [
              0.2222222222222222,
              "#7201a8"
             ],
             [
              0.3333333333333333,
              "#9c179e"
             ],
             [
              0.4444444444444444,
              "#bd3786"
             ],
             [
              0.5555555555555556,
              "#d8576b"
             ],
             [
              0.6666666666666666,
              "#ed7953"
             ],
             [
              0.7777777777777778,
              "#fb9f3a"
             ],
             [
              0.8888888888888888,
              "#fdca26"
             ],
             [
              1,
              "#f0f921"
             ]
            ],
            "type": "histogram2d"
           }
          ],
          "histogram2dcontour": [
           {
            "colorbar": {
             "outlinewidth": 0,
             "ticks": ""
            },
            "colorscale": [
             [
              0,
              "#0d0887"
             ],
             [
              0.1111111111111111,
              "#46039f"
             ],
             [
              0.2222222222222222,
              "#7201a8"
             ],
             [
              0.3333333333333333,
              "#9c179e"
             ],
             [
              0.4444444444444444,
              "#bd3786"
             ],
             [
              0.5555555555555556,
              "#d8576b"
             ],
             [
              0.6666666666666666,
              "#ed7953"
             ],
             [
              0.7777777777777778,
              "#fb9f3a"
             ],
             [
              0.8888888888888888,
              "#fdca26"
             ],
             [
              1,
              "#f0f921"
             ]
            ],
            "type": "histogram2dcontour"
           }
          ],
          "mesh3d": [
           {
            "colorbar": {
             "outlinewidth": 0,
             "ticks": ""
            },
            "type": "mesh3d"
           }
          ],
          "parcoords": [
           {
            "line": {
             "colorbar": {
              "outlinewidth": 0,
              "ticks": ""
             }
            },
            "type": "parcoords"
           }
          ],
          "pie": [
           {
            "automargin": true,
            "type": "pie"
           }
          ],
          "scatter": [
           {
            "fillpattern": {
             "fillmode": "overlay",
             "size": 10,
             "solidity": 0.2
            },
            "type": "scatter"
           }
          ],
          "scatter3d": [
           {
            "line": {
             "colorbar": {
              "outlinewidth": 0,
              "ticks": ""
             }
            },
            "marker": {
             "colorbar": {
              "outlinewidth": 0,
              "ticks": ""
             }
            },
            "type": "scatter3d"
           }
          ],
          "scattercarpet": [
           {
            "marker": {
             "colorbar": {
              "outlinewidth": 0,
              "ticks": ""
             }
            },
            "type": "scattercarpet"
           }
          ],
          "scattergeo": [
           {
            "marker": {
             "colorbar": {
              "outlinewidth": 0,
              "ticks": ""
             }
            },
            "type": "scattergeo"
           }
          ],
          "scattergl": [
           {
            "marker": {
             "colorbar": {
              "outlinewidth": 0,
              "ticks": ""
             }
            },
            "type": "scattergl"
           }
          ],
          "scattermap": [
           {
            "marker": {
             "colorbar": {
              "outlinewidth": 0,
              "ticks": ""
             }
            },
            "type": "scattermap"
           }
          ],
          "scattermapbox": [
           {
            "marker": {
             "colorbar": {
              "outlinewidth": 0,
              "ticks": ""
             }
            },
            "type": "scattermapbox"
           }
          ],
          "scatterpolar": [
           {
            "marker": {
             "colorbar": {
              "outlinewidth": 0,
              "ticks": ""
             }
            },
            "type": "scatterpolar"
           }
          ],
          "scatterpolargl": [
           {
            "marker": {
             "colorbar": {
              "outlinewidth": 0,
              "ticks": ""
             }
            },
            "type": "scatterpolargl"
           }
          ],
          "scatterternary": [
           {
            "marker": {
             "colorbar": {
              "outlinewidth": 0,
              "ticks": ""
             }
            },
            "type": "scatterternary"
           }
          ],
          "surface": [
           {
            "colorbar": {
             "outlinewidth": 0,
             "ticks": ""
            },
            "colorscale": [
             [
              0,
              "#0d0887"
             ],
             [
              0.1111111111111111,
              "#46039f"
             ],
             [
              0.2222222222222222,
              "#7201a8"
             ],
             [
              0.3333333333333333,
              "#9c179e"
             ],
             [
              0.4444444444444444,
              "#bd3786"
             ],
             [
              0.5555555555555556,
              "#d8576b"
             ],
             [
              0.6666666666666666,
              "#ed7953"
             ],
             [
              0.7777777777777778,
              "#fb9f3a"
             ],
             [
              0.8888888888888888,
              "#fdca26"
             ],
             [
              1,
              "#f0f921"
             ]
            ],
            "type": "surface"
           }
          ],
          "table": [
           {
            "cells": {
             "fill": {
              "color": "#EBF0F8"
             },
             "line": {
              "color": "white"
             }
            },
            "header": {
             "fill": {
              "color": "#C8D4E3"
             },
             "line": {
              "color": "white"
             }
            },
            "type": "table"
           }
          ]
         },
         "layout": {
          "annotationdefaults": {
           "arrowcolor": "#2a3f5f",
           "arrowhead": 0,
           "arrowwidth": 1
          },
          "autotypenumbers": "strict",
          "coloraxis": {
           "colorbar": {
            "outlinewidth": 0,
            "ticks": ""
           }
          },
          "colorscale": {
           "diverging": [
            [
             0,
             "#8e0152"
            ],
            [
             0.1,
             "#c51b7d"
            ],
            [
             0.2,
             "#de77ae"
            ],
            [
             0.3,
             "#f1b6da"
            ],
            [
             0.4,
             "#fde0ef"
            ],
            [
             0.5,
             "#f7f7f7"
            ],
            [
             0.6,
             "#e6f5d0"
            ],
            [
             0.7,
             "#b8e186"
            ],
            [
             0.8,
             "#7fbc41"
            ],
            [
             0.9,
             "#4d9221"
            ],
            [
             1,
             "#276419"
            ]
           ],
           "sequential": [
            [
             0,
             "#0d0887"
            ],
            [
             0.1111111111111111,
             "#46039f"
            ],
            [
             0.2222222222222222,
             "#7201a8"
            ],
            [
             0.3333333333333333,
             "#9c179e"
            ],
            [
             0.4444444444444444,
             "#bd3786"
            ],
            [
             0.5555555555555556,
             "#d8576b"
            ],
            [
             0.6666666666666666,
             "#ed7953"
            ],
            [
             0.7777777777777778,
             "#fb9f3a"
            ],
            [
             0.8888888888888888,
             "#fdca26"
            ],
            [
             1,
             "#f0f921"
            ]
           ],
           "sequentialminus": [
            [
             0,
             "#0d0887"
            ],
            [
             0.1111111111111111,
             "#46039f"
            ],
            [
             0.2222222222222222,
             "#7201a8"
            ],
            [
             0.3333333333333333,
             "#9c179e"
            ],
            [
             0.4444444444444444,
             "#bd3786"
            ],
            [
             0.5555555555555556,
             "#d8576b"
            ],
            [
             0.6666666666666666,
             "#ed7953"
            ],
            [
             0.7777777777777778,
             "#fb9f3a"
            ],
            [
             0.8888888888888888,
             "#fdca26"
            ],
            [
             1,
             "#f0f921"
            ]
           ]
          },
          "colorway": [
           "#636efa",
           "#EF553B",
           "#00cc96",
           "#ab63fa",
           "#FFA15A",
           "#19d3f3",
           "#FF6692",
           "#B6E880",
           "#FF97FF",
           "#FECB52"
          ],
          "font": {
           "color": "#2a3f5f"
          },
          "geo": {
           "bgcolor": "white",
           "lakecolor": "white",
           "landcolor": "#E5ECF6",
           "showlakes": true,
           "showland": true,
           "subunitcolor": "white"
          },
          "hoverlabel": {
           "align": "left"
          },
          "hovermode": "closest",
          "mapbox": {
           "style": "light"
          },
          "paper_bgcolor": "white",
          "plot_bgcolor": "#E5ECF6",
          "polar": {
           "angularaxis": {
            "gridcolor": "white",
            "linecolor": "white",
            "ticks": ""
           },
           "bgcolor": "#E5ECF6",
           "radialaxis": {
            "gridcolor": "white",
            "linecolor": "white",
            "ticks": ""
           }
          },
          "scene": {
           "xaxis": {
            "backgroundcolor": "#E5ECF6",
            "gridcolor": "white",
            "gridwidth": 2,
            "linecolor": "white",
            "showbackground": true,
            "ticks": "",
            "zerolinecolor": "white"
           },
           "yaxis": {
            "backgroundcolor": "#E5ECF6",
            "gridcolor": "white",
            "gridwidth": 2,
            "linecolor": "white",
            "showbackground": true,
            "ticks": "",
            "zerolinecolor": "white"
           },
           "zaxis": {
            "backgroundcolor": "#E5ECF6",
            "gridcolor": "white",
            "gridwidth": 2,
            "linecolor": "white",
            "showbackground": true,
            "ticks": "",
            "zerolinecolor": "white"
           }
          },
          "shapedefaults": {
           "line": {
            "color": "#2a3f5f"
           }
          },
          "ternary": {
           "aaxis": {
            "gridcolor": "white",
            "linecolor": "white",
            "ticks": ""
           },
           "baxis": {
            "gridcolor": "white",
            "linecolor": "white",
            "ticks": ""
           },
           "bgcolor": "#E5ECF6",
           "caxis": {
            "gridcolor": "white",
            "linecolor": "white",
            "ticks": ""
           }
          },
          "title": {
           "x": 0.05
          },
          "xaxis": {
           "automargin": true,
           "gridcolor": "white",
           "linecolor": "white",
           "ticks": "",
           "title": {
            "standoff": 15
           },
           "zerolinecolor": "white",
           "zerolinewidth": 2
          },
          "yaxis": {
           "automargin": true,
           "gridcolor": "white",
           "linecolor": "white",
           "ticks": "",
           "title": {
            "standoff": 15
           },
           "zerolinecolor": "white",
           "zerolinewidth": 2
          }
         }
        },
        "title": {
         "text": "Plot of daily ROI's with rolling average over 60 days"
        },
        "xaxis": {
         "anchor": "y",
         "domain": [
          0,
          1
         ],
         "title": {
          "text": "date"
         }
        },
        "yaxis": {
         "anchor": "x",
         "domain": [
          0,
          1
         ],
         "title": {
          "text": "value"
         }
        }
       }
      }
     },
     "metadata": {},
     "output_type": "display_data"
    }
   ],
   "source": [
    "# 60 days\n",
    "fig = px.line(roi_plot, x=roi_plot.index, y=['daily_roi_social', 'rolling_avg_social_60', 'daily_roi_ppc', 'rolling_avg_ppc_60'], title=\"Plot of daily ROI's with rolling average over 60 days\")\n",
    "fig.show()"
   ]
  },
  {
   "cell_type": "code",
   "execution_count": null,
   "id": "13350e21",
   "metadata": {},
   "outputs": [],
   "source": []
  }
 ],
 "metadata": {
  "kernelspec": {
   "display_name": "Python 3",
   "language": "python",
   "name": "python3"
  },
  "language_info": {
   "codemirror_mode": {
    "name": "ipython",
    "version": 3
   },
   "file_extension": ".py",
   "mimetype": "text/x-python",
   "name": "python",
   "nbconvert_exporter": "python",
   "pygments_lexer": "ipython3",
   "version": "3.12.1"
  }
 },
 "nbformat": 4,
 "nbformat_minor": 5
}
